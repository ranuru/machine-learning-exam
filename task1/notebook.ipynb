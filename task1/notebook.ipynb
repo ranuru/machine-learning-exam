{
 "cells": [
  {
   "cell_type": "markdown",
   "metadata": {},
   "source": [
    "# **INFO284 Machine Learning Exam, spring 2025**\n",
    "## **Task 1 - Sentiment analysis**"
   ]
  },
  {
   "cell_type": "markdown",
   "metadata": {},
   "source": [
    "# **Load data**"
   ]
  },
  {
   "cell_type": "code",
   "execution_count": null,
   "metadata": {},
   "outputs": [
    {
     "name": "stdout",
     "output_type": "stream",
     "text": [
      "count    515738.000000\n",
      "mean          8.395077\n",
      "std           1.637856\n",
      "min           2.500000\n",
      "25%           7.500000\n",
      "50%           8.800000\n",
      "75%           9.600000\n",
      "max          10.000000\n",
      "Name: Reviewer_Score, dtype: float64\n",
      "115853\n"
     ]
    },
    {
     "data": {
      "image/png": "[encoded data removed]",
      "text/plain": [
       "<Figure size 640x480 with 1 Axes>"
      ]
     },
     "metadata": {},
     "output_type": "display_data"
    }
   ],
   "source": [
    "import pandas as pd\n",
    "\n",
    "# Read the data into a data frame (pandas) from the csv file\n",
    "df = pd.read_csv('dataset/Hotel_Reviews.csv')\n",
    "\n",
    "df.head() # show a overview of the data in the dataset\n",
    "\n"
   ]
  },
  {
   "cell_type": "markdown",
   "metadata": {},
   "source": [
    "# Overview of the data"
   ]
  },
  {
   "cell_type": "code",
   "execution_count": null,
   "metadata": {},
   "outputs": [],
   "source": [
    "print(df['Reviewer_Score'].describe()) # show the statistics of the 'Reviewer_Score' column\n",
    "# make a histogram of the 'Reviewer_Score' column\n",
    "df['Reviewer_Score'].hist(bins=20) # 20 bins\n",
    "\n",
    "# print the number of 10.0 scores \n",
    "print(df[df['Reviewer_Score'] == 10.0].shape[0])"
   ]
  },
  {
   "cell_type": "markdown",
   "metadata": {},
   "source": [
    "# CLEANING THE DATA"
   ]
  },
  {
   "cell_type": "code",
   "execution_count": null,
   "metadata": {},
   "outputs": [
    {
     "data": {
      "text/html": [
       "<div>\n",
       "<style scoped>\n",
       "    .dataframe tbody tr th:only-of-type {\n",
       "        vertical-align: middle;\n",
       "    }\n",
       "\n",
       "    .dataframe tbody tr th {\n",
       "        vertical-align: top;\n",
       "    }\n",
       "\n",
       "    .dataframe thead th {\n",
       "        text-align: right;\n",
       "    }\n",
       "</style>\n",
       "<table border=\"1\" class=\"dataframe\">\n",
       "  <thead>\n",
       "    <tr style=\"text-align: right;\">\n",
       "      <th></th>\n",
       "      <th>Review</th>\n",
       "      <th>Review_Total_Negative_Word_Counts</th>\n",
       "      <th>Review_Total_Positive_Word_Counts</th>\n",
       "      <th>Reviewer_Score</th>\n",
       "    </tr>\n",
       "  </thead>\n",
       "  <tbody>\n",
       "    <tr>\n",
       "      <th>0</th>\n",
       "      <td>I am so angry that i made this post available...</td>\n",
       "      <td>397</td>\n",
       "      <td>11</td>\n",
       "      <td>2.9</td>\n",
       "    </tr>\n",
       "    <tr>\n",
       "      <th>1</th>\n",
       "      <td>No real complaints the hotel was great great...</td>\n",
       "      <td>0</td>\n",
       "      <td>105</td>\n",
       "      <td>7.5</td>\n",
       "    </tr>\n",
       "    <tr>\n",
       "      <th>2</th>\n",
       "      <td>Rooms are nice but for elderly a bit difficul...</td>\n",
       "      <td>42</td>\n",
       "      <td>21</td>\n",
       "      <td>7.1</td>\n",
       "    </tr>\n",
       "    <tr>\n",
       "      <th>3</th>\n",
       "      <td>My room was dirty and I was afraid to walk ba...</td>\n",
       "      <td>210</td>\n",
       "      <td>26</td>\n",
       "      <td>3.8</td>\n",
       "    </tr>\n",
       "    <tr>\n",
       "      <th>4</th>\n",
       "      <td>You When I booked with your company on line y...</td>\n",
       "      <td>140</td>\n",
       "      <td>8</td>\n",
       "      <td>6.7</td>\n",
       "    </tr>\n",
       "  </tbody>\n",
       "</table>\n",
       "</div>"
      ],
      "text/plain": [
       "                                              Review  \\\n",
       "0   I am so angry that i made this post available...   \n",
       "1    No real complaints the hotel was great great...   \n",
       "2   Rooms are nice but for elderly a bit difficul...   \n",
       "3   My room was dirty and I was afraid to walk ba...   \n",
       "4   You When I booked with your company on line y...   \n",
       "\n",
       "   Review_Total_Negative_Word_Counts  Review_Total_Positive_Word_Counts  \\\n",
       "0                                397                                 11   \n",
       "1                                  0                                105   \n",
       "2                                 42                                 21   \n",
       "3                                210                                 26   \n",
       "4                                140                                  8   \n",
       "\n",
       "   Reviewer_Score  \n",
       "0             2.9  \n",
       "1             7.5  \n",
       "2             7.1  \n",
       "3             3.8  \n",
       "4             6.7  "
      ]
     },
     "execution_count": 7,
     "metadata": {},
     "output_type": "execute_result"
    }
   ],
   "source": [
    "\n",
    "# remove 'No Negative' and 'No Positive' from the reviews\n",
    "df['Negative_Review'] = df['Negative_Review'].apply(lambda x: x.replace('No Negative', ''))\n",
    "df['Positive_Review'] = df['Positive_Review'].apply(lambda x: x.replace('No Positive', ''))\n",
    "\n",
    "# merge the two review columns into one\n",
    "df['Review'] = df['Negative_Review'] + ' ' + df['Positive_Review']\n",
    "\n",
    "# the target columns are Negative_Review and Positive_Review\n",
    "df = df[[ 'Review', 'Review_Total_Negative_Word_Counts', 'Review_Total_Positive_Word_Counts', 'Reviewer_Score']] # select only the columns we need\n",
    "\n",
    "# remove rows with missing values\n",
    "df = df.dropna()\n",
    "\n",
    "df.head() # show a overview of the data in the dataset"
   ]
  },
  {
   "cell_type": "markdown",
   "metadata": {},
   "source": [
    "# Observasjon:\n",
    "\n",
    "- Kan være nyttig å ta hensyn til forskjeller i antall negative ord og positive ord i en review. Merk at dette ikke er entydig siden det er tydelige eksempler på reviews med 2x negative ord som positive ord, men fortsatt har en relativt høy score (f.eks 7.1). Her må vi enten ta et valg om å fjerne slike rader eller være strenge på hva en positiv review er.\n",
    "- Vi har en ekstrem overvekt av reviews med en score på 10.0. (115 000 ca). "
   ]
  },
  {
   "cell_type": "markdown",
   "metadata": {},
   "source": [
    "# **TODO**"
   ]
  },
  {
   "cell_type": "markdown",
   "metadata": {},
   "source": [
    "**Dataset exploration and preprocessing**\n",
    "* find relevant columns\n",
    "* check the datatypes of the columns - convert if needed\n",
    "* check for missing values - handle missing values\n",
    "* check for duplicate rows\n",
    "* sjekke tekstlikhet (f.eks. nesten like setninger som kan være semantisk like).\n",
    "* check data distribution (class imbalance, length of text, etc.)\n",
    "  \n",
    "**Clean the Text Data: - text preprocessing**\n",
    "* lowercase text\n",
    "* Remove Noise: special characters, numbers, punctuation, URLs, HTML tags, Emojis, extra whitespace, etc.\n",
    "* Tokenization: Split text into words.\n",
    "* Stopword removal\n",
    "* Lemmatization/Stemming: gjøre begge men vise og skrive litt tekst ish: \"stemming vises her men åpenbart er lemmatization bedre...:\"\n",
    "\n",
    "**Convert Text into Numerical Representation**\n",
    "* Vectorization of the text - TFIDF greiene, bag of words osv\n",
    "* prøv ulike måter\n",
    "* Bag of Words (BoW): Convert text into a numerical representation using word frequency.\n",
    "* TF-IDF (Term Frequency-Inverse Document Frequency): Weigh words based on their importance in the dataset.\n",
    "* Word Embeddings: Use pre-trained models like Word2Vec, GloVe, or FastText for contextual meaning.\n",
    "\n",
    "**Splitting Data for Training and Testing**\n",
    "* Try different data splits (70/30) etc.\n",
    "\n",
    "**Model Selection & Training**\n",
    "* Prøv å justere parametre\n",
    "\n",
    "**Evaluating models**\n",
    "* Use multiple metrics, not just accuracy (e.g., F1-score, precision-recall)\n",
    "* Confusion matrix analysis (to see misclassified examples)"
   ]
  }
 ],
 "metadata": {
  "kernelspec": {
   "display_name": "base",
   "language": "python",
   "name": "python3"
  },
  "language_info": {
   "codemirror_mode": {
    "name": "ipython",
    "version": 3
   },
   "file_extension": ".py",
   "mimetype": "text/x-python",
   "name": "python",
   "nbconvert_exporter": "python",
   "pygments_lexer": "ipython3",
   "version": "3.12.7"
  }
 },
 "nbformat": 4,
 "nbformat_minor": 2
}
