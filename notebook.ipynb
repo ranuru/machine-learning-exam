{
 "cells": [
  {
   "cell_type": "markdown",
   "metadata": {},
   "source": [
    "# **INFO284 Machine Learning Exam, spring 2025**"
   ]
  },
  {
   "cell_type": "markdown",
   "metadata": {},
   "source": [
    "# **Load data**\n",
    "\n",
    "import pandas as pd\n",
    "\n",
    "# Read the data into a data frame (pandas) from the csv file\n",
    "df = pd.read_csv('Hotel_Reviews.csv')\n",
    "\n",
    "df.head() # show a overview of the data in the dataset"
   ]
  }
 ],
 "metadata": {
  "language_info": {
   "name": "python"
  }
 },
 "nbformat": 4,
 "nbformat_minor": 2
}
