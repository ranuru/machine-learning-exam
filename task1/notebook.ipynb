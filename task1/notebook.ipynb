{
 "cells": [
  {
   "cell_type": "markdown",
   "metadata": {},
   "source": [
    "# **INFO284 Machine Learning Exam, spring 2025**\n"
   ]
  },
  {
   "cell_type": "markdown",
   "metadata": {},
   "source": [
    "# **Task 1 - Sentiment analysis**"
   ]
  },
  {
   "cell_type": "markdown",
   "metadata": {},
   "source": [
    "## **Task Description**"
   ]
  },
  {
   "cell_type": "markdown",
   "metadata": {},
   "source": [
    "In task 1 of this notebook we are going to perform a sentiment analysis of hotel reviews. We are going to build 4 different machine learning models to predict and classify the sentiment of the reviews (positive or negative). The notebook is ordered in different sections, where we first load the data, explore the dataset to gain an understanding of it, perform data cleaning and preprocessing, feature extraction, and finally build and evaluate the machine learning models."
   ]
  },
  {
   "cell_type": "markdown",
   "metadata": {},
   "source": [
    "## **Importing necessary libraries**"
   ]
  },
  {
   "cell_type": "code",
   "execution_count": 151,
   "metadata": {},
   "outputs": [],
   "source": [
    "import pandas as pd\n",
    "import seaborn as sns\n",
    "import matplotlib.pyplot as plt\n",
    "import numpy as np\n",
    "import re\n",
    "import string\n",
    "\n",
    "from nltk.corpus import stopwords\n",
    "from nltk.stem import WordNetLemmatizer\n",
    "from nltk.sentiment.vader import SentimentIntensityAnalyzer\n",
    "\n",
    "from sklearn.model_selection import train_test_split, KFold, GridSearchCV, StratifiedKFold\n",
    "from sklearn.feature_extraction.text import TfidfVectorizer\n",
    "from sklearn.pipeline import make_pipeline\n",
    "from sklearn.naive_bayes import MultinomialNB, ComplementNB\n",
    "from sklearn.svm import SVC\n",
    "from sklearn.metrics import (\n",
    "    accuracy_score, classification_report, confusion_matrix, \n",
    "    precision_recall_curve, average_precision_score, make_scorer, f1_score\n",
    ")\n",
    "import mglearn\n",
    "from random import randint\n",
    "\n",
    "from xgboost import XGBClassifier\n",
    "from sklearn.model_selection import RandomizedSearchCV\n",
    "import time\n",
    "\n",
    "\n",
    "from tensorflow.keras.preprocessing.text import Tokenizer\n",
    "from tensorflow.keras.preprocessing.sequence import pad_sequences\n",
    "from tensorflow.keras.models import Sequential\n",
    "from tensorflow.keras.layers import LSTM, Dense, Dropout, Embedding\n",
    "import keras_tuner as kt\n",
    "from scikeras.wrappers import KerasClassifier"
   ]
  },
  {
   "cell_type": "markdown",
   "metadata": {},
   "source": [
    "## **Helper functions**"
   ]
  },
  {
   "cell_type": "markdown",
   "metadata": {},
   "source": [
    "This section contains helper functions that will be used throughout the notebook, spesifically for visualizing the data and the models."
   ]
  },
  {
   "cell_type": "markdown",
   "metadata": {},
   "source": [
    "### **Helper function for heatmap visualization**"
   ]
  },
  {
   "cell_type": "code",
   "execution_count": 117,
   "metadata": {},
   "outputs": [],
   "source": [
    "def plot_gridsearch_heatmap(grid, param_grid, x_param, y_param, score_metric='mean_test_score', cmap='viridis'):\n",
    "    n_x = len(param_grid[x_param])\n",
    "    n_y = len(param_grid[y_param])\n",
    "\n",
    "    scores = np.array(grid.cv_results_[score_metric][:n_x * n_y]).reshape(n_y, n_x)\n",
    "\n",
    "    plt.figure(figsize=(10, 6))\n",
    "    sns.heatmap(scores, annot=True, fmt=\".3f\", \n",
    "                xticklabels=param_grid[x_param], \n",
    "                yticklabels=param_grid[y_param], \n",
    "                cmap=cmap)\n",
    "    \n",
    "    plt.xlabel(x_param.split('__')[-1]) \n",
    "    plt.ylabel(y_param.split('__')[-1])\n",
    "    plt.title(f\"Heatmap of GridSearch {score_metric}\")\n",
    "    plt.show()"
   ]
  },
  {
   "cell_type": "markdown",
   "metadata": {},
   "source": [
    "### **Helper function for Precision-Recall curve visualization**"
   ]
  },
  {
   "cell_type": "code",
   "execution_count": 118,
   "metadata": {},
   "outputs": [],
   "source": [
    "def plot_precision_recall_curve(y_test, y_scores, sentiment):\n",
    "    precision, recall, _ = precision_recall_curve(y_test, y_scores)\n",
    "    ap_score = average_precision_score(y_test, y_scores)\n",
    "    \n",
    "    plt.figure(figsize=(8, 6))\n",
    "    plt.plot(recall, precision, marker='.', label=f'AP Score = {ap_score:.2f}')\n",
    "    plt.xlabel('Recall')\n",
    "    plt.ylabel('Precision')\n",
    "    plt.title(f'Precision-Recall Curve for {sentiment} sentiment')\n",
    "    plt.legend()\n",
    "    plt.show()"
   ]
  },
  {
   "cell_type": "markdown",
   "metadata": {},
   "source": [
    "### **Helper function for visualizing the top features that are most indicative of positive and negative sentiment of reviews**"
   ]
  },
  {
   "cell_type": "code",
   "execution_count": 119,
   "metadata": {},
   "outputs": [],
   "source": [
    "def visualize_top_features(grid, X_train, classifier_step, vectorizer_step=\"tfidfvectorizer\", n_features=20, n_top_coef=40):\n",
    "    \n",
    "    # Extract the best vectorizer and transform training data\n",
    "    vectorizer = grid.best_estimator_.named_steps[vectorizer_step]\n",
    "    X_train_transformed = vectorizer.transform(X_train)\n",
    "\n",
    "    # Compute max TF-IDF value for each feature\n",
    "    max_value = X_train_transformed.max(axis=0).toarray().ravel()\n",
    "    sorted_by_tfidf = max_value.argsort()\n",
    "\n",
    "    # Get feature names\n",
    "    feature_names = np.array(vectorizer.get_feature_names_out())\n",
    "\n",
    "    # Print features with lowest and highest TF-IDF values\n",
    "    print(\"Features with lowest TF-IDF:\\n{}\".format(feature_names[sorted_by_tfidf[:n_features]]))\n",
    "    print(\"\\nFeatures with highest TF-IDF:\\n{}\".format(feature_names[sorted_by_tfidf[-n_features:]]))\n",
    "\n",
    "    # Extract log probabilities from the classifier\n",
    "    classifier = grid.best_estimator_.named_steps[classifier_step]\n",
    "    log_probabilities = classifier.feature_log_prob_\n",
    "\n",
    "    # Compute coefficient differences (importance per class)\n",
    "    coef_diff = log_probabilities[1] - log_probabilities[0]\n",
    "\n",
    "    # Visualize the top coefficients\n",
    "    mglearn.tools.visualize_coefficients(coef_diff, feature_names, n_top_features=n_top_coef)"
   ]
  },
  {
   "cell_type": "markdown",
   "metadata": {},
   "source": [
    "## **Load data**"
   ]
  },
  {
   "cell_type": "code",
   "execution_count": 120,
   "metadata": {},
   "outputs": [
    {
     "data": {
      "text/html": [
       "<div>\n",
       "<style scoped>\n",
       "    .dataframe tbody tr th:only-of-type {\n",
       "        vertical-align: middle;\n",
       "    }\n",
       "\n",
       "    .dataframe tbody tr th {\n",
       "        vertical-align: top;\n",
       "    }\n",
       "\n",
       "    .dataframe thead th {\n",
       "        text-align: right;\n",
       "    }\n",
       "</style>\n",
       "<table border=\"1\" class=\"dataframe\">\n",
       "  <thead>\n",
       "    <tr style=\"text-align: right;\">\n",
       "      <th></th>\n",
       "      <th>Hotel_Address</th>\n",
       "      <th>Additional_Number_of_Scoring</th>\n",
       "      <th>Review_Date</th>\n",
       "      <th>Average_Score</th>\n",
       "      <th>Hotel_Name</th>\n",
       "      <th>Reviewer_Nationality</th>\n",
       "      <th>Negative_Review</th>\n",
       "      <th>Review_Total_Negative_Word_Counts</th>\n",
       "      <th>Total_Number_of_Reviews</th>\n",
       "      <th>Positive_Review</th>\n",
       "      <th>Review_Total_Positive_Word_Counts</th>\n",
       "      <th>Total_Number_of_Reviews_Reviewer_Has_Given</th>\n",
       "      <th>Reviewer_Score</th>\n",
       "      <th>Tags</th>\n",
       "      <th>days_since_review</th>\n",
       "      <th>lat</th>\n",
       "      <th>lng</th>\n",
       "    </tr>\n",
       "  </thead>\n",
       "  <tbody>\n",
       "    <tr>\n",
       "      <th>0</th>\n",
       "      <td>s Gravesandestraat 55 Oost 1092 AA Amsterdam ...</td>\n",
       "      <td>194</td>\n",
       "      <td>8/3/2017</td>\n",
       "      <td>7.7</td>\n",
       "      <td>Hotel Arena</td>\n",
       "      <td>Russia</td>\n",
       "      <td>I am so angry that i made this post available...</td>\n",
       "      <td>397</td>\n",
       "      <td>1403</td>\n",
       "      <td>Only the park outside of the hotel was beauti...</td>\n",
       "      <td>11</td>\n",
       "      <td>7</td>\n",
       "      <td>2.9</td>\n",
       "      <td>[' Leisure trip ', ' Couple ', ' Duplex Double...</td>\n",
       "      <td>0 days</td>\n",
       "      <td>52.360576</td>\n",
       "      <td>4.915968</td>\n",
       "    </tr>\n",
       "    <tr>\n",
       "      <th>1</th>\n",
       "      <td>s Gravesandestraat 55 Oost 1092 AA Amsterdam ...</td>\n",
       "      <td>194</td>\n",
       "      <td>8/3/2017</td>\n",
       "      <td>7.7</td>\n",
       "      <td>Hotel Arena</td>\n",
       "      <td>Ireland</td>\n",
       "      <td>No Negative</td>\n",
       "      <td>0</td>\n",
       "      <td>1403</td>\n",
       "      <td>No real complaints the hotel was great great ...</td>\n",
       "      <td>105</td>\n",
       "      <td>7</td>\n",
       "      <td>7.5</td>\n",
       "      <td>[' Leisure trip ', ' Couple ', ' Duplex Double...</td>\n",
       "      <td>0 days</td>\n",
       "      <td>52.360576</td>\n",
       "      <td>4.915968</td>\n",
       "    </tr>\n",
       "    <tr>\n",
       "      <th>2</th>\n",
       "      <td>s Gravesandestraat 55 Oost 1092 AA Amsterdam ...</td>\n",
       "      <td>194</td>\n",
       "      <td>7/31/2017</td>\n",
       "      <td>7.7</td>\n",
       "      <td>Hotel Arena</td>\n",
       "      <td>Australia</td>\n",
       "      <td>Rooms are nice but for elderly a bit difficul...</td>\n",
       "      <td>42</td>\n",
       "      <td>1403</td>\n",
       "      <td>Location was good and staff were ok It is cut...</td>\n",
       "      <td>21</td>\n",
       "      <td>9</td>\n",
       "      <td>7.1</td>\n",
       "      <td>[' Leisure trip ', ' Family with young childre...</td>\n",
       "      <td>3 days</td>\n",
       "      <td>52.360576</td>\n",
       "      <td>4.915968</td>\n",
       "    </tr>\n",
       "    <tr>\n",
       "      <th>3</th>\n",
       "      <td>s Gravesandestraat 55 Oost 1092 AA Amsterdam ...</td>\n",
       "      <td>194</td>\n",
       "      <td>7/31/2017</td>\n",
       "      <td>7.7</td>\n",
       "      <td>Hotel Arena</td>\n",
       "      <td>United Kingdom</td>\n",
       "      <td>My room was dirty and I was afraid to walk ba...</td>\n",
       "      <td>210</td>\n",
       "      <td>1403</td>\n",
       "      <td>Great location in nice surroundings the bar a...</td>\n",
       "      <td>26</td>\n",
       "      <td>1</td>\n",
       "      <td>3.8</td>\n",
       "      <td>[' Leisure trip ', ' Solo traveler ', ' Duplex...</td>\n",
       "      <td>3 days</td>\n",
       "      <td>52.360576</td>\n",
       "      <td>4.915968</td>\n",
       "    </tr>\n",
       "    <tr>\n",
       "      <th>4</th>\n",
       "      <td>s Gravesandestraat 55 Oost 1092 AA Amsterdam ...</td>\n",
       "      <td>194</td>\n",
       "      <td>7/24/2017</td>\n",
       "      <td>7.7</td>\n",
       "      <td>Hotel Arena</td>\n",
       "      <td>New Zealand</td>\n",
       "      <td>You When I booked with your company on line y...</td>\n",
       "      <td>140</td>\n",
       "      <td>1403</td>\n",
       "      <td>Amazing location and building Romantic setting</td>\n",
       "      <td>8</td>\n",
       "      <td>3</td>\n",
       "      <td>6.7</td>\n",
       "      <td>[' Leisure trip ', ' Couple ', ' Suite ', ' St...</td>\n",
       "      <td>10 days</td>\n",
       "      <td>52.360576</td>\n",
       "      <td>4.915968</td>\n",
       "    </tr>\n",
       "  </tbody>\n",
       "</table>\n",
       "</div>"
      ],
      "text/plain": [
       "                                       Hotel_Address  \\\n",
       "0   s Gravesandestraat 55 Oost 1092 AA Amsterdam ...   \n",
       "1   s Gravesandestraat 55 Oost 1092 AA Amsterdam ...   \n",
       "2   s Gravesandestraat 55 Oost 1092 AA Amsterdam ...   \n",
       "3   s Gravesandestraat 55 Oost 1092 AA Amsterdam ...   \n",
       "4   s Gravesandestraat 55 Oost 1092 AA Amsterdam ...   \n",
       "\n",
       "   Additional_Number_of_Scoring Review_Date  Average_Score   Hotel_Name  \\\n",
       "0                           194    8/3/2017            7.7  Hotel Arena   \n",
       "1                           194    8/3/2017            7.7  Hotel Arena   \n",
       "2                           194   7/31/2017            7.7  Hotel Arena   \n",
       "3                           194   7/31/2017            7.7  Hotel Arena   \n",
       "4                           194   7/24/2017            7.7  Hotel Arena   \n",
       "\n",
       "  Reviewer_Nationality                                    Negative_Review  \\\n",
       "0              Russia    I am so angry that i made this post available...   \n",
       "1             Ireland                                         No Negative   \n",
       "2           Australia    Rooms are nice but for elderly a bit difficul...   \n",
       "3      United Kingdom    My room was dirty and I was afraid to walk ba...   \n",
       "4         New Zealand    You When I booked with your company on line y...   \n",
       "\n",
       "   Review_Total_Negative_Word_Counts  Total_Number_of_Reviews  \\\n",
       "0                                397                     1403   \n",
       "1                                  0                     1403   \n",
       "2                                 42                     1403   \n",
       "3                                210                     1403   \n",
       "4                                140                     1403   \n",
       "\n",
       "                                     Positive_Review  \\\n",
       "0   Only the park outside of the hotel was beauti...   \n",
       "1   No real complaints the hotel was great great ...   \n",
       "2   Location was good and staff were ok It is cut...   \n",
       "3   Great location in nice surroundings the bar a...   \n",
       "4    Amazing location and building Romantic setting    \n",
       "\n",
       "   Review_Total_Positive_Word_Counts  \\\n",
       "0                                 11   \n",
       "1                                105   \n",
       "2                                 21   \n",
       "3                                 26   \n",
       "4                                  8   \n",
       "\n",
       "   Total_Number_of_Reviews_Reviewer_Has_Given  Reviewer_Score  \\\n",
       "0                                           7             2.9   \n",
       "1                                           7             7.5   \n",
       "2                                           9             7.1   \n",
       "3                                           1             3.8   \n",
       "4                                           3             6.7   \n",
       "\n",
       "                                                Tags days_since_review  \\\n",
       "0  [' Leisure trip ', ' Couple ', ' Duplex Double...            0 days   \n",
       "1  [' Leisure trip ', ' Couple ', ' Duplex Double...            0 days   \n",
       "2  [' Leisure trip ', ' Family with young childre...            3 days   \n",
       "3  [' Leisure trip ', ' Solo traveler ', ' Duplex...            3 days   \n",
       "4  [' Leisure trip ', ' Couple ', ' Suite ', ' St...           10 days   \n",
       "\n",
       "         lat       lng  \n",
       "0  52.360576  4.915968  \n",
       "1  52.360576  4.915968  \n",
       "2  52.360576  4.915968  \n",
       "3  52.360576  4.915968  \n",
       "4  52.360576  4.915968  "
      ]
     },
     "execution_count": 120,
     "metadata": {},
     "output_type": "execute_result"
    }
   ],
   "source": [
    "df = pd.read_csv('dataset/Hotel_Reviews.csv')\n",
    "# Creating a copy of the dataframe to preserve the original data for visualization \n",
    "df_copy = pd.read_csv('dataset/Hotel_Reviews.csv')\n",
    "\n",
    "df.head()"
   ]
  },
  {
   "cell_type": "markdown",
   "metadata": {},
   "source": [
    "## **Exploring the dataset**"
   ]
  },
  {
   "cell_type": "markdown",
   "metadata": {},
   "source": [
    "### **Exploring the basic structure of the dataset**"
   ]
  },
  {
   "cell_type": "code",
   "execution_count": 121,
   "metadata": {},
   "outputs": [
    {
     "name": "stdout",
     "output_type": "stream",
     "text": [
      "<class 'pandas.core.frame.DataFrame'>\n",
      "RangeIndex: 515738 entries, 0 to 515737\n",
      "Data columns (total 17 columns):\n",
      " #   Column                                      Non-Null Count   Dtype  \n",
      "---  ------                                      --------------   -----  \n",
      " 0   Hotel_Address                               515738 non-null  object \n",
      " 1   Additional_Number_of_Scoring                515738 non-null  int64  \n",
      " 2   Review_Date                                 515738 non-null  object \n",
      " 3   Average_Score                               515738 non-null  float64\n",
      " 4   Hotel_Name                                  515738 non-null  object \n",
      " 5   Reviewer_Nationality                        515738 non-null  object \n",
      " 6   Negative_Review                             515738 non-null  object \n",
      " 7   Review_Total_Negative_Word_Counts           515738 non-null  int64  \n",
      " 8   Total_Number_of_Reviews                     515738 non-null  int64  \n",
      " 9   Positive_Review                             515738 non-null  object \n",
      " 10  Review_Total_Positive_Word_Counts           515738 non-null  int64  \n",
      " 11  Total_Number_of_Reviews_Reviewer_Has_Given  515738 non-null  int64  \n",
      " 12  Reviewer_Score                              515738 non-null  float64\n",
      " 13  Tags                                        515738 non-null  object \n",
      " 14  days_since_review                           515738 non-null  object \n",
      " 15  lat                                         512470 non-null  float64\n",
      " 16  lng                                         512470 non-null  float64\n",
      "dtypes: float64(4), int64(5), object(8)\n",
      "memory usage: 66.9+ MB\n"
     ]
    }
   ],
   "source": [
    "df.info()"
   ]
  },
  {
   "cell_type": "markdown",
   "metadata": {},
   "source": [
    "The cell above shows some info about the dataset. We can see that the dataset in total contains 515,738 rows (reviews) and 17 columns containing both numerical and categorical data. We can also observe that there are some missing values, specifically in the columns \"lat\" and \"lng\" where non-null count is 512,470 out of 515,738. This means there are 3,268 missing values in these columns. All other columns have no missing values, as indicated by the \"non-null\" count being the same as the total row count (515,738).\n",
    "\n",
    "For the sentiment analysis, we interpret the column Reviewer_Score as the most suitable label for the sentiment of the review. This is because the review score is a numerical value that can be used to classify the sentiment of the review as positive or negative. Assuming that higher numerical values reflect more positive reviews and lower scores reflect more negative reviews, we can use a threshold to classify reviews into \"positive\" or \"negative\" reviews. \n",
    " "
   ]
  },
  {
   "cell_type": "code",
   "execution_count": 122,
   "metadata": {},
   "outputs": [
    {
     "data": {
      "text/html": [
       "<div>\n",
       "<style scoped>\n",
       "    .dataframe tbody tr th:only-of-type {\n",
       "        vertical-align: middle;\n",
       "    }\n",
       "\n",
       "    .dataframe tbody tr th {\n",
       "        vertical-align: top;\n",
       "    }\n",
       "\n",
       "    .dataframe thead th {\n",
       "        text-align: right;\n",
       "    }\n",
       "</style>\n",
       "<table border=\"1\" class=\"dataframe\">\n",
       "  <thead>\n",
       "    <tr style=\"text-align: right;\">\n",
       "      <th></th>\n",
       "      <th>Hotel_Address</th>\n",
       "      <th>Additional_Number_of_Scoring</th>\n",
       "      <th>Review_Date</th>\n",
       "      <th>Average_Score</th>\n",
       "      <th>Hotel_Name</th>\n",
       "      <th>Reviewer_Nationality</th>\n",
       "      <th>Negative_Review</th>\n",
       "      <th>Review_Total_Negative_Word_Counts</th>\n",
       "      <th>Total_Number_of_Reviews</th>\n",
       "      <th>Positive_Review</th>\n",
       "      <th>Review_Total_Positive_Word_Counts</th>\n",
       "      <th>Total_Number_of_Reviews_Reviewer_Has_Given</th>\n",
       "      <th>Reviewer_Score</th>\n",
       "      <th>Tags</th>\n",
       "      <th>days_since_review</th>\n",
       "      <th>lat</th>\n",
       "      <th>lng</th>\n",
       "    </tr>\n",
       "  </thead>\n",
       "  <tbody>\n",
       "    <tr>\n",
       "      <th>99488</th>\n",
       "      <td>20 Rue De La Ga t 14th arr 75014 Paris France</td>\n",
       "      <td>22</td>\n",
       "      <td>8/3/2017</td>\n",
       "      <td>7.8</td>\n",
       "      <td>Mercure Paris Gare Montparnasse</td>\n",
       "      <td>Australia</td>\n",
       "      <td>No Negative</td>\n",
       "      <td>0</td>\n",
       "      <td>377</td>\n",
       "      <td>Upgraded rooms are excellent Good size for tr...</td>\n",
       "      <td>25</td>\n",
       "      <td>6</td>\n",
       "      <td>10.0</td>\n",
       "      <td>[' Leisure trip ', ' Couple ', ' Standard Room...</td>\n",
       "      <td>0 days</td>\n",
       "      <td>NaN</td>\n",
       "      <td>NaN</td>\n",
       "    </tr>\n",
       "    <tr>\n",
       "      <th>99489</th>\n",
       "      <td>20 Rue De La Ga t 14th arr 75014 Paris France</td>\n",
       "      <td>22</td>\n",
       "      <td>8/3/2017</td>\n",
       "      <td>7.8</td>\n",
       "      <td>Mercure Paris Gare Montparnasse</td>\n",
       "      <td>United Kingdom</td>\n",
       "      <td>Noise Not being told about this when we check...</td>\n",
       "      <td>12</td>\n",
       "      <td>377</td>\n",
       "      <td>The location was great However renovations we...</td>\n",
       "      <td>45</td>\n",
       "      <td>1</td>\n",
       "      <td>6.7</td>\n",
       "      <td>[' Leisure trip ', ' Couple ', ' Standard Room...</td>\n",
       "      <td>0 days</td>\n",
       "      <td>NaN</td>\n",
       "      <td>NaN</td>\n",
       "    </tr>\n",
       "    <tr>\n",
       "      <th>99490</th>\n",
       "      <td>20 Rue De La Ga t 14th arr 75014 Paris France</td>\n",
       "      <td>22</td>\n",
       "      <td>7/25/2017</td>\n",
       "      <td>7.8</td>\n",
       "      <td>Mercure Paris Gare Montparnasse</td>\n",
       "      <td>United States of America</td>\n",
       "      <td>Room was worn down One of the curtains did no...</td>\n",
       "      <td>43</td>\n",
       "      <td>377</td>\n",
       "      <td>Location was good</td>\n",
       "      <td>5</td>\n",
       "      <td>1</td>\n",
       "      <td>5.4</td>\n",
       "      <td>[' Leisure trip ', ' Solo traveler ', ' Standa...</td>\n",
       "      <td>9 days</td>\n",
       "      <td>NaN</td>\n",
       "      <td>NaN</td>\n",
       "    </tr>\n",
       "    <tr>\n",
       "      <th>99491</th>\n",
       "      <td>20 Rue De La Ga t 14th arr 75014 Paris France</td>\n",
       "      <td>22</td>\n",
       "      <td>6/22/2017</td>\n",
       "      <td>7.8</td>\n",
       "      <td>Mercure Paris Gare Montparnasse</td>\n",
       "      <td>Australia</td>\n",
       "      <td>Access to shower was by the tub which is very...</td>\n",
       "      <td>54</td>\n",
       "      <td>377</td>\n",
       "      <td>No Positive</td>\n",
       "      <td>0</td>\n",
       "      <td>13</td>\n",
       "      <td>8.3</td>\n",
       "      <td>[' Leisure trip ', ' Couple ', ' Standard Twin...</td>\n",
       "      <td>42 days</td>\n",
       "      <td>NaN</td>\n",
       "      <td>NaN</td>\n",
       "    </tr>\n",
       "    <tr>\n",
       "      <th>99492</th>\n",
       "      <td>20 Rue De La Ga t 14th arr 75014 Paris France</td>\n",
       "      <td>22</td>\n",
       "      <td>5/24/2017</td>\n",
       "      <td>7.8</td>\n",
       "      <td>Mercure Paris Gare Montparnasse</td>\n",
       "      <td>United States of America</td>\n",
       "      <td>The breakfast was way over priced and the sta...</td>\n",
       "      <td>83</td>\n",
       "      <td>377</td>\n",
       "      <td>The property was conveniently located near th...</td>\n",
       "      <td>11</td>\n",
       "      <td>2</td>\n",
       "      <td>5.8</td>\n",
       "      <td>[' Leisure trip ', ' Couple ', ' Standard Room...</td>\n",
       "      <td>71 days</td>\n",
       "      <td>NaN</td>\n",
       "      <td>NaN</td>\n",
       "    </tr>\n",
       "    <tr>\n",
       "      <th>99493</th>\n",
       "      <td>20 Rue De La Ga t 14th arr 75014 Paris France</td>\n",
       "      <td>22</td>\n",
       "      <td>5/5/2017</td>\n",
       "      <td>7.8</td>\n",
       "      <td>Mercure Paris Gare Montparnasse</td>\n",
       "      <td>Belgium</td>\n",
       "      <td>Work in progress noise no bar keys had to be ...</td>\n",
       "      <td>39</td>\n",
       "      <td>377</td>\n",
       "      <td>Comfort</td>\n",
       "      <td>2</td>\n",
       "      <td>3</td>\n",
       "      <td>5.0</td>\n",
       "      <td>[' Leisure trip ', ' Family with young childre...</td>\n",
       "      <td>90 days</td>\n",
       "      <td>NaN</td>\n",
       "      <td>NaN</td>\n",
       "    </tr>\n",
       "    <tr>\n",
       "      <th>99494</th>\n",
       "      <td>20 Rue De La Ga t 14th arr 75014 Paris France</td>\n",
       "      <td>22</td>\n",
       "      <td>2/11/2017</td>\n",
       "      <td>7.8</td>\n",
       "      <td>Mercure Paris Gare Montparnasse</td>\n",
       "      <td>United Kingdom</td>\n",
       "      <td>Max price for the bare minimum Acor Hotels ca...</td>\n",
       "      <td>67</td>\n",
       "      <td>377</td>\n",
       "      <td>Few minutes walk to Ga t Metro Montparnasse M...</td>\n",
       "      <td>46</td>\n",
       "      <td>20</td>\n",
       "      <td>5.8</td>\n",
       "      <td>[' Business trip ', ' Couple ', ' Standard Roo...</td>\n",
       "      <td>173 day</td>\n",
       "      <td>NaN</td>\n",
       "      <td>NaN</td>\n",
       "    </tr>\n",
       "    <tr>\n",
       "      <th>99495</th>\n",
       "      <td>20 Rue De La Ga t 14th arr 75014 Paris France</td>\n",
       "      <td>22</td>\n",
       "      <td>12/5/2016</td>\n",
       "      <td>7.8</td>\n",
       "      <td>Mercure Paris Gare Montparnasse</td>\n",
       "      <td>United Kingdom</td>\n",
       "      <td>Ongoing refurbishment whilst we were there</td>\n",
       "      <td>8</td>\n",
       "      <td>377</td>\n",
       "      <td>Very quiet at night couldn t believe we were ...</td>\n",
       "      <td>21</td>\n",
       "      <td>1</td>\n",
       "      <td>8.8</td>\n",
       "      <td>[' Leisure trip ', ' Couple ', ' Standard Room...</td>\n",
       "      <td>241 day</td>\n",
       "      <td>NaN</td>\n",
       "      <td>NaN</td>\n",
       "    </tr>\n",
       "    <tr>\n",
       "      <th>99496</th>\n",
       "      <td>20 Rue De La Ga t 14th arr 75014 Paris France</td>\n",
       "      <td>22</td>\n",
       "      <td>10/30/2016</td>\n",
       "      <td>7.8</td>\n",
       "      <td>Mercure Paris Gare Montparnasse</td>\n",
       "      <td>France</td>\n",
       "      <td>We took a room for 3 the extra bed couch bed ...</td>\n",
       "      <td>23</td>\n",
       "      <td>377</td>\n",
       "      <td>Great location 5 min away from gare montparna...</td>\n",
       "      <td>32</td>\n",
       "      <td>34</td>\n",
       "      <td>8.3</td>\n",
       "      <td>[' Leisure trip ', ' Family with young childre...</td>\n",
       "      <td>277 day</td>\n",
       "      <td>NaN</td>\n",
       "      <td>NaN</td>\n",
       "    </tr>\n",
       "    <tr>\n",
       "      <th>99497</th>\n",
       "      <td>20 Rue De La Ga t 14th arr 75014 Paris France</td>\n",
       "      <td>22</td>\n",
       "      <td>10/11/2016</td>\n",
       "      <td>7.8</td>\n",
       "      <td>Mercure Paris Gare Montparnasse</td>\n",
       "      <td>United States of America</td>\n",
       "      <td>N A Room lacking microwave a minor inconvenie...</td>\n",
       "      <td>10</td>\n",
       "      <td>377</td>\n",
       "      <td>Great neighborhood with lots of restaurants s...</td>\n",
       "      <td>22</td>\n",
       "      <td>1</td>\n",
       "      <td>10.0</td>\n",
       "      <td>[' Leisure trip ', ' Couple ', ' Standard Room...</td>\n",
       "      <td>296 day</td>\n",
       "      <td>NaN</td>\n",
       "      <td>NaN</td>\n",
       "    </tr>\n",
       "  </tbody>\n",
       "</table>\n",
       "</div>"
      ],
      "text/plain": [
       "                                       Hotel_Address  \\\n",
       "99488  20 Rue De La Ga t 14th arr 75014 Paris France   \n",
       "99489  20 Rue De La Ga t 14th arr 75014 Paris France   \n",
       "99490  20 Rue De La Ga t 14th arr 75014 Paris France   \n",
       "99491  20 Rue De La Ga t 14th arr 75014 Paris France   \n",
       "99492  20 Rue De La Ga t 14th arr 75014 Paris France   \n",
       "99493  20 Rue De La Ga t 14th arr 75014 Paris France   \n",
       "99494  20 Rue De La Ga t 14th arr 75014 Paris France   \n",
       "99495  20 Rue De La Ga t 14th arr 75014 Paris France   \n",
       "99496  20 Rue De La Ga t 14th arr 75014 Paris France   \n",
       "99497  20 Rue De La Ga t 14th arr 75014 Paris France   \n",
       "\n",
       "       Additional_Number_of_Scoring Review_Date  Average_Score  \\\n",
       "99488                            22    8/3/2017            7.8   \n",
       "99489                            22    8/3/2017            7.8   \n",
       "99490                            22   7/25/2017            7.8   \n",
       "99491                            22   6/22/2017            7.8   \n",
       "99492                            22   5/24/2017            7.8   \n",
       "99493                            22    5/5/2017            7.8   \n",
       "99494                            22   2/11/2017            7.8   \n",
       "99495                            22   12/5/2016            7.8   \n",
       "99496                            22  10/30/2016            7.8   \n",
       "99497                            22  10/11/2016            7.8   \n",
       "\n",
       "                            Hotel_Name        Reviewer_Nationality  \\\n",
       "99488  Mercure Paris Gare Montparnasse                  Australia    \n",
       "99489  Mercure Paris Gare Montparnasse             United Kingdom    \n",
       "99490  Mercure Paris Gare Montparnasse   United States of America    \n",
       "99491  Mercure Paris Gare Montparnasse                  Australia    \n",
       "99492  Mercure Paris Gare Montparnasse   United States of America    \n",
       "99493  Mercure Paris Gare Montparnasse                    Belgium    \n",
       "99494  Mercure Paris Gare Montparnasse             United Kingdom    \n",
       "99495  Mercure Paris Gare Montparnasse             United Kingdom    \n",
       "99496  Mercure Paris Gare Montparnasse                     France    \n",
       "99497  Mercure Paris Gare Montparnasse   United States of America    \n",
       "\n",
       "                                         Negative_Review  \\\n",
       "99488                                        No Negative   \n",
       "99489   Noise Not being told about this when we check...   \n",
       "99490   Room was worn down One of the curtains did no...   \n",
       "99491   Access to shower was by the tub which is very...   \n",
       "99492   The breakfast was way over priced and the sta...   \n",
       "99493   Work in progress noise no bar keys had to be ...   \n",
       "99494   Max price for the bare minimum Acor Hotels ca...   \n",
       "99495        Ongoing refurbishment whilst we were there    \n",
       "99496   We took a room for 3 the extra bed couch bed ...   \n",
       "99497   N A Room lacking microwave a minor inconvenie...   \n",
       "\n",
       "       Review_Total_Negative_Word_Counts  Total_Number_of_Reviews  \\\n",
       "99488                                  0                      377   \n",
       "99489                                 12                      377   \n",
       "99490                                 43                      377   \n",
       "99491                                 54                      377   \n",
       "99492                                 83                      377   \n",
       "99493                                 39                      377   \n",
       "99494                                 67                      377   \n",
       "99495                                  8                      377   \n",
       "99496                                 23                      377   \n",
       "99497                                 10                      377   \n",
       "\n",
       "                                         Positive_Review  \\\n",
       "99488   Upgraded rooms are excellent Good size for tr...   \n",
       "99489   The location was great However renovations we...   \n",
       "99490                                 Location was good    \n",
       "99491                                        No Positive   \n",
       "99492   The property was conveniently located near th...   \n",
       "99493                                            Comfort   \n",
       "99494   Few minutes walk to Ga t Metro Montparnasse M...   \n",
       "99495   Very quiet at night couldn t believe we were ...   \n",
       "99496   Great location 5 min away from gare montparna...   \n",
       "99497   Great neighborhood with lots of restaurants s...   \n",
       "\n",
       "       Review_Total_Positive_Word_Counts  \\\n",
       "99488                                 25   \n",
       "99489                                 45   \n",
       "99490                                  5   \n",
       "99491                                  0   \n",
       "99492                                 11   \n",
       "99493                                  2   \n",
       "99494                                 46   \n",
       "99495                                 21   \n",
       "99496                                 32   \n",
       "99497                                 22   \n",
       "\n",
       "       Total_Number_of_Reviews_Reviewer_Has_Given  Reviewer_Score  \\\n",
       "99488                                           6            10.0   \n",
       "99489                                           1             6.7   \n",
       "99490                                           1             5.4   \n",
       "99491                                          13             8.3   \n",
       "99492                                           2             5.8   \n",
       "99493                                           3             5.0   \n",
       "99494                                          20             5.8   \n",
       "99495                                           1             8.8   \n",
       "99496                                          34             8.3   \n",
       "99497                                           1            10.0   \n",
       "\n",
       "                                                    Tags days_since_review  \\\n",
       "99488  [' Leisure trip ', ' Couple ', ' Standard Room...            0 days   \n",
       "99489  [' Leisure trip ', ' Couple ', ' Standard Room...            0 days   \n",
       "99490  [' Leisure trip ', ' Solo traveler ', ' Standa...            9 days   \n",
       "99491  [' Leisure trip ', ' Couple ', ' Standard Twin...           42 days   \n",
       "99492  [' Leisure trip ', ' Couple ', ' Standard Room...           71 days   \n",
       "99493  [' Leisure trip ', ' Family with young childre...           90 days   \n",
       "99494  [' Business trip ', ' Couple ', ' Standard Roo...           173 day   \n",
       "99495  [' Leisure trip ', ' Couple ', ' Standard Room...           241 day   \n",
       "99496  [' Leisure trip ', ' Family with young childre...           277 day   \n",
       "99497  [' Leisure trip ', ' Couple ', ' Standard Room...           296 day   \n",
       "\n",
       "       lat  lng  \n",
       "99488  NaN  NaN  \n",
       "99489  NaN  NaN  \n",
       "99490  NaN  NaN  \n",
       "99491  NaN  NaN  \n",
       "99492  NaN  NaN  \n",
       "99493  NaN  NaN  \n",
       "99494  NaN  NaN  \n",
       "99495  NaN  NaN  \n",
       "99496  NaN  NaN  \n",
       "99497  NaN  NaN  "
      ]
     },
     "execution_count": 122,
     "metadata": {},
     "output_type": "execute_result"
    }
   ],
   "source": [
    "df[df['lat'].isna()].head(10)"
   ]
  },
  {
   "cell_type": "markdown",
   "metadata": {},
   "source": [
    "In the cell above, we check the first 10 rows of the dataset that contain NaN values in the lat columns, to check for any discrepancies in the data. As nothing stands out as strange in the reviews with missing values in the lat column, we do nothing, but also check (see cell below), just to be safe, that there are no rows with only NaN values in either the lat or lng column."
   ]
  },
  {
   "cell_type": "code",
   "execution_count": 123,
   "metadata": {},
   "outputs": [
    {
     "data": {
      "text/html": [
       "<div>\n",
       "<style scoped>\n",
       "    .dataframe tbody tr th:only-of-type {\n",
       "        vertical-align: middle;\n",
       "    }\n",
       "\n",
       "    .dataframe tbody tr th {\n",
       "        vertical-align: top;\n",
       "    }\n",
       "\n",
       "    .dataframe thead th {\n",
       "        text-align: right;\n",
       "    }\n",
       "</style>\n",
       "<table border=\"1\" class=\"dataframe\">\n",
       "  <thead>\n",
       "    <tr style=\"text-align: right;\">\n",
       "      <th></th>\n",
       "      <th>Hotel_Address</th>\n",
       "      <th>Additional_Number_of_Scoring</th>\n",
       "      <th>Review_Date</th>\n",
       "      <th>Average_Score</th>\n",
       "      <th>Hotel_Name</th>\n",
       "      <th>Reviewer_Nationality</th>\n",
       "      <th>Negative_Review</th>\n",
       "      <th>Review_Total_Negative_Word_Counts</th>\n",
       "      <th>Total_Number_of_Reviews</th>\n",
       "      <th>Positive_Review</th>\n",
       "      <th>Review_Total_Positive_Word_Counts</th>\n",
       "      <th>Total_Number_of_Reviews_Reviewer_Has_Given</th>\n",
       "      <th>Reviewer_Score</th>\n",
       "      <th>Tags</th>\n",
       "      <th>days_since_review</th>\n",
       "      <th>lat</th>\n",
       "      <th>lng</th>\n",
       "    </tr>\n",
       "  </thead>\n",
       "  <tbody>\n",
       "  </tbody>\n",
       "</table>\n",
       "</div>"
      ],
      "text/plain": [
       "Empty DataFrame\n",
       "Columns: [Hotel_Address, Additional_Number_of_Scoring, Review_Date, Average_Score, Hotel_Name, Reviewer_Nationality, Negative_Review, Review_Total_Negative_Word_Counts, Total_Number_of_Reviews, Positive_Review, Review_Total_Positive_Word_Counts, Total_Number_of_Reviews_Reviewer_Has_Given, Reviewer_Score, Tags, days_since_review, lat, lng]\n",
       "Index: []"
      ]
     },
     "execution_count": 123,
     "metadata": {},
     "output_type": "execute_result"
    }
   ],
   "source": [
    "df[(df['lat'].isna()) & (df['lng'].notnull())].head(10)"
   ]
  },
  {
   "cell_type": "code",
   "execution_count": 124,
   "metadata": {},
   "outputs": [
    {
     "data": {
      "text/html": [
       "<div>\n",
       "<style scoped>\n",
       "    .dataframe tbody tr th:only-of-type {\n",
       "        vertical-align: middle;\n",
       "    }\n",
       "\n",
       "    .dataframe tbody tr th {\n",
       "        vertical-align: top;\n",
       "    }\n",
       "\n",
       "    .dataframe thead th {\n",
       "        text-align: right;\n",
       "    }\n",
       "</style>\n",
       "<table border=\"1\" class=\"dataframe\">\n",
       "  <thead>\n",
       "    <tr style=\"text-align: right;\">\n",
       "      <th></th>\n",
       "      <th>Hotel_Address</th>\n",
       "      <th>Additional_Number_of_Scoring</th>\n",
       "      <th>Review_Date</th>\n",
       "      <th>Average_Score</th>\n",
       "      <th>Hotel_Name</th>\n",
       "      <th>Reviewer_Nationality</th>\n",
       "      <th>Negative_Review</th>\n",
       "      <th>Review_Total_Negative_Word_Counts</th>\n",
       "      <th>Total_Number_of_Reviews</th>\n",
       "      <th>Positive_Review</th>\n",
       "      <th>Review_Total_Positive_Word_Counts</th>\n",
       "      <th>Total_Number_of_Reviews_Reviewer_Has_Given</th>\n",
       "      <th>Reviewer_Score</th>\n",
       "      <th>Tags</th>\n",
       "      <th>days_since_review</th>\n",
       "      <th>lat</th>\n",
       "      <th>lng</th>\n",
       "    </tr>\n",
       "  </thead>\n",
       "  <tbody>\n",
       "  </tbody>\n",
       "</table>\n",
       "</div>"
      ],
      "text/plain": [
       "Empty DataFrame\n",
       "Columns: [Hotel_Address, Additional_Number_of_Scoring, Review_Date, Average_Score, Hotel_Name, Reviewer_Nationality, Negative_Review, Review_Total_Negative_Word_Counts, Total_Number_of_Reviews, Positive_Review, Review_Total_Positive_Word_Counts, Total_Number_of_Reviews_Reviewer_Has_Given, Reviewer_Score, Tags, days_since_review, lat, lng]\n",
       "Index: []"
      ]
     },
     "execution_count": 124,
     "metadata": {},
     "output_type": "execute_result"
    }
   ],
   "source": [
    "df[(df['lat'].notnull()) & (df['lng'].isna())].head(10)"
   ]
  },
  {
   "cell_type": "markdown",
   "metadata": {},
   "source": [
    "### **Overview of the distribution of the review scores** "
   ]
  },
  {
   "cell_type": "code",
   "execution_count": 125,
   "metadata": {},
   "outputs": [
    {
     "name": "stdout",
     "output_type": "stream",
     "text": [
      "count    515738.000000\n",
      "mean          8.395077\n",
      "std           1.637856\n",
      "min           2.500000\n",
      "25%           7.500000\n",
      "50%           8.800000\n",
      "75%           9.600000\n",
      "max          10.000000\n",
      "Name: Reviewer_Score, dtype: float64\n"
     ]
    }
   ],
   "source": [
    "print(df['Reviewer_Score'].describe()) "
   ]
  },
  {
   "cell_type": "markdown",
   "metadata": {},
   "source": [
    "The cell above shows a statistical summary of the target column in the dataset: Reviewer_Score.\n",
    "* min = 2.5 means that the lowest score given by any reviewer is 2.5 and max = 10.0 that the highest is 10.\n",
    "* mean = 8.4 show the average reviewer score, suggesting that most reviews are positive. \n",
    "* The std (standard deviation) = 1.6 shows that the reviewer scores are fairly consistent and do not vary significantly, but are close to the average score of 8.4.\n",
    "* 25th percentile (Q1) = 7.5 → 25% of the reviews have a score below 7.5, meaning that the majority (75%) have a score above 7.5. This suggests that most of the scores are relatively high.\n",
    "* 50th percentile (Median, Q2) = 8.8 → 50% of the reviews have a score below 8.8, and 50% have a score above 8.8. This shows that the median review score is quite high, reinforcing the idea that most reviews are positive.\n",
    "* 75th percentile (Q3) = 9.6 → 75% of the reviews have a score below 9.6, meaning that 25% of the reviews are between 9.6 and 10, again indicating a strong concentration of high ratings.\n",
    "\n",
    "**Key takeaway from the statistical summary:**\n",
    "* The distribution is skewed towards positive reviews, as most scores are relatively high. This suggests that the dataset may be imbalanced, which is something we will need to consider when building our machine learning models. However, this is not suprising, as people tend to leave reviews when they have a strong opinion, often positive rather than neutral so it makes sense. "
   ]
  },
  {
   "cell_type": "markdown",
   "metadata": {},
   "source": [
    "### **Histogram and Boxplot showing the distribution of the review scores** "
   ]
  },
  {
   "cell_type": "code",
   "execution_count": 126,
   "metadata": {},
   "outputs": [
    {
     "data": {
      "text/plain": [
       "<Axes: >"
      ]
     },
     "execution_count": 126,
     "metadata": {},
     "output_type": "execute_result"
    },
    {
     "data": {
      "image/png": "[encoded data removed]",
      "text/plain": [
       "<Figure size 640x480 with 1 Axes>"
      ]
     },
     "metadata": {},
     "output_type": "display_data"
    }
   ],
   "source": [
    "df['Reviewer_Score'].hist(bins=10)"
   ]
  },
  {
   "cell_type": "code",
   "execution_count": 127,
   "metadata": {},
   "outputs": [
    {
     "name": "stdout",
     "output_type": "stream",
     "text": [
      "(9.25, 10.0]     187807\n",
      "(8.5, 9.25]      105659\n",
      "(7.75, 8.5]       75277\n",
      "(7.0, 7.75]       59733\n",
      "(6.25, 7.0]       34502\n",
      "(4.75, 5.5]       18175\n",
      "(5.5, 6.25]       12304\n",
      "(4.0, 4.75]       11469\n",
      "(3.25, 4.0]        6979\n",
      "(2.491, 3.25]      3833\n",
      "Name: count, dtype: int64\n"
     ]
    }
   ],
   "source": [
    "print(df['Reviewer_Score'].value_counts(bins=10))"
   ]
  },
  {
   "cell_type": "markdown",
   "metadata": {},
   "source": [
    "From the histogram over and the distribution of the review scores in each bin we can see that the distribution of the scores is skewed towards the higher scores. This is consistent with the statistical summary we saw earlier, where we observed that most of the scores are relatively high and the dataset is imbalanced. "
   ]
  },
  {
   "cell_type": "code",
   "execution_count": 128,
   "metadata": {},
   "outputs": [
    {
     "data": {
      "image/png": "[encoded data removed]",
      "text/plain": [
       "<Figure size 640x480 with 1 Axes>"
      ]
     },
     "metadata": {},
     "output_type": "display_data"
    }
   ],
   "source": [
    "sns.boxplot(data=df, x='Reviewer_Score')\n",
    "plt.show()"
   ]
  },
  {
   "cell_type": "markdown",
   "metadata": {},
   "source": [
    "The box plot also shows that most reviewer scores are high, with the majority (50%) falling between 7.5 and 9.5 and a median score of 8.8.  However, there are several outliers on the lower end (below 5), representing a few very low ratings. This also reflects that the dataset is imbalanced, with a skew towards positive reviews."
   ]
  },
  {
   "cell_type": "markdown",
   "metadata": {},
   "source": [
    "After understanding some basic information about the dataset, we can now move on to explore the reviews further "
   ]
  },
  {
   "cell_type": "markdown",
   "metadata": {},
   "source": [
    "## **Cleaning review texts and finding threshold**"
   ]
  },
  {
   "cell_type": "markdown",
   "metadata": {},
   "source": [
    "After exploring the dataset we find that the columns \"Negative_Review\" and \"Positive_Review\" contain the review texts. We also see that there are many rows in these columns containing the words 'No Negative' and 'No Positive'. These words are placeholders for missing data. For example, a row containing 'No Negative' in the \"Negative_Review\" column means that the reviewer did not leave any negative comments and vice versa for 'No Positive'. We decide to replace these words with an empty string using a replace function because they are not relevant for the sentiment analysis, and will confuse our model, as we eventually plan to merge the 'Positive_Review' and 'Negative_Review' columns into one. "
   ]
  },
  {
   "cell_type": "markdown",
   "metadata": {},
   "source": [
    "#### **Attempt to find a limit for positive and negative reviews**\n",
    "Before we replace the 'No Negative' and 'No Positive' strings with empty strings, we try to use them to our advantage by using them to try to find a limit for where to separate the positive and negative review scores. We do this by checking the distribution of the review scores for the reviews that contain 'No Negative' and 'No Positive' in the 'Negative_Review' and 'Positive_Review' columns."
   ]
  },
  {
   "cell_type": "code",
   "execution_count": 129,
   "metadata": {},
   "outputs": [
    {
     "name": "stdout",
     "output_type": "stream",
     "text": [
      "Mean of no negative and no positive reviews: 8.285826771653543\n",
      "Median of no negative and no positive reviews: 8.8\n",
      "Mean of positive reviews: 9.338446321057159\n",
      "Mean of negative reviews: 6.886666110276526\n",
      "Median of positive reviews: 9.6\n",
      "Median of negative reviews: 7.1\n",
      "Amount of reviews with no negative and no positive reviews: 127\n",
      "Percentage of clearly positive reviews: 24.797474686759557\n",
      "Percentage of clearly negative reviews: 6.96981800836859\n"
     ]
    }
   ],
   "source": [
    "none_mean = df[(df['Negative_Review'] == 'No Negative') & (df['Positive_Review'] == 'No Positive')]['Reviewer_Score'].mean()\n",
    "none_median = df[(df['Negative_Review'] == 'No Negative') & (df['Positive_Review'] == 'No Positive')]['Reviewer_Score'].median()\n",
    "\n",
    "positive_mean = df[df['Negative_Review'] == 'No Negative']['Reviewer_Score'].mean()\n",
    "negative_mean = df[df['Positive_Review'] == 'No Positive']['Reviewer_Score'].mean()\n",
    "\n",
    "positive_median = df[df['Negative_Review'] == 'No Negative']['Reviewer_Score'].median()\n",
    "negative_median = df[df['Positive_Review'] == 'No Positive']['Reviewer_Score'].median()\n",
    "\n",
    "amount_none = df[(df['Negative_Review'] == 'No Negative') & (df['Positive_Review'] == 'No Positive')].shape[0]\n",
    "\n",
    "print('Mean of no negative and no positive reviews:', none_mean)\n",
    "print('Median of no negative and no positive reviews:', none_median)\n",
    "print('Mean of positive reviews:', positive_mean)\n",
    "print('Mean of negative reviews:', negative_mean)\n",
    "print('Median of positive reviews:', positive_median)\n",
    "print('Median of negative reviews:', negative_median)\n",
    "print('Amount of reviews with no negative and no positive reviews:', amount_none)\n",
    "\n",
    "# calculate the percentage of reviews that contain 'No Negative' in the 'Negative_Review' column and 'No Positive' in the 'Positive_Review' column\n",
    "no_negative = df[df['Negative_Review'] == 'No Negative'].shape[0]\n",
    "no_positive = df[df['Positive_Review'] == 'No Positive'].shape[0]\n",
    "\n",
    "total = df.shape[0]\n",
    "\n",
    "positive_percentage = no_negative / total * 100\n",
    "negative_percentage = no_positive / total * 100\n",
    "\n",
    "print('Percentage of clearly positive reviews:', positive_percentage)\n",
    "print('Percentage of clearly negative reviews:', negative_percentage)"
   ]
  },
  {
   "cell_type": "markdown",
   "metadata": {},
   "source": [
    "From the data we can see that 24,7 % of all reviews contain the string 'No Negative', and have a very high median score of 9,6 and a mean score of 9,3. This suggests that reviews containing the string 'No Negative' are generally extremely positive.\n",
    "\n",
    "On the other hand, 7 % of all reviews contain the string 'No Positive', and have a median score of 7,1 and a mean score of 6,9. This suggests that reviews containing the string 'No Positive', generally score very high as well, but not as high as reviews containing the string 'No Negative'. This can pinpoint that we should consider marking reviews with a score above 7,1 as positive, and reviews with a score below and including 7,1 as negative.\n",
    "\n",
    "Interestingly, there are 127 reviews with no text at all, only the string 'No Negative' or 'No Positive'. These reviews have a mean score of 8,3, and a median csore of 8,8. This suggests that reviews with no text are generally positive, but not as positive as reviews with the string 'No Negative'. As they do not contain any text, we can not use them for training our model, and we will remove them from the dataset.\n",
    "\n",
    "Now we can replace the 'No Negative' and 'No Positive' strings with empty strings, and we also drop the rows that contain no text at all - that is the rows that contain both 'No Negative' and 'No Positive'."
   ]
  },
  {
   "cell_type": "code",
   "execution_count": 130,
   "metadata": {},
   "outputs": [],
   "source": [
    "df['Negative_Review'] = df['Negative_Review'].apply(lambda x: x.replace('No Negative', ''))\n",
    "df['Positive_Review'] = df['Positive_Review'].apply(lambda x: x.replace('No Positive', ''))\n",
    "\n",
    "df = df[(df['Negative_Review'] != '') | (df['Positive_Review'] != '')]"
   ]
  },
  {
   "cell_type": "markdown",
   "metadata": {},
   "source": [
    "## **Exploring Swedish reviews**"
   ]
  },
  {
   "cell_type": "markdown",
   "metadata": {},
   "source": [
    "After exploring the dataset, we discover that the swedes enjoy writing in their native language. Therefore we decide to get a more in depth understanding of swedish reviews."
   ]
  },
  {
   "cell_type": "code",
   "execution_count": 131,
   "metadata": {},
   "outputs": [
    {
     "name": "stdout",
     "output_type": "stream",
     "text": [
      "3368\n"
     ]
    }
   ],
   "source": [
    "print(df_copy['Reviewer_Nationality'].value_counts()[' Sweden '])\n",
    "\n",
    "df_copy['Review'] = df_copy['Negative_Review'] + ' ' + df_copy['Positive_Review']"
   ]
  },
  {
   "cell_type": "markdown",
   "metadata": {},
   "source": [
    "In the cell above we decide to combine the 'Negative_Review' and 'Positive_Review' columns into one column called 'Review' because it makes it easier to work with the data and we use this column in the cell below to print out spesific swedish reviews."
   ]
  },
  {
   "cell_type": "code",
   "execution_count": 132,
   "metadata": {},
   "outputs": [
    {
     "name": "stdout",
     "output_type": "stream",
     "text": [
      "1. Rummet var litet Toalett utan handfat Tr ngt badrum D lig frukost utan gr nsaker Liten pool i ett annat hus S sm f rvaringssk p   Bra l ge N ra till Eiffeltornet floden och nya k pcentrum \n",
      "\n",
      "2. H rd s ng var enda minus under vistelsen   Utm rkt l ge p hotellet Kort g avst nd fr n tinnelbanan och bussen alldeles utanf r d rren Ett extra plus var att en buss gick direkt till westfield gallerian med shopping i m ngder \n",
      "\n",
      "3. Sv rt att f rst och g ra sig f rst dd hos personalen vars engelska ibland var v ldigt bristf llig   J ttegod frukost med stort utbud \n",
      "\n",
      "4. S ngarna var f r h rda i min smak Omgivningarna best r av nyare byggnader med m nga kontorshus s det r inte s charmig del av London   Trevlig v lst dat rum i engelsk stil Fint badrum Ett plus att man dagligen fick tv l och tv vatten i kylsk pet gratis Mycket positiv och trevlig personal i matsalen Frukosten var bra eftersom man fick v lja ett varmt alternativ fr n menyn annars hade det blivit lite magert med enbart buffe N ra till tunnelbanestation Aldgate d r Circle line stannar Man kunde h ra ljudet av tunnelbanan i rummet men vi upplevde det inte st rande Inga st rande ljud fr n gatan eller andra rum \n",
      "\n",
      "5. Hotellet har fortfarande 2 dygn senare dubbelfakturerat d b de faktura f r rummet betalats p plats och den ursprungliga summan som fanns i bokning ligger som prel dragning p kontot Har sett att andra hotel g r likadant och jag kommer att undvika hotellkedjor och boknings siter som h ller p s i forts ttningen  No Positive\n",
      "\n"
     ]
    }
   ],
   "source": [
    "print('1.' + df_copy.loc[224965, 'Review'] + '\\n')\n",
    "print('2.' + df_copy.loc[102335, 'Review'] + '\\n')\n",
    "print('3.' + df_copy.loc[514238, 'Review'] + '\\n')\n",
    "print('4.' + df_copy.loc[44876, 'Review'] + '\\n')\n",
    "print('5.' + df_copy.loc[381438, 'Review'] + '\\n')"
   ]
  },
  {
   "cell_type": "markdown",
   "metadata": {},
   "source": [
    "So there are 3368 reviews written by Swedes and as we can see some of them are written in a strange, confusing way with a lot of nonsense words.\n",
    "\n",
    "Before we potentially remove these reviews, we want to get some insight into the sentiment of the words the swedes use in their reviews. This is done to see if the swedish reviews tend to be more positive or negative. We do this by exploring the column \"Review_Total_Positive_Word_Counts\", and \"Review_Total_Negative_Word_Counts\". With these columns, we can calculate the sum of positive and negative words used in the swedish reviews."
   ]
  },
  {
   "cell_type": "code",
   "execution_count": 133,
   "metadata": {},
   "outputs": [
    {
     "name": "stdout",
     "output_type": "stream",
     "text": [
      "Total number of negative words in Swedish reviews: 72640\n",
      "Total number of positive words in Swedish reviews: 64246\n"
     ]
    }
   ],
   "source": [
    "swedish_reviews = df_copy[df_copy['Reviewer_Nationality'] == ' Sweden ']\n",
    "total_negative_words = swedish_reviews['Review_Total_Negative_Word_Counts'].sum()\n",
    "total_positive_words = swedish_reviews['Review_Total_Positive_Word_Counts'].sum()\n",
    "\n",
    "print('Total number of negative words in Swedish reviews:', total_negative_words)\n",
    "print('Total number of positive words in Swedish reviews:', total_positive_words)"
   ]
  },
  {
   "cell_type": "markdown",
   "metadata": {},
   "source": [
    "As we can see from the cell above, the swedish reviews tend to use positive and negative words relatively equally. However we decide to remove the swedish reviews from the dataset as they are written in a confusing way and contain a lot of nonsense words. This is not a huge loss, and we believe that the model will perform better without these reviews."
   ]
  },
  {
   "cell_type": "code",
   "execution_count": 134,
   "metadata": {},
   "outputs": [],
   "source": [
    "df = df[df['Reviewer_Nationality'] != ' Sweden ']"
   ]
  },
  {
   "cell_type": "markdown",
   "metadata": {},
   "source": [
    "## **Transforming review scores to binary values**"
   ]
  },
  {
   "cell_type": "markdown",
   "metadata": {},
   "source": [
    "Here we add a new column called 'Sentiment' which is 1 if the reviewer score is greater than 7,1 and 0 if the reviewer score is less than or equal to 7,1. This is done to transform the review scores from coninuous numerical values into binary values, where 1 represents a positive review and 0 represents a negative review. We choose 7,1 as the threshold because it is the median score for reviews containing the string 'No Positive'. Heavy weight is placed on this value as it would seem that having nothing positive to say about a hotel, but only negative things is a strong indicator of a negative review. "
   ]
  },
  {
   "cell_type": "code",
   "execution_count": 135,
   "metadata": {},
   "outputs": [
    {
     "name": "stdout",
     "output_type": "stream",
     "text": [
      "Sentiment\n",
      "1    425675\n",
      "0     86568\n",
      "Name: count, dtype: int64\n",
      "Sentiment\n",
      "1    83.100208\n",
      "0    16.899792\n",
      "Name: proportion, dtype: float64\n"
     ]
    }
   ],
   "source": [
    "df['Sentiment'] = df['Reviewer_Score'].apply(lambda x: 1 if x >= 7.1 else 0)\n",
    "\n",
    "print(df['Sentiment'].value_counts())\n",
    "print(df['Sentiment'].value_counts(normalize=True) * 100)"
   ]
  },
  {
   "cell_type": "markdown",
   "metadata": {},
   "source": [
    "From the value counts of the 'Sentiment' column we can again see that the dataset is imbalanced, with approximately 80% of the reviews being positive and approximately 20% being negative. \n",
    "\n",
    "In many cases now we have seen that the dataset is imbalanced, and skewed towards positive reviews and a minority of negative reviews. Anyhow, we choose to leave the dataset as it is. This is because the goal is to develop models that reflects the natural distribution of reviews, so keeping the dataset imbalanced makes sense. A model trained on the original distribution will align better with real-world expectations, where most reviews are positive.\n",
    "Balancing the dataset by oversampling the minority class (negative reviews) or downsampling the majority class (positive reviews) can help improve the model’s ability to recognize negative reviews. However, it can also introduce artifacts and unusual patterns that make the dataset less representative of reality. This could lead to models that do not generalize well when applied to real-world data.\n",
    "The trade-off we make by keeping the dataset imbalanced is that the models may be biased towards the majority class, predicting positive reviews more often. However, if this reflects the actual distribution of reviews, it may not necessarily be a problem."
   ]
  },
  {
   "cell_type": "markdown",
   "metadata": {},
   "source": [
    "## **Preprocessing the review text**"
   ]
  },
  {
   "cell_type": "markdown",
   "metadata": {},
   "source": [
    "### **Stopwords removal**"
   ]
  },
  {
   "cell_type": "markdown",
   "metadata": {},
   "source": [
    "A very important part of text preprocessing is the removal of stopwords because these words do not carry any sentiment value."
   ]
  },
  {
   "cell_type": "code",
   "execution_count": 136,
   "metadata": {},
   "outputs": [
    {
     "name": "stdout",
     "output_type": "stream",
     "text": [
      "Most common words in positive reviews:\n",
      "['and', 'the', 'was', 'to', 'The', 'a', 'staff', 'very', 'location', 'room']\n",
      "\n",
      "\n",
      "Most common words in negative reviews:\n",
      "['the', 'was', 'to', 'a', 'and', 'in', 'room', 'of', 'for', 'not']\n"
     ]
    }
   ],
   "source": [
    "stop = stopwords.words('english')\n",
    "\n",
    "def most_common_words(text):\n",
    "    words = dict()\n",
    "    for word in text:\n",
    "        for w in word.split():\n",
    "            if w in words and w != '':\n",
    "                words[w] += 1\n",
    "            else:\n",
    "                words[w] = 1\n",
    "    words = dict(sorted(words.items(), key=lambda item: item[1], reverse=True))\n",
    "    return list(words.keys())[:10]\n",
    "\n",
    "most_common_positive = most_common_words(df['Positive_Review'])\n",
    "most_common_negative = most_common_words(df['Negative_Review'])\n",
    "\n",
    "print('Most common words in positive reviews:')\n",
    "print(most_common_positive)\n",
    "print('\\n')\n",
    "print('Most common words in negative reviews:')\n",
    "print(most_common_negative)"
   ]
  },
  {
   "cell_type": "markdown",
   "metadata": {},
   "source": [
    "Here we can see that the most common words in both the positive and negative reviews are stopwords. This is not surprising, as stopwords are common words. But they do not carry any sentiment value, and should be removed. We will remove the stopwords from the reviews by using the NLTK library, and then again explore the 10 most common words in both columns to see if any additional stopwords should be removed. \n",
    "\n",
    "When removing the stopwords we also make sure to not remove the words 'no', 'not' and 'never' as they are important for sentiment analysis, as they are negation words and can drastically change the sentiment and meaning of a sentence."
   ]
  },
  {
   "cell_type": "code",
   "execution_count": 137,
   "metadata": {},
   "outputs": [
    {
     "name": "stdout",
     "output_type": "stream",
     "text": [
      "Most common words in positive reviews after removing stopwords:\n",
      "['staff', 'location', 'room', 'hotel', 'good', 'helpful', 'friendly', 'great', 'breakfast', 'clean']\n",
      "\n",
      "\n",
      "Most common words in negative reviews after removing stopwords:\n",
      "['room', 'not', 'hotel', 'small', 'no', 'breakfast', 'staff', 'could', 'would', 'Nothing']\n"
     ]
    }
   ],
   "source": [
    "stopwords_removed = dict()\n",
    "\n",
    "def remove_stopwords_and_count(text):\n",
    "    cleaned_text = ' '.join([word for word in text.split() if word.lower() not in stop or word.lower() in ['no', 'not', 'never']])\n",
    "    for word in text.split():\n",
    "        if word.lower() in stop and word.lower() not in ['no', 'not', 'never']:\n",
    "            if word.lower() in stopwords_removed:\n",
    "                stopwords_removed[word.lower()] += 1\n",
    "            else:\n",
    "                stopwords_removed[word.lower()] = 1\n",
    "    return cleaned_text\n",
    "\n",
    "df['positive_review_cleaned'] = df['Positive_Review'].apply(lambda x: remove_stopwords_and_count(x))\n",
    "df['negative_review_cleaned'] = df['Negative_Review'].apply(lambda x: remove_stopwords_and_count(x))\n",
    "\n",
    "most_common_positive_cleaned = most_common_words(df['positive_review_cleaned'])\n",
    "most_common_negative_cleaned = most_common_words(df['negative_review_cleaned'])\n",
    "\n",
    "print('Most common words in positive reviews after removing stopwords:')\n",
    "print(most_common_positive_cleaned)\n",
    "print('\\n')\n",
    "print('Most common words in negative reviews after removing stopwords:')\n",
    "print(most_common_negative_cleaned)"
   ]
  },
  {
   "cell_type": "markdown",
   "metadata": {},
   "source": [
    "We observe that after supposedly removing stopwords, we still have some stragglers that are not useful for our model, such as 'could' and 'would'. We will remove these as well as they are not useful for sentiment analysis."
   ]
  },
  {
   "cell_type": "code",
   "execution_count": 138,
   "metadata": {},
   "outputs": [
    {
     "name": "stdout",
     "output_type": "stream",
     "text": [
      "Most common words in positive reviews after removing stopwords and specific words:\n",
      "['staff', 'location', 'room', 'hotel', 'good', 'helpful', 'friendly', 'great', 'breakfast', 'clean']\n",
      "\n",
      "\n",
      "Most common words in negative reviews after removing stopwords and specific words:\n",
      "['room', 'not', 'hotel', 'small', 'no', 'breakfast', 'staff', 'Nothing', 'rooms', 'bit']\n"
     ]
    }
   ],
   "source": [
    "def remove_specific_words(text, words):\n",
    "    for word in words:\n",
    "        text = text.replace(word, '')\n",
    "    return text\n",
    "\n",
    "df['positive_review_cleaned'] = df['positive_review_cleaned'].apply(lambda x: remove_specific_words(x, ['could', 'would']))\n",
    "df['negative_review_cleaned'] = df['negative_review_cleaned'].apply(lambda x: remove_specific_words(x, ['could', 'would']))\n",
    "\n",
    "most_common_positive_cleaned = most_common_words(df['positive_review_cleaned'])\n",
    "most_common_negative_cleaned = most_common_words(df['negative_review_cleaned'])\n",
    "\n",
    "print('Most common words in positive reviews after removing stopwords and specific words:')\n",
    "print(most_common_positive_cleaned)\n",
    "print('\\n')\n",
    "print('Most common words in negative reviews after removing stopwords and specific words:')\n",
    "print(most_common_negative_cleaned)"
   ]
  },
  {
   "cell_type": "markdown",
   "metadata": {},
   "source": [
    "We can observe that one of the most common words in the negative reviews is the word \"Nothing\", which appears alone and seems to indicate that the reviewer actually has nothing negative to say about the hotel, but instead of leaving it blank so the placeholder \"No Negative\" can appear, they have chosen to manually write \"Nothing\". This is a problem, as it is harder to sort out and replace these words with '', as they are common words used in very different sentences and contexts. "
   ]
  },
  {
   "cell_type": "code",
   "execution_count": 139,
   "metadata": {},
   "outputs": [
    {
     "name": "stdout",
     "output_type": "stream",
     "text": [
      "Number of reviews with only the word \"no\", \"nothing\" or \"none\" in the Negative_Review column: 22827\n",
      "Number of reviews with only the word \"no\", \"nothing\" or \"none\" in the Positive_Review column: 1802\n"
     ]
    }
   ],
   "source": [
    "no_negative = df[df['Negative_Review'].apply(lambda x: x.lower().strip() in ['no', 'nothing', 'none'])].shape[0]\n",
    "no_positive = df[df['Positive_Review'].apply(lambda x: x.lower().strip() in ['no', 'nothing', 'none'])].shape[0]\n",
    "\n",
    "print('Number of reviews with only the word \"no\", \"nothing\" or \"none\" in the Negative_Review column:', no_negative)\n",
    "print('Number of reviews with only the word \"no\", \"nothing\" or \"none\" in the Positive_Review column:', no_positive)"
   ]
  },
  {
   "cell_type": "markdown",
   "metadata": {},
   "source": [
    "We can observe that there are many reviews that only contain a negative word, suggesting that the reviewer has actually not written any review, and it will be most useful to just replace the text with ''. ."
   ]
  },
  {
   "cell_type": "code",
   "execution_count": 140,
   "metadata": {},
   "outputs": [],
   "source": [
    "df['Negative_Review'] = df['Negative_Review'].apply(\n",
    "    lambda x: '' if re.fullmatch(r'\\b(nothing|no|none)\\b', x, flags=re.IGNORECASE) else x\n",
    ")\n",
    "df['Positive_Review'] = df['Positive_Review'].apply(\n",
    "    lambda x: '' if re.fullmatch(r'\\b(nothing|no|none)\\b', x, flags=re.IGNORECASE) else x\n",
    ")"
   ]
  },
  {
   "cell_type": "markdown",
   "metadata": {},
   "source": [
    "Now we need to make sure that there hasn't been created any rows with empty reviews. If there are, we remove them."
   ]
  },
  {
   "cell_type": "code",
   "execution_count": 141,
   "metadata": {},
   "outputs": [
    {
     "name": "stdout",
     "output_type": "stream",
     "text": [
      "Number of rows where both the Negative_Review and Positive_Review columns are empty: 0\n"
     ]
    }
   ],
   "source": [
    "empty_reviews = df[(df['Negative_Review'] == '') & (df['Positive_Review'] == '')].shape[0]\n",
    "\n",
    "print('Number of rows where both the Negative_Review and Positive_Review columns are empty:', empty_reviews)"
   ]
  },
  {
   "cell_type": "code",
   "execution_count": 142,
   "metadata": {},
   "outputs": [
    {
     "name": "stdout",
     "output_type": "stream",
     "text": [
      "Total of unique stopwords removed: 151\n",
      "Most common stopwords removed: [('the', 1038469), ('and', 635457), ('was', 470590), ('to', 413738), ('a', 392172), ('in', 279723), ('very', 271513), ('of', 226058), ('for', 207368), ('is', 183249)]\n",
      "Total amount stopwords removed: 7531123\n"
     ]
    }
   ],
   "source": [
    "print(\"Total of unique stopwords removed:\", len(stopwords_removed))\n",
    "print(\"Most common stopwords removed:\", sorted(stopwords_removed.items(), key=lambda x: x[1], reverse=True)[:10])\n",
    "print(\"Total amount stopwords removed:\", sum(stopwords_removed.values()))"
   ]
  },
  {
   "cell_type": "code",
   "execution_count": 143,
   "metadata": {},
   "outputs": [
    {
     "name": "stdout",
     "output_type": "stream",
     "text": [
      "512243\n"
     ]
    }
   ],
   "source": [
    "print(df.shape[0]) "
   ]
  },
  {
   "cell_type": "markdown",
   "metadata": {},
   "source": [
    "The total number of stopwords that was removed is 7 531 123. So from the 512 370 number of rows in the dataset, on average, approximately 15 stopwords were removed from each row.\n",
    "On average, each review has a significant number of words that don't carry much meaning for our analysis. The fact that so many stopwords were removed indicates that the reviews are likely composed of relatively lengthy or detailed sentences, with frequent usage of common words. The process of removing these stopwords is crucial for the analysis, as it allows us to focus on the words that are more likely to carry sentiment."
   ]
  },
  {
   "cell_type": "markdown",
   "metadata": {},
   "source": [
    "### **Combining and Cleaning the review texts**"
   ]
  },
  {
   "cell_type": "markdown",
   "metadata": {},
   "source": [
    "After removing stopwords we need to do further cleaning of the review texts. We will remove special characters, punctuation and anything that matches: !\"#$%&'()*+,-./:;<=>?@[\\\\]^_`{|}~, using punctuations and regex. We will also convert all the text to lowercase to ensure that the models do not treat words with different cases as different words."
   ]
  },
  {
   "cell_type": "code",
   "execution_count": 144,
   "metadata": {},
   "outputs": [
    {
     "data": {
      "text/html": [
       "<div>\n",
       "<style scoped>\n",
       "    .dataframe tbody tr th:only-of-type {\n",
       "        vertical-align: middle;\n",
       "    }\n",
       "\n",
       "    .dataframe tbody tr th {\n",
       "        vertical-align: top;\n",
       "    }\n",
       "\n",
       "    .dataframe thead th {\n",
       "        text-align: right;\n",
       "    }\n",
       "</style>\n",
       "<table border=\"1\" class=\"dataframe\">\n",
       "  <thead>\n",
       "    <tr style=\"text-align: right;\">\n",
       "      <th></th>\n",
       "      <th>Review</th>\n",
       "    </tr>\n",
       "  </thead>\n",
       "  <tbody>\n",
       "    <tr>\n",
       "      <th>0</th>\n",
       "      <td>i am so angry that i made this post available ...</td>\n",
       "    </tr>\n",
       "    <tr>\n",
       "      <th>1</th>\n",
       "      <td>no real complaints the hotel was great great l...</td>\n",
       "    </tr>\n",
       "    <tr>\n",
       "      <th>2</th>\n",
       "      <td>rooms are nice but for elderly a bit difficult...</td>\n",
       "    </tr>\n",
       "    <tr>\n",
       "      <th>3</th>\n",
       "      <td>my room was dirty and i was afraid to walk bar...</td>\n",
       "    </tr>\n",
       "    <tr>\n",
       "      <th>4</th>\n",
       "      <td>you when i booked with your company on line yo...</td>\n",
       "    </tr>\n",
       "  </tbody>\n",
       "</table>\n",
       "</div>"
      ],
      "text/plain": [
       "                                              Review\n",
       "0  i am so angry that i made this post available ...\n",
       "1  no real complaints the hotel was great great l...\n",
       "2  rooms are nice but for elderly a bit difficult...\n",
       "3  my room was dirty and i was afraid to walk bar...\n",
       "4  you when i booked with your company on line yo..."
      ]
     },
     "execution_count": 144,
     "metadata": {},
     "output_type": "execute_result"
    }
   ],
   "source": [
    "df['Review'] = df['Negative_Review'] + ' ' + df['Positive_Review']\n",
    "\n",
    "def preprocess_text(cleaned_text):\n",
    "    cleaned_text = cleaned_text.lower().strip()\n",
    "    cleaned_text = re.sub(f\"[{string.punctuation}]\", \"\", cleaned_text)\n",
    "    return cleaned_text\n",
    "\n",
    "df['Review'] = df['Review'].apply(preprocess_text)\n",
    "df[['Review']].head()"
   ]
  },
  {
   "cell_type": "markdown",
   "metadata": {},
   "source": [
    "### **Converting numbers to words**"
   ]
  },
  {
   "cell_type": "markdown",
   "metadata": {},
   "source": [
    "Many of the reviews contain numbers that will be difficult for our models to interpret. We will convert these numbers to words, to better take advantage of the information they contain."
   ]
  },
  {
   "cell_type": "code",
   "execution_count": 145,
   "metadata": {},
   "outputs": [
    {
     "name": "stdout",
     "output_type": "stream",
     "text": [
      "No Negative  I would not normally Mark somewhere 10 out of 10 but as soon as we got there the staff were friendly and helpful the room was excellent There was a nice seating area outside where the wife could have a smoke while we had a drink When we went out in the evening there was a good selection of bars and restaurants within a short walking distance In the morning there was a good selection for breakfast we both had a full English breakfast which was cooked to perfection \n"
     ]
    },
    {
     "data": {
      "text/plain": [
       "'i would not normally mark somewhere NUM_HIGH out of NUM_HIGH but as soon as we got there the staff were friendly and helpful the room was excellent there was a nice seating area outside where the wife could have a smoke while we had a drink when we went out in the evening there was a good selection of bars and restaurants within a short walking distance in the morning there was a good selection for breakfast we both had a full english breakfast which was cooked to perfection'"
      ]
     },
     "execution_count": 145,
     "metadata": {},
     "output_type": "execute_result"
    }
   ],
   "source": [
    "print(df_copy.loc[5512, 'Review'])\n",
    "\n",
    "def convert_numbers(text):\n",
    "    text = re.sub(r'\\b[1-5]\\b', 'NUM_LOW', text)\n",
    "    text = re.sub(r'\\b[6-9]|10\\b', 'NUM_HIGH', text)\n",
    "    return text\n",
    "\n",
    "df['Review'] = df['Review'].apply(convert_numbers)\n",
    "df.loc[5512, 'Review']"
   ]
  },
  {
   "cell_type": "markdown",
   "metadata": {},
   "source": [
    "Here we see an example of a review containing numbers before and after converting the numbers to words. Numbers in reviews used like this (x out of x) are important for the sentiment of the review because they are used to describe the quality of the hotel. We therefore convert all numbers to a word representation based on the number itself to capture the sentiment of the number."
   ]
  },
  {
   "cell_type": "markdown",
   "metadata": {},
   "source": [
    "### **Tokenization**"
   ]
  },
  {
   "cell_type": "markdown",
   "metadata": {},
   "source": [
    "Here we tokenize the review text by splitting the text into individual words. This needs to be done to prepare the text for the next step, which is lemmatization because lemmatization requires tokenized text as input. Tokenization breaks down the text to smaller more managaable parts making it easier to analyze the text. "
   ]
  },
  {
   "cell_type": "code",
   "execution_count": 146,
   "metadata": {},
   "outputs": [
    {
     "data": {
      "text/html": [
       "<div>\n",
       "<style scoped>\n",
       "    .dataframe tbody tr th:only-of-type {\n",
       "        vertical-align: middle;\n",
       "    }\n",
       "\n",
       "    .dataframe tbody tr th {\n",
       "        vertical-align: top;\n",
       "    }\n",
       "\n",
       "    .dataframe thead th {\n",
       "        text-align: right;\n",
       "    }\n",
       "</style>\n",
       "<table border=\"1\" class=\"dataframe\">\n",
       "  <thead>\n",
       "    <tr style=\"text-align: right;\">\n",
       "      <th></th>\n",
       "      <th>tokens</th>\n",
       "    </tr>\n",
       "  </thead>\n",
       "  <tbody>\n",
       "    <tr>\n",
       "      <th>0</th>\n",
       "      <td>[i, am, so, angry, that, i, made, this, post, ...</td>\n",
       "    </tr>\n",
       "    <tr>\n",
       "      <th>1</th>\n",
       "      <td>[no, real, complaints, the, hotel, was, great,...</td>\n",
       "    </tr>\n",
       "    <tr>\n",
       "      <th>2</th>\n",
       "      <td>[rooms, are, nice, but, for, elderly, a, bit, ...</td>\n",
       "    </tr>\n",
       "    <tr>\n",
       "      <th>3</th>\n",
       "      <td>[my, room, was, dirty, and, i, was, afraid, to...</td>\n",
       "    </tr>\n",
       "    <tr>\n",
       "      <th>4</th>\n",
       "      <td>[you, when, i, booked, with, your, company, on...</td>\n",
       "    </tr>\n",
       "  </tbody>\n",
       "</table>\n",
       "</div>"
      ],
      "text/plain": [
       "                                              tokens\n",
       "0  [i, am, so, angry, that, i, made, this, post, ...\n",
       "1  [no, real, complaints, the, hotel, was, great,...\n",
       "2  [rooms, are, nice, but, for, elderly, a, bit, ...\n",
       "3  [my, room, was, dirty, and, i, was, afraid, to...\n",
       "4  [you, when, i, booked, with, your, company, on..."
      ]
     },
     "execution_count": 146,
     "metadata": {},
     "output_type": "execute_result"
    }
   ],
   "source": [
    "from nltk.tokenize import word_tokenize\n",
    "\n",
    "def tokenize(text):\n",
    "    return word_tokenize(text)\n",
    "\n",
    "df['tokens'] = df['Review'].apply(tokenize)\n",
    "df[['tokens']].head() "
   ]
  },
  {
   "cell_type": "markdown",
   "metadata": {},
   "source": [
    "### **Lemmatization**"
   ]
  },
  {
   "cell_type": "markdown",
   "metadata": {},
   "source": [
    "Here we do lemmatization on the tokenized text. Lemmatization is the process of reducing words to their base or root form. This is done to reduce the number of unique words in the text, making it easier for the model to analyze and understand. By removing grammatical variations of words, we can focus on the core meaning of the words, which is important for sentiment analysis."
   ]
  },
  {
   "cell_type": "code",
   "execution_count": 147,
   "metadata": {},
   "outputs": [
    {
     "data": {
      "text/html": [
       "<div>\n",
       "<style scoped>\n",
       "    .dataframe tbody tr th:only-of-type {\n",
       "        vertical-align: middle;\n",
       "    }\n",
       "\n",
       "    .dataframe tbody tr th {\n",
       "        vertical-align: top;\n",
       "    }\n",
       "\n",
       "    .dataframe thead th {\n",
       "        text-align: right;\n",
       "    }\n",
       "</style>\n",
       "<table border=\"1\" class=\"dataframe\">\n",
       "  <thead>\n",
       "    <tr style=\"text-align: right;\">\n",
       "      <th></th>\n",
       "      <th>lemmatized</th>\n",
       "    </tr>\n",
       "  </thead>\n",
       "  <tbody>\n",
       "    <tr>\n",
       "      <th>0</th>\n",
       "      <td>[i, am, so, angry, that, i, made, this, post, ...</td>\n",
       "    </tr>\n",
       "    <tr>\n",
       "      <th>1</th>\n",
       "      <td>[no, real, complaint, the, hotel, wa, great, g...</td>\n",
       "    </tr>\n",
       "    <tr>\n",
       "      <th>2</th>\n",
       "      <td>[room, are, nice, but, for, elderly, a, bit, d...</td>\n",
       "    </tr>\n",
       "    <tr>\n",
       "      <th>3</th>\n",
       "      <td>[my, room, wa, dirty, and, i, wa, afraid, to, ...</td>\n",
       "    </tr>\n",
       "    <tr>\n",
       "      <th>4</th>\n",
       "      <td>[you, when, i, booked, with, your, company, on...</td>\n",
       "    </tr>\n",
       "  </tbody>\n",
       "</table>\n",
       "</div>"
      ],
      "text/plain": [
       "                                          lemmatized\n",
       "0  [i, am, so, angry, that, i, made, this, post, ...\n",
       "1  [no, real, complaint, the, hotel, wa, great, g...\n",
       "2  [room, are, nice, but, for, elderly, a, bit, d...\n",
       "3  [my, room, wa, dirty, and, i, wa, afraid, to, ...\n",
       "4  [you, when, i, booked, with, your, company, on..."
      ]
     },
     "execution_count": 147,
     "metadata": {},
     "output_type": "execute_result"
    }
   ],
   "source": [
    "lemmatizer = WordNetLemmatizer()\n",
    "\n",
    "def lemmatize(tokens):\n",
    "    lemmatized_tokens = []\n",
    "    for token in tokens:\n",
    "        lemmatized_token = lemmatizer.lemmatize(token)\n",
    "        lemmatized_tokens.append(lemmatized_token)\n",
    "    return lemmatized_tokens\n",
    "\n",
    "df['lemmatized'] = df['tokens'].apply(lemmatize)\n",
    "\n",
    "df[['lemmatized']].head() "
   ]
  },
  {
   "cell_type": "markdown",
   "metadata": {},
   "source": [
    "## **Splitting the data into training and test sets**"
   ]
  },
  {
   "cell_type": "markdown",
   "metadata": {},
   "source": [
    "Before we run the different algorithms on the dataset, we need to split the data into training and testing data. We will use the lemmatized column as the feature. This column contains the preprocessed review text, which we will use to train the machine learning models. We will use the 'Sentiment' column as the target, which contains the binary values (0 or 1) indicating whether the review is positive or negative. We split the data into 70% training data and 30% testing data because this is a common split ratio that provides a good balance between training and testing data. In addition, using 70% instead of 80% training data is a good choice as it is computationally expensive to train the models, and we want to ensure that we have enough data to test the models on."
   ]
  },
  {
   "cell_type": "code",
   "execution_count": 148,
   "metadata": {},
   "outputs": [
    {
     "data": {
      "text/html": [
       "<div>\n",
       "<style scoped>\n",
       "    .dataframe tbody tr th:only-of-type {\n",
       "        vertical-align: middle;\n",
       "    }\n",
       "\n",
       "    .dataframe tbody tr th {\n",
       "        vertical-align: top;\n",
       "    }\n",
       "\n",
       "    .dataframe thead th {\n",
       "        text-align: right;\n",
       "    }\n",
       "</style>\n",
       "<table border=\"1\" class=\"dataframe\">\n",
       "  <thead>\n",
       "    <tr style=\"text-align: right;\">\n",
       "      <th></th>\n",
       "      <th>lemmatized</th>\n",
       "      <th>Sentiment</th>\n",
       "    </tr>\n",
       "  </thead>\n",
       "  <tbody>\n",
       "    <tr>\n",
       "      <th>0</th>\n",
       "      <td>[i, am, so, angry, that, i, made, this, post, ...</td>\n",
       "      <td>0</td>\n",
       "    </tr>\n",
       "    <tr>\n",
       "      <th>1</th>\n",
       "      <td>[no, real, complaint, the, hotel, wa, great, g...</td>\n",
       "      <td>1</td>\n",
       "    </tr>\n",
       "    <tr>\n",
       "      <th>2</th>\n",
       "      <td>[room, are, nice, but, for, elderly, a, bit, d...</td>\n",
       "      <td>1</td>\n",
       "    </tr>\n",
       "    <tr>\n",
       "      <th>3</th>\n",
       "      <td>[my, room, wa, dirty, and, i, wa, afraid, to, ...</td>\n",
       "      <td>0</td>\n",
       "    </tr>\n",
       "    <tr>\n",
       "      <th>4</th>\n",
       "      <td>[you, when, i, booked, with, your, company, on...</td>\n",
       "      <td>0</td>\n",
       "    </tr>\n",
       "  </tbody>\n",
       "</table>\n",
       "</div>"
      ],
      "text/plain": [
       "                                          lemmatized  Sentiment\n",
       "0  [i, am, so, angry, that, i, made, this, post, ...          0\n",
       "1  [no, real, complaint, the, hotel, wa, great, g...          1\n",
       "2  [room, are, nice, but, for, elderly, a, bit, d...          1\n",
       "3  [my, room, wa, dirty, and, i, wa, afraid, to, ...          0\n",
       "4  [you, when, i, booked, with, your, company, on...          0"
      ]
     },
     "execution_count": 148,
     "metadata": {},
     "output_type": "execute_result"
    }
   ],
   "source": [
    "X = df['lemmatized'].apply(lambda x: ' '.join(x))\n",
    "y = df['Sentiment']\n",
    "\n",
    "X_train, X_test, y_train, y_test = train_test_split(X, y, test_size=0.3, random_state=42, stratify=y)\n",
    "\n",
    "X_train = X_train.to_numpy()\n",
    "y_train = y_train.to_numpy()\n",
    "\n",
    "df[['lemmatized', 'Sentiment']].head() "
   ]
  },
  {
   "cell_type": "markdown",
   "metadata": {},
   "source": [
    "## **MultinomialNB Model**"
   ]
  },
  {
   "cell_type": "markdown",
   "metadata": {},
   "source": [
    "The first model we will use for classifiying hotel reviews is MultinomialNB with TF-IDF vectorizer. We will use the TF-IDF vectorizer to convert the text data into numerical data that the model can work with. This model is chosen because it is a simple and fast model that is often used for text classification tasks. "
   ]
  },
  {
   "cell_type": "markdown",
   "metadata": {},
   "source": [
    "### **Creating pipeline, Vectorizer and Gridsearch with cross validation**"
   ]
  },
  {
   "cell_type": "markdown",
   "metadata": {},
   "source": [
    "We use a pipeline to streamline the text processing and model training. The pipeline makes the process more efficient and reduces the risk of data leakage by ensuring that all steps (such as vectorization and model fitting) are correctly applied to the training data and not to the entire dataset beforehand. This is important because the vectorization process relies on the dataset’s statistical properties (such as word frequency and distribution), and any transformation must be applied uniformly across the data to avoid errors and ensure consistency.\n",
    "\n",
    "The TF-IDF Vectorizer is used to convert text into numerical features. We set the following parameters for it:\n",
    "* min_df=5: Only words appearing in at least 5 documents are included, removing rare and unimportant words.\n",
    "* max_df=0.8: Words that appear in more than 80% of documents are excluded, as they are likely to be common and non-informative.\n",
    "* norm='l2': This ensures that the vectorizer balances the influence of review length and word frequencies. It helps the model focus on relative word importance and ensures better generalization.\n",
    "\n",
    "We use GridSearchCV to tune hyperparameters and find the best combination of parameters for the model. We set the following parameters for GridSearchCV:\n",
    "* alpha (for MultinomialNB) controls smoothing to handle rare words. The range of values tested allows us to find the optimal level of smoothing to avoid overfitting or underfitting the model.\n",
    "* ngram_range: By testing different n-gram ranges, we can determine whether using individual words, word pairs, or sequences of three words provides the most useful features for the model to learn from.\n",
    "* GridSearchCV performs 5-fold cross-validation. The default cross validation is stratified k-fold, which is suitable for imbalanced datasets like ours. It ensures that each fold has the same proportion of positive and negative reviews, which helps prevent bias in the model evaluation.\n",
    "The parameter n_jobs=-1 enables parallel processing, using all available CPU cores to speed up the grid search when evaluating different combinations of hyperparameters. We use f1 as the scoring metric, as it is a good measure of the model's performance on imbalanced datasets because it considers both precision and recall, providing a balanced evaluation of the model's performance."
   ]
  },
  {
   "cell_type": "code",
   "execution_count": 35,
   "metadata": {},
   "outputs": [
    {
     "name": "stdout",
     "output_type": "stream",
     "text": [
      "Best parameters: {'multinomialnb__alpha': 1, 'tfidfvectorizer__ngram_range': (1, 2)}\n",
      "Best cross-validation score: 0.93\n",
      "Best estimator: Pipeline(steps=[('tfidfvectorizer',\n",
      "                 TfidfVectorizer(max_df=0.8, min_df=5, ngram_range=(1, 2))),\n",
      "                ('multinomialnb', MultinomialNB(alpha=1))])\n"
     ]
    }
   ],
   "source": [
    "pipe = make_pipeline(TfidfVectorizer(min_df = 5, max_df=0.8, norm='l2'), MultinomialNB())\n",
    "\n",
    "param_grid = {'multinomialnb__alpha': [0.001, 0.01, 0.1, 1, 10, 100, 1000], 'tfidfvectorizer__ngram_range': [(1, 1), (1, 2), (1, 3)]}\n",
    "\n",
    "kfold = StratifiedKFold(n_splits=5, shuffle=True, random_state=42)\n",
    "grid = GridSearchCV(pipe, param_grid, cv=kfold, scoring='f1', refit=True, n_jobs=-1)\n",
    "\n",
    "grid.fit(X_train, y_train)\n",
    "\n",
    "print(\"Best parameters: {}\".format(grid.best_params_))\n",
    "print(\"Best cross-validation score: {:.2f}\".format(grid.best_score_))\n",
    "print(\"Best estimator: {}\".format(grid.best_estimator_))"
   ]
  },
  {
   "cell_type": "markdown",
   "metadata": {},
   "source": [
    "### **Heat map of f1-score as a function of ngram range and alpha values** "
   ]
  },
  {
   "cell_type": "code",
   "execution_count": null,
   "metadata": {},
   "outputs": [
    {
     "data": {
      "image/png": "[encoded data removed]",
      "text/plain": [
       "<Figure size 1000x600 with 2 Axes>"
      ]
     },
     "metadata": {},
     "output_type": "display_data"
    }
   ],
   "source": [
    "plot_gridsearch_heatmap(grid, param_grid, \n",
    "                        x_param='multinomialnb__alpha', \n",
    "                        y_param='tfidfvectorizer__ngram_range')"
   ]
  },
  {
   "cell_type": "markdown",
   "metadata": {},
   "source": [
    "The highest F1 score (~0.93) is achieved when alpha=1 and ngram_range=(1,2), as also confirmed by grid.best_params_. This suggests that including bigrams (in addition to unigrams) improves the model's classification performance.\n",
    "\n",
    "Small alpha values (0.001, 0.01, 0.1, 1) generally yield good performance.\n",
    "Very large alpha values (100, 1000) lead to a slightly drop in F1 score, especially for ngram_range=(1,2), indicating over-smoothing.\n",
    "\n",
    "The performance of (1,1) and (1,2) is relatively stable across different values of alpha (up to 10).\n",
    "\n",
    "The lowest row corresponds to ngram_range=(1,3), and all its F1 scores are the same (0.908) regardless of the alpha value. This suggests a few key insights:\n",
    "* Adding trigrams does not provide additional discriminative power for this task.\n",
    "* Trigrams are inherently less frequent than unigrams or bigrams, which may lead to a sparse feature space Naïve Bayes (especially with TF-IDF) tends to downweight rare features, making the contribution of trigrams negligible.\n",
    "* Since all values in this row are identical, it means that changing alpha does not affect performance when using trigrams. This suggests that the smoothing parameter has little to no influence when most of the feature space consists of higher-order n-grams.\n",
    "* Using trigrams is unnecessary for this classification task — it does not improve performance and only adds computational complexity. Feature selection should prioritize unigrams and bigrams, as they show meaningful variation and achieve higher F1 scores."
   ]
  },
  {
   "cell_type": "markdown",
   "metadata": {},
   "source": [
    "### **Predicting sentiment and evaluating the model**"
   ]
  },
  {
   "cell_type": "code",
   "execution_count": 37,
   "metadata": {},
   "outputs": [],
   "source": [
    "y_pred = grid.predict(X_test)"
   ]
  },
  {
   "cell_type": "markdown",
   "metadata": {},
   "source": [
    "#### **Confusion matrix and classification report**"
   ]
  },
  {
   "cell_type": "code",
   "execution_count": 38,
   "metadata": {},
   "outputs": [
    {
     "name": "stdout",
     "output_type": "stream",
     "text": [
      "              precision    recall  f1-score   support\n",
      "\n",
      "           0       0.75      0.39      0.51     25970\n",
      "           1       0.89      0.97      0.93    127703\n",
      "\n",
      "    accuracy                           0.87    153673\n",
      "   macro avg       0.82      0.68      0.72    153673\n",
      "weighted avg       0.86      0.87      0.86    153673\n",
      "\n"
     ]
    },
    {
     "data": {
      "image/png": "[encoded data removed]",
      "text/plain": [
       "<Figure size 640x480 with 2 Axes>"
      ]
     },
     "metadata": {},
     "output_type": "display_data"
    }
   ],
   "source": [
    "print(classification_report(y_test, y_pred))\n",
    "\n",
    "cm = confusion_matrix(y_test, y_pred)\n",
    "sns.heatmap(cm, annot=True, fmt='d', cmap='Blues')\n",
    "plt.xlabel('Predicted')\n",
    "plt.ylabel('True')\n",
    "plt.show()"
   ]
  },
  {
   "cell_type": "markdown",
   "metadata": {},
   "source": [
    "From the classification report, we can see that the model has a high precision and recall for positive reviews, but a lower precision and recall for negative reviews. This is likely due to the class imbalance in the dataset, as the model is biased towards predicting positive reviews amd better learns the patterns of positive reviews. \n",
    "\n",
    "**Performance Insights form the confusion matrix**\n",
    "- *High True Positives:* The model is great at predicting positive reviews\n",
    "- *High False Positives:* There are quite a few cases where negative sentiment was wrongly predicted as positive (15959). This could be because the model is biased towards positive sentiment.\n",
    "- *Low False Negatives:* Only a small number of positive sentiments were misclassified as negative. This is good as it shows that the model is not missing many positive reviews.\n",
    "- *Low True Negatives:* The model struggles more with correctly identifying negative sentiment."
   ]
  },
  {
   "cell_type": "markdown",
   "metadata": {},
   "source": [
    "#### **Precision-recall curve evaluation**"
   ]
  },
  {
   "cell_type": "markdown",
   "metadata": {},
   "source": [
    "Since the dataset is imbalanced, we use the precision-recall (PR) curve to evaluate the model. The PR curve illustrates the trade-off between precision and recall at different classification thresholds, focusing on the minority class (negative reviews). By analyzing the PR curve, we can determine the optimal threshold for our model."
   ]
  },
  {
   "cell_type": "markdown",
   "metadata": {},
   "source": [
    "##### **Precision-recall curve for majority class**"
   ]
  },
  {
   "cell_type": "code",
   "execution_count": null,
   "metadata": {},
   "outputs": [
    {
     "data": {
      "image/png": "[encoded data removed]",
      "text/plain": [
       "<Figure size 800x600 with 1 Axes>"
      ]
     },
     "metadata": {},
     "output_type": "display_data"
    }
   ],
   "source": [
    "y_scores_pos = grid.predict_proba(X_test)[:, 1]\n",
    "plot_precision_recall_curve(y_test, y_scores_pos, 'positive')"
   ]
  },
  {
   "cell_type": "markdown",
   "metadata": {},
   "source": [
    "The PR curve for the majority class (positive reviews) indicates that:\n",
    "* Precision remains close to 1.0 for a large portion of the recall range, meaning the model is highly confident when predicting positive reviews.\n",
    "* Even at high recall levels, precision only drops slightly, suggesting that the model rarely misclassifies non-positive reviews as positive.\n",
    "* A very high average precision (AP) score of 0.98 suggests the model performs exceptionally well on the majority class. This is expected because the dataset is imbalanced in favor of positive reviews, making it easier for the model to correctly classify them.\n",
    "\n",
    "However since the curve is based on the majority class, it is not as informative. Therefor we will also look at the PR curve for the minority class."
   ]
  },
  {
   "cell_type": "markdown",
   "metadata": {},
   "source": [
    "##### **Precision-recall curve for minority class**"
   ]
  },
  {
   "cell_type": "code",
   "execution_count": null,
   "metadata": {},
   "outputs": [
    {
     "data": {
      "image/png": "[encoded data removed]",
      "text/plain": [
       "<Figure size 800x600 with 1 Axes>"
      ]
     },
     "metadata": {},
     "output_type": "display_data"
    }
   ],
   "source": [
    "y_scores_neg = grid.predict_proba(X_test)[:, 0]\n",
    "plot_precision_recall_curve(y_test, y_scores_neg, 'negative')"
   ]
  },
  {
   "cell_type": "markdown",
   "metadata": {},
   "source": [
    "The PR curve for the  minority class (negative reviews) indicates that:\n",
    "* An AP score of 0.66 suggests moderate performance in identifying negative reviews. Given the class imbalance, this is a reasonable score\n",
    "* The sharp drop at the beginning indicates that when the recall is very low (i.e., the model is very conservative in predicting negative reviews), precision is nearly perfect. However, as recall increases slightly, precision drops quickly, meaning the model struggles to balance identifying negative reviews while maintaining precision.\n",
    "* The curve shows a steep decline in precision as recall increases, indicating that the model is not very good at identifying negative reviews."
   ]
  },
  {
   "cell_type": "markdown",
   "metadata": {},
   "source": [
    "Based on both PR curves we can say that the model is excellent at predicting positive reviews but struggles more with negatives. Since most reviews are positive, the model may have learned to favor positive predictions, possibly at the expense of recall for negative reviews."
   ]
  },
  {
   "cell_type": "markdown",
   "metadata": {},
   "source": [
    "#### **Visualizing the top features that are most indicative of positive and negative sentiment of reviews**"
   ]
  },
  {
   "cell_type": "code",
   "execution_count": null,
   "metadata": {},
   "outputs": [
    {
     "data": {
      "image/png": "[encoded data removed]",
      "text/plain": [
       "<Figure size 1500x500 with 1 Axes>"
      ]
     },
     "metadata": {},
     "output_type": "display_data"
    }
   ],
   "source": [
    "visualize_top_features(grid, X_train, classifier_step=\"multinomialnb\")"
   ]
  },
  {
   "cell_type": "markdown",
   "metadata": {},
   "source": [
    "The visualization show the top 20 features that are most indicative of positive and negative reviews. The features with the highest coefficient values are most indicative of positive reviews, while the features with the lowest coefficient values are most indicative of negative reviews.\n",
    "\n",
    "After exploring the dataset further we have discovered that if a review starts with a negation such as \"nothing\" the reviews are usually positive. Our model seems to understand this well, as we can see many of the bigrams on the right side of the visualization are negations, for example \"nothing all\" - this stems from reviews like \"Nothing all good\" which is a review written in the Negative_Review column. In addition we have the bigram \"nothing location\" that stems from the review \"Nothing location was perfect\" which is also a positive review, written in the Negative_Review column because the person means that nothing is negative and that the location was perfect. We also have the bigram \"nothing bed\", \"nothing perfect\", \"nothing lovely\", \"nothing friendly\", and \"nothing excellent\" and so on. All of these bigrams stems from reviews in the Negative_Review column, and therefore the model has learned that if a review starts with \"nothing\" it is usually a positive review.\n",
    "\n",
    "One issue with our model is that as we can see \"everything nothing\" is considered the most indicative of a negative review. This is incorrect however, as the reviews that contain this bigram usually go something like this: \"I liked everything Nothing to complain about\". This is actually a positive review, but the model has learned that if a review starts with \"nothing\" it is usually a positive review, and therefore it has learned that \"everything nothing\" is indicative of a negative review. "
   ]
  },
  {
   "cell_type": "markdown",
   "metadata": {},
   "source": [
    "### **Brief summary of the Multinomial NB Model**"
   ]
  },
  {
   "cell_type": "markdown",
   "metadata": {},
   "source": [
    "**What the Model is Good At on this data:**\n",
    "* Classifying Positive Reviews → High precision and recall for positive sentiment.\n",
    "* Confidence in Predictions → Maintains high precision even at high recall levels (AP Score = 0.98).\n",
    "* Learning Common Patterns → Correctly identifies that \"nothing\" at the start of a negative review often indicates a positive review as it is a negation word.\n",
    "\n",
    "**What the Model Struggles With:**\n",
    "* Detecting Negative Reviews → Lower precision and recall for negative sentiment (AP Score = 0.66).\n",
    "* False Positives → Frequently misclassifies negative reviews as positive (10,514 cases)."
   ]
  },
  {
   "cell_type": "markdown",
   "metadata": {},
   "source": [
    "## **Complement NB Model**"
   ]
  },
  {
   "cell_type": "markdown",
   "metadata": {},
   "source": [
    "The next model we will use is Complement Naive Bayes with TF-IDF vectorizer. Complement Naive Bayes is a variant of the Naive Bayes algorithm that is particularly well-suited for imbalanced datasets. With this model we hope to see a signitficant improvement in the classification of negative reviews compared to the Multinomial NB model since Multinomial tends to be biased toward the majority class in imbalanced datasets which we saw in our evaluation of the Multinomial NB model in the previous section.\n",
    "The ComplementNB is designed to handle imbalanced data by adjusting the weights of features that are overrepresented in the majority class. This makes it a good choice for our dataset, which has a large number of positive reviews and a smaller number of negative reviews."
   ]
  },
  {
   "cell_type": "markdown",
   "metadata": {},
   "source": [
    "### **Creating pipeline, Vectorizer and Gridsearch with cross validation**"
   ]
  },
  {
   "cell_type": "markdown",
   "metadata": {},
   "source": [
    "We use the same vectorizer and gridsearch parameters as in the Multinomial NB model, as they are suitable for text classification tasks and have been optimized for our dataset. We also use the same pipeline structure to ensure consistency and efficiency in the model training process."
   ]
  },
  {
   "cell_type": "code",
   "execution_count": 42,
   "metadata": {},
   "outputs": [
    {
     "name": "stdout",
     "output_type": "stream",
     "text": [
      "Best parameters: {'complementnb__alpha': 1, 'tfidfvectorizer__ngram_range': (1, 3)}\n",
      "Best cross-validation score: 0.92\n",
      "Best estimator: Pipeline(steps=[('tfidfvectorizer',\n",
      "                 TfidfVectorizer(max_df=0.8, min_df=5, ngram_range=(1, 3))),\n",
      "                ('complementnb', ComplementNB(alpha=1))])\n"
     ]
    }
   ],
   "source": [
    "pipe = make_pipeline(TfidfVectorizer(min_df = 5, max_df=0.8, norm='l2'), ComplementNB())\n",
    "\n",
    "param_grid = {'complementnb__alpha': [0.001, 0.01, 0.1, 1, 10, 100, 1000], 'tfidfvectorizer__ngram_range': [(1, 1), (1, 2), (1, 3)]}\n",
    "\n",
    "kfold = StratifiedKFold(n_splits=5, shuffle=True, random_state=42)\n",
    "grid = GridSearchCV(pipe, param_grid, cv=kfold, scoring='f1', refit=True, n_jobs=-1)\n",
    "\n",
    "grid.fit(X_train, y_train)\n",
    "\n",
    "print(\"Best parameters: {}\".format(grid.best_params_))\n",
    "print(\"Best cross-validation score: {:.2f}\".format(grid.best_score_))\n",
    "print(\"Best estimator: {}\".format(grid.best_estimator_))"
   ]
  },
  {
   "cell_type": "markdown",
   "metadata": {},
   "source": [
    "### **Heat map of mean cross-validation f1 score as a function of the parameters ngram_range and alpha**"
   ]
  },
  {
   "cell_type": "code",
   "execution_count": null,
   "metadata": {},
   "outputs": [
    {
     "data": {
      "image/png": "[encoded data removed]",
      "text/plain": [
       "<Figure size 1000x600 with 2 Axes>"
      ]
     },
     "metadata": {},
     "output_type": "display_data"
    }
   ],
   "source": [
    "plot_gridsearch_heatmap(grid, param_grid, \n",
    "                        x_param='complementnb__alpha', \n",
    "                        y_param='tfidfvectorizer__ngram_range')"
   ]
  },
  {
   "cell_type": "markdown",
   "metadata": {},
   "source": [
    "From the heatmap above we can see that the best f1-score is obtained with an ngram range at (1,2) and alpha at 10. This matches well with our findings in the heatmap from MultionmialNB, as it suggests that including bigrams (in addition to unigrams) improves the model's classification performance.\n",
    "\n",
    "As in the case with MultinomialNB, the lowest row corresponding to ngram range (1,3), suggests that using trigrams is unecessary for this task, because it does not improve performance (rather it worsens it), and is computationally expensive. "
   ]
  },
  {
   "cell_type": "markdown",
   "metadata": {},
   "source": [
    "### **Predicting sentiment and evaluating the model**"
   ]
  },
  {
   "cell_type": "code",
   "execution_count": 44,
   "metadata": {},
   "outputs": [],
   "source": [
    "y_pred = grid.predict(X_test)"
   ]
  },
  {
   "cell_type": "markdown",
   "metadata": {},
   "source": [
    "#### **Confusion matrix and classification report**"
   ]
  },
  {
   "cell_type": "code",
   "execution_count": 45,
   "metadata": {},
   "outputs": [
    {
     "name": "stdout",
     "output_type": "stream",
     "text": [
      "              precision    recall  f1-score   support\n",
      "\n",
      "           0       0.59      0.68      0.63     25970\n",
      "           1       0.93      0.90      0.92    127703\n",
      "\n",
      "    accuracy                           0.86    153673\n",
      "   macro avg       0.76      0.79      0.77    153673\n",
      "weighted avg       0.87      0.86      0.87    153673\n",
      "\n"
     ]
    },
    {
     "data": {
      "image/png": "[encoded data removed]",
      "text/plain": [
       "<Figure size 640x480 with 2 Axes>"
      ]
     },
     "metadata": {},
     "output_type": "display_data"
    }
   ],
   "source": [
    "print(classification_report(y_test, y_pred))\n",
    "\n",
    "cm = confusion_matrix(y_test, y_pred)\n",
    "sns.heatmap(cm, annot=True, fmt='d', cmap='Blues')\n",
    "\n",
    "plt.xlabel('Predicted')\n",
    "plt.ylabel('True')\n",
    "plt.show()"
   ]
  },
  {
   "cell_type": "markdown",
   "metadata": {},
   "source": [
    "From the confusion matrix above we can see the amount of true positives and true negatives. As with MultinomialNB, the model is good at predicting positive reviews, as it has a high amount of true positives, but worse at predicting negative reviews. The difference between the two models is most apparent here, as ComplementNB has about half the amount of false positives as MultinomialNB. This is good because it means that the model is less biased towards positive reviews. The drawback here is that we miss out on almost 10 000 true positives compared to MultinomialNB. Another difference in the confusion matrix is that the amount of false negatives is almost 4x as high in ComplementNB as in MultinomialNB, with an increase in true negatives of about 7 000. \n",
    "\n",
    "The conclusion here is that ComplementNB has a much more balanced approach to the dataset, and can successfully downweigh the absurd amount of positive reviews to account for the small amount of negative reviews we have at our disposal. This gives a much more balanced model, and a more generalized model that can be used on other datasets as well."
   ]
  },
  {
   "cell_type": "markdown",
   "metadata": {},
   "source": [
    "#### **Precision-recall curve evaluation**"
   ]
  },
  {
   "cell_type": "markdown",
   "metadata": {},
   "source": [
    "##### **Precision-recall curve for majority and minority**"
   ]
  },
  {
   "cell_type": "code",
   "execution_count": null,
   "metadata": {},
   "outputs": [
    {
     "data": {
      "image/png": "[encoded data removed]",
      "text/plain": [
       "<Figure size 800x600 with 1 Axes>"
      ]
     },
     "metadata": {},
     "output_type": "display_data"
    },
    {
     "data": {
      "image/png": "[encoded data removed]",
      "text/plain": [
       "<Figure size 800x600 with 1 Axes>"
      ]
     },
     "metadata": {},
     "output_type": "display_data"
    }
   ],
   "source": [
    "# Positive sentiment\n",
    "y_scores_pos = grid.predict_proba(X_test)[:, 1]\n",
    "plot_precision_recall_curve(y_test, y_scores_pos, 'positive')\n",
    "\n",
    "# Negative sentiment\n",
    "y_scores_neg = grid.predict_proba(X_test)[:, 0]\n",
    "plot_precision_recall_curve(y_test, y_scores_neg, 'negative')"
   ]
  },
  {
   "cell_type": "markdown",
   "metadata": {},
   "source": [
    "What we can observe from the two PR-curves is that the for positive sentiments, ComplementNB is very good and the relationship between precision and recall is a natural curve, e.g. that lower precision gives higher recall and vice versa. The important thing of note here is that both precision and recall can reach 100%, at the expense of the other. The AP-score of 0.98 is very good, and shows that the model is very good at predicting positive reviews, which is not surprising. \n",
    "\n",
    "As for the PR-curve for the minority class (negative sentiment), it performs significantly worse, with an AP-score of 0.66. We can observe from the curve that when recall is at 0, precision is at 0 too. As precision / recall increases, the other value increases as well, to a maximum of 100% for recall and around 80% for precision. This is a decent result, as it shows that even though there is an extreme overweight of positive reviews, the model can still predict negative reviews with a decent accuracy. "
   ]
  },
  {
   "cell_type": "markdown",
   "metadata": {},
   "source": [
    "#### **Visualizing the top features that are most indicative of positive and negative sentiment of reviews**"
   ]
  },
  {
   "cell_type": "code",
   "execution_count": null,
   "metadata": {},
   "outputs": [
    {
     "ename": "NameError",
     "evalue": "name 'grid' is not defined",
     "output_type": "error",
     "traceback": [
      "\u001b[0;31m---------------------------------------------------------------------------\u001b[0m",
      "\u001b[0;31mNameError\u001b[0m                                 Traceback (most recent call last)",
      "Cell \u001b[0;32mIn[48], line 1\u001b[0m\n\u001b[0;32m----> 1\u001b[0m vectorizer \u001b[38;5;241m=\u001b[39m grid\u001b[38;5;241m.\u001b[39mbest_estimator_\u001b[38;5;241m.\u001b[39mnamed_steps[\u001b[38;5;124m\"\u001b[39m\u001b[38;5;124mtfidfvectorizer\u001b[39m\u001b[38;5;124m\"\u001b[39m] \n\u001b[1;32m      2\u001b[0m X_train_transformed \u001b[38;5;241m=\u001b[39m vectorizer\u001b[38;5;241m.\u001b[39mtransform(X_train)\n\u001b[1;32m      4\u001b[0m max_value \u001b[38;5;241m=\u001b[39m X_train_transformed\u001b[38;5;241m.\u001b[39mmax(axis\u001b[38;5;241m=\u001b[39m\u001b[38;5;241m0\u001b[39m)\u001b[38;5;241m.\u001b[39mtoarray()\u001b[38;5;241m.\u001b[39mravel() \n",
      "\u001b[0;31mNameError\u001b[0m: name 'grid' is not defined"
     ]
    }
   ],
   "source": [
    "visualize_top_features(grid, X_train, classifier_step=\"complementnb\")"
   ]
  },
  {
   "cell_type": "markdown",
   "metadata": {},
   "source": [
    "The visualization reflects the top 20 features that are most indicative of positive and negative reviews from the best ComplementNB model. We see a lot of the same bigrams as in the MultinomialNB model, and this model also includes trigrams. The model also understands the negation scenario described in Multinomial section. Apart from this, there is not much more to say than already described in the MultinomialNB section."
   ]
  },
  {
   "cell_type": "markdown",
   "metadata": {},
   "source": [
    "### **Brief summary of the Complement NB Model and comparison to Multinomial NB**"
   ]
  },
  {
   "cell_type": "markdown",
   "metadata": {},
   "source": [
    "MultinomialNB and ComplementNB, although being based off the same algorithm perform a bit differently on our dataset. The main difference between the two models is that ComplementNB is much better at predicting negative reviews, while insignificantly better at predicting positive reviews. This is due to the fact that ComplementNB is designed to handle imbalanced datasets, and can adjust the weights of features that are overrepresented in the majority class. This is a good choice for our dataset, which has a large number of positive reviews and a smaller number of negative reviews. Thus we can conclude that while both models are excellent at predicting positive reviews, ComplementNB has a better approach to sentiment analysis as it also is decent at predicting negative reviews. "
   ]
  },
  {
   "cell_type": "markdown",
   "metadata": {},
   "source": [
    "## **Tree based model (XGBoost)**\n"
   ]
  },
  {
   "cell_type": "markdown",
   "metadata": {},
   "source": [
    "### **Creating a benchmark model**"
   ]
  },
  {
   "cell_type": "markdown",
   "metadata": {},
   "source": [
    "We start with a \"base learner\" model, which is a simple XGBoost model with default hyperparameters. This gradient boosting classifier model will serve as a benchmark for the more advanced models we will build later. The base model build 100 trees during training and the model uses a histogram-based method for building the trees, which is fast for large datasets like ours. Although allowing the model to build more trees can potentially improve accuracy, it may also lead to overfitting. Therefore, we choose 100 trees as a starting point for our benchmark model to allow it to capture the underlying patterns in the data without overfitting. "
   ]
  },
  {
   "cell_type": "code",
   "execution_count": null,
   "metadata": {},
   "outputs": [
    {
     "name": "stdout",
     "output_type": "stream",
     "text": [
      "              precision    recall  f1-score   support\n",
      "\n",
      "           0       0.75      0.41      0.53     25970\n",
      "           1       0.89      0.97      0.93    127703\n",
      "\n",
      "    accuracy                           0.88    153673\n",
      "   macro avg       0.82      0.69      0.73    153673\n",
      "weighted avg       0.87      0.88      0.86    153673\n",
      "\n"
     ]
    }
   ],
   "source": [
    "vectorizer = TfidfVectorizer(min_df = 5, max_df=0.8)\n",
    "\n",
    "X_train_tfidf = vectorizer.fit_transform(X_train)\n",
    "\n",
    "xgb_clf = XGBClassifier(n_estimators = 100, tree_method='hist', n_jobs=-1)\n",
    "\n",
    "xgb_clf.fit(X_train_tfidf, y_train)\n",
    "\n",
    "y_pred = xgb_clf.predict(vectorizer.transform(X_test))\n",
    "\n",
    "print(classification_report(y_test, y_pred))"
   ]
  },
  {
   "cell_type": "markdown",
   "metadata": {},
   "source": [
    "From the classification report, we can observe that with a relatively simple model, with a small number of trees (100) we still get a pretty good result. A weighted average F1-score of 0.86 indicates that the model is performing well overall. As for the other models this XGBoost model performs very well for class 1 (high recall, precision, and F1-score), but it struggles with class 0 (low recall), meaning it's not identifying all of the class 0 instances correctly. This trade-off highlights the need to adjust the model further. XGBoost is a model that is extremely sensitive to hyperparameters, thus we will move forward with tuning the hyperparameters to get the best possible result."
   ]
  },
  {
   "cell_type": "markdown",
   "metadata": {},
   "source": [
    "### **Visualizing important words influencing the models predictions**"
   ]
  },
  {
   "cell_type": "code",
   "execution_count": 105,
   "metadata": {},
   "outputs": [
    {
     "name": "stdout",
     "output_type": "stream",
     "text": [
      "15975\n"
     ]
    },
    {
     "data": {
      "text/html": [
       "<div>\n",
       "<style scoped>\n",
       "    .dataframe tbody tr th:only-of-type {\n",
       "        vertical-align: middle;\n",
       "    }\n",
       "\n",
       "    .dataframe tbody tr th {\n",
       "        vertical-align: top;\n",
       "    }\n",
       "\n",
       "    .dataframe thead th {\n",
       "        text-align: right;\n",
       "    }\n",
       "</style>\n",
       "<table border=\"1\" class=\"dataframe\">\n",
       "  <thead>\n",
       "    <tr style=\"text-align: right;\">\n",
       "      <th></th>\n",
       "      <th>Feature</th>\n",
       "      <th>Importance</th>\n",
       "    </tr>\n",
       "  </thead>\n",
       "  <tbody>\n",
       "    <tr>\n",
       "      <th>5437</th>\n",
       "      <td>excellent</td>\n",
       "      <td>0.018471</td>\n",
       "    </tr>\n",
       "    <tr>\n",
       "      <th>10512</th>\n",
       "      <td>perfect</td>\n",
       "      <td>0.013607</td>\n",
       "    </tr>\n",
       "    <tr>\n",
       "      <th>4519</th>\n",
       "      <td>dirty</td>\n",
       "      <td>0.013279</td>\n",
       "    </tr>\n",
       "    <tr>\n",
       "      <th>5697</th>\n",
       "      <td>fantastic</td>\n",
       "      <td>0.011675</td>\n",
       "    </tr>\n",
       "    <tr>\n",
       "      <th>1679</th>\n",
       "      <td>bad</td>\n",
       "      <td>0.011274</td>\n",
       "    </tr>\n",
       "    <tr>\n",
       "      <th>6618</th>\n",
       "      <td>great</td>\n",
       "      <td>0.011061</td>\n",
       "    </tr>\n",
       "    <tr>\n",
       "      <th>9564</th>\n",
       "      <td>never</td>\n",
       "      <td>0.010403</td>\n",
       "    </tr>\n",
       "    <tr>\n",
       "      <th>1103</th>\n",
       "      <td>amazing</td>\n",
       "      <td>0.010366</td>\n",
       "    </tr>\n",
       "    <tr>\n",
       "      <th>8551</th>\n",
       "      <td>lovely</td>\n",
       "      <td>0.010011</td>\n",
       "    </tr>\n",
       "    <tr>\n",
       "      <th>3325</th>\n",
       "      <td>comfortable</td>\n",
       "      <td>0.009409</td>\n",
       "    </tr>\n",
       "  </tbody>\n",
       "</table>\n",
       "</div>"
      ],
      "text/plain": [
       "           Feature  Importance\n",
       "5437     excellent    0.018471\n",
       "10512      perfect    0.013607\n",
       "4519         dirty    0.013279\n",
       "5697     fantastic    0.011675\n",
       "1679           bad    0.011274\n",
       "6618         great    0.011061\n",
       "9564         never    0.010403\n",
       "1103       amazing    0.010366\n",
       "8551        lovely    0.010011\n",
       "3325   comfortable    0.009409"
      ]
     },
     "execution_count": 105,
     "metadata": {},
     "output_type": "execute_result"
    }
   ],
   "source": [
    "importances = pd.DataFrame({\n",
    "    'Feature': vectorizer.get_feature_names_out(),\n",
    "    'Importance': xgb_clf.feature_importances_\n",
    "})\n",
    "\n",
    "print(importances.shape[0])\n",
    "\n",
    "importances = importances.sort_values(by='Importance', ascending=False)\n",
    "importances.head(10)"
   ]
  },
  {
   "cell_type": "code",
   "execution_count": 104,
   "metadata": {},
   "outputs": [
    {
     "data": {
      "text/plain": [
       "<Axes: xlabel='Feature'>"
      ]
     },
     "execution_count": 104,
     "metadata": {},
     "output_type": "execute_result"
    },
    {
     "data": {
      "image/png": "[encoded data removed]",
      "text/plain": [
       "<Figure size 1000x600 with 1 Axes>"
      ]
     },
     "metadata": {},
     "output_type": "display_data"
    }
   ],
   "source": [
    "importances[:10].plot.bar(x='Feature', y='Importance', figsize=(10, 6))"
   ]
  },
  {
   "cell_type": "markdown",
   "metadata": {},
   "source": [
    "The bar plot above shows the top 10 most important words influencing the model's predictions. The words shown here are what we typically expect to be important sentiment indicators in text. Since XGBoost looks at many features/words (15975) and not just a few, the importance is spread out, and no single feature dominates the importance scale. This leads to relatively small importance values for each individual word, even for those with high influence, such as 'excellent' and 'perfect'. However, when viewed in the context of all the features, these words still have a significant impact on the model’s decisions."
   ]
  },
  {
   "cell_type": "markdown",
   "metadata": {},
   "source": [
    "### **Hyperparameter tuning**"
   ]
  },
  {
   "cell_type": "markdown",
   "metadata": {},
   "source": [
    "Due to the extensive parameters of the model and the sheer size of our dataset, we opt for a randomized search over a grid search. This is because a grid search would take too long to run, and a randomized search is much more efficient for such a large dataset.\n",
    "\n",
    "As we did when building the other models, we also here create a pipeline including a TF-IDF vectorizer. The parameters chosen for the vectorizer are the same as in the previous models, ensuring that only words that appear in at least 5 documents are considered, words that appear in more than 80% of the reviews are excluded. The vectorizer can also capture both unigrams and bigrams because some word combinations can provide more context and sentiment information than individual words. We then pass the transformed data to an XGBoost classifier, which is the model we are tuning. The objective parameter specifies that we are solving a binary classification problem, where the model will output probabilities (logistic regression output) for class 0 or class 1. The model uses a histogram-based method for building the trees, which is fast for large datasets like ours. Evaluation metric is set to F1-score, because its useful in imbalanced classification tasks.\n",
    "\n",
    "The parameter grid for the model’s hyperparameters includes the most important parameters that can significantly affect the model’s performance. We use a wide range of values for each parameter to ensure that we explore a large portion of the hyperparameter space. RandomizedSearchCV will randomly sample combinations of these values and evaluate the model's performance using cross-validation. This process allows us to find the best combination of hyperparameters without exhaustively searching through all possible combinations, which would be computationally expensive and time-consuming."
   ]
  },
  {
   "cell_type": "code",
   "execution_count": null,
   "metadata": {},
   "outputs": [
    {
     "ename": "NameError",
     "evalue": "name 'param_grid' is not defined",
     "output_type": "error",
     "traceback": [
      "\u001b[0;31m---------------------------------------------------------------------------\u001b[0m",
      "\u001b[0;31mNameError\u001b[0m                                 Traceback (most recent call last)",
      "Cell \u001b[0;32mIn[152], line 13\u001b[0m\n\u001b[1;32m     10\u001b[0m f1_scorer \u001b[38;5;241m=\u001b[39m make_scorer(f1_score, average\u001b[38;5;241m=\u001b[39m\u001b[38;5;124m'\u001b[39m\u001b[38;5;124mmacro\u001b[39m\u001b[38;5;124m'\u001b[39m)\n\u001b[1;32m     12\u001b[0m kfold \u001b[38;5;241m=\u001b[39m StratifiedKFold(n_splits\u001b[38;5;241m=\u001b[39m\u001b[38;5;241m5\u001b[39m, shuffle\u001b[38;5;241m=\u001b[39m\u001b[38;5;28;01mTrue\u001b[39;00m, random_state\u001b[38;5;241m=\u001b[39m\u001b[38;5;241m42\u001b[39m)\n\u001b[0;32m---> 13\u001b[0m grid \u001b[38;5;241m=\u001b[39m RandomizedSearchCV(pipe, param_grid, cv\u001b[38;5;241m=\u001b[39mkfold, scoring\u001b[38;5;241m=\u001b[39mf1_scorer, refit\u001b[38;5;241m=\u001b[39m\u001b[38;5;28;01mTrue\u001b[39;00m, n_jobs\u001b[38;5;241m=\u001b[39m\u001b[38;5;241m-\u001b[39m\u001b[38;5;241m1\u001b[39m, n_iter\u001b[38;5;241m=\u001b[39m\u001b[38;5;241m10\u001b[39m, verbose\u001b[38;5;241m=\u001b[39m\u001b[38;5;241m1\u001b[39m)\n\u001b[1;32m     15\u001b[0m grid\u001b[38;5;241m.\u001b[39mfit(X_train, y_train)\n\u001b[1;32m     17\u001b[0m \u001b[38;5;28mprint\u001b[39m(\u001b[38;5;124m\"\u001b[39m\u001b[38;5;124mBest parameters: \u001b[39m\u001b[38;5;132;01m{}\u001b[39;00m\u001b[38;5;124m\"\u001b[39m\u001b[38;5;241m.\u001b[39mformat(grid\u001b[38;5;241m.\u001b[39mbest_params_))\n",
      "\u001b[0;31mNameError\u001b[0m: name 'param_grid' is not defined"
     ]
    }
   ],
   "source": [
    "pipe = make_pipeline(TfidfVectorizer(min_df = 5, max_df=0.8, ngram_range = (1,2)), XGBClassifier(objective='binary:logistic', tree_method='hist', n_jobs=-1, eval_metric='logloss'))\n",
    "\n",
    "param_dist = {'xgbclassifier__eta': [0.01, 0.05, 0.1, 0.2],\n",
    "               'xgbclassifier__max_depth': [3,5,7,9,12], \n",
    "               'xgbclassifier__n_estimators': [100, 250, 500, 750, 1000], \n",
    "               'xgbclassifier__subsample': [0.5, 0.6, 0.7, 0.8, 0.9, 1], \n",
    "               'xgbclassifier__colsample_bytree': [0.5, 0.6, 0.7, 0.8, 0.9, 1], \n",
    "               'xgbclassifier__lambda' : [0,1,2,5, 10] }\n",
    "\n",
    "f1_scorer = make_scorer(f1_score, average='macro')\n",
    "\n",
    "kfold = StratifiedKFold(n_splits=5, shuffle=True, random_state=42)\n",
    "grid = RandomizedSearchCV(pipe, param_dist, cv=kfold, scoring=f1_scorer, refit=True, n_jobs=-1, n_iter=10, verbose=1)\n",
    "\n",
    "grid.fit(X_train, y_train)\n",
    "\n",
    "print(\"Best parameters: {}\".format(grid.best_params_))\n",
    "print(\"Best cross-validation F1-score: {:.2f}\".format(grid.best_score_))\n",
    "print(\"Best estimator/model: {}\".format(grid.best_estimator_))"
   ]
  },
  {
   "cell_type": "markdown",
   "metadata": {},
   "source": [
    "### **Visualize the relationship between 'max_depth' and the mean test F1 score**\n"
   ]
  },
  {
   "cell_type": "code",
   "execution_count": null,
   "metadata": {},
   "outputs": [],
   "source": [
    "results = pd.DataFrame(grid.cv_results_)\n",
    "plt.figure(figsize=(8, 6))\n",
    "plt.scatter(results['param_xgbclassifier_max_depth'], results['mean_test_score'])\n",
    "plt.xlabel('Max Depth')\n",
    "plt.ylabel('Mean F1 Score')\n",
    "plt.title('Hyperparameter Search: Max Depth vs. F1 Score')\n",
    "plt.show()"
   ]
  },
  {
   "cell_type": "markdown",
   "metadata": {},
   "source": [
    "kommenter det vi ser"
   ]
  },
  {
   "cell_type": "markdown",
   "metadata": {},
   "source": [
    "### **Making predictions using the best model and evaluating the model**"
   ]
  },
  {
   "cell_type": "code",
   "execution_count": null,
   "metadata": {},
   "outputs": [],
   "source": [
    "y_pred = grid.predict(X_test)\n",
    "\n",
    "print(classification_report(y_test, y_pred))\n",
    "\n",
    "cm = confusion_matrix(y_test, y_pred)\n",
    "sns.heatmap(cm, annot=True, fmt='d', cmap='Blues')\n",
    "plt.xlabel('Predicted')\n",
    "plt.ylabel('True')\n",
    "plt.show()"
   ]
  },
  {
   "cell_type": "markdown",
   "metadata": {},
   "source": [
    "kommenter confusion matrix of classification report"
   ]
  },
  {
   "cell_type": "markdown",
   "metadata": {},
   "source": [
    "### **Precision-Recall Curves for Positive and Negative Sentiments**"
   ]
  },
  {
   "cell_type": "code",
   "execution_count": null,
   "metadata": {},
   "outputs": [],
   "source": [
    "# Positive sentiment\n",
    "y_scores_pos = grid.predict_proba(X_test)[:, 1]\n",
    "plot_precision_recall_curve(y_test, y_scores_pos, 'positive')\n",
    "\n",
    "# Negative sentiment\n",
    "y_scores_neg = grid.predict_proba(X_test)[:, 0]\n",
    "plot_precision_recall_curve(y_test, y_scores_neg, 'negative')"
   ]
  },
  {
   "cell_type": "markdown",
   "metadata": {},
   "source": [
    "kommenter PR kurvene"
   ]
  },
  {
   "cell_type": "markdown",
   "metadata": {},
   "source": [
    "## **LSTM Model**"
   ]
  },
  {
   "cell_type": "markdown",
   "metadata": {},
   "source": [
    "### **Preprocessing the data for the LSTM model**"
   ]
  },
  {
   "cell_type": "markdown",
   "metadata": {},
   "source": [
    "#### **Tokenizing and padding**"
   ]
  },
  {
   "cell_type": "markdown",
   "metadata": {},
   "source": [
    "Here we prepare the reviews for the LSTM model by tokenizing the text and padding the sequences. The parameter num_words is set to 5000 to limits the tokenizer to only consider the top 5000 most frequent words to help reduce the vocabulary size and improve the efficiency of the model. Words that are not among these 5000 words are represented by \"OOV\". texts_to_sequences converts each review into a sequence of integers, where each word in the text is replaced with its corresponding integer value from the vocabulary. "
   ]
  },
  {
   "cell_type": "code",
   "execution_count": null,
   "metadata": {},
   "outputs": [
    {
     "name": "stderr",
     "output_type": "stream",
     "text": [
      "2025-03-18 14:20:44.896039: I tensorflow/core/platform/cpu_feature_guard.cc:210] This TensorFlow binary is optimized to use available CPU instructions in performance-critical operations.\n",
      "To enable the following instructions: AVX2 FMA, in other operations, rebuild TensorFlow with the appropriate compiler flags.\n"
     ]
    }
   ],
   "source": [
    "tokenizer = Tokenizer(num_words=5000, oov_token=\"<OOV>\")\n",
    "tokenizer.fit_on_texts(X_train)\n",
    "\n",
    "X_train_seq = tokenizer.texts_to_sequences(X_train)\n",
    "X_test_seq = tokenizer.texts_to_sequences(X_test)"
   ]
  },
  {
   "cell_type": "markdown",
   "metadata": {},
   "source": [
    "Next, we use padding to ensure that all sequences have the same length and truncate longer sequences to the specified maximum length. This is necessary because the LSTM model requires fixed-length inputs to process them correctly. "
   ]
  },
  {
   "cell_type": "code",
   "execution_count": null,
   "metadata": {},
   "outputs": [
    {
     "name": "stdout",
     "output_type": "stream",
     "text": [
      "753\n"
     ]
    }
   ],
   "source": [
    "max_length_train = max([len(review) for review in X_train_seq])\n",
    "max_length_test = max([len(review) for review in X_test_seq])\n",
    "max_length = max(max_length_train, max_length_test)\n",
    "print(max_length)\n",
    "\n",
    "X_train_padded = pad_sequences(X_train_seq, maxlen=max_length, padding='post', truncating='post')\n",
    "X_test_padded = pad_sequences(X_test_seq, maxlen=max_length, padding='post', truncating='post')"
   ]
  },
  {
   "cell_type": "markdown",
   "metadata": {},
   "source": [
    "As we can see, the model will receive inputs that all have a consistent size of 753 tokens."
   ]
  },
  {
   "cell_type": "markdown",
   "metadata": {},
   "source": [
    "To better understand how many reviews are really long and how many are short we plot a histogram of the review lengths. If most of the sequences are significantly shorter than 753, then it might be worth considering truncating some of them further (i.e., reducing maxlen) to make the model more efficient."
   ]
  },
  {
   "cell_type": "code",
   "execution_count": null,
   "metadata": {},
   "outputs": [],
   "source": [
    "# Check distribution of review length\n",
    "seq_lengths = [len(review) for review in X_train_seq]\n",
    "plt.hist(seq_lengths, bins=50)\n",
    "plt.xlabel('Sequence Length')\n",
    "plt.ylabel('Frequency')\n",
    "plt.title('Distribution of Sequence Lengths')\n",
    "plt.show()"
   ]
  },
  {
   "cell_type": "markdown",
   "metadata": {},
   "source": [
    "kommentere hva vi ser og eventuelt justere maxlen basert på dette"
   ]
  },
  {
   "cell_type": "code",
   "execution_count": null,
   "metadata": {},
   "outputs": [
    {
     "name": "stdout",
     "output_type": "stream",
     "text": [
      "X_train_padded:\n",
      "[[[ 80]\n",
      "  [ 48]\n",
      "  [ 12]\n",
      "  ...\n",
      "  [  0]\n",
      "  [  0]\n",
      "  [  0]]\n",
      "\n",
      " [[123]\n",
      "  [408]\n",
      "  [231]\n",
      "  ...\n",
      "  [  0]\n",
      "  [  0]\n",
      "  [  0]]\n",
      "\n",
      " [[ 74]\n",
      "  [ 15]\n",
      "  [ 22]\n",
      "  ...\n",
      "  [  0]\n",
      "  [  0]\n",
      "  [  0]]\n",
      "\n",
      " ...\n",
      "\n",
      " [[123]\n",
      "  [ 40]\n",
      "  [ 25]\n",
      "  ...\n",
      "  [  0]\n",
      "  [  0]\n",
      "  [  0]]\n",
      "\n",
      " [[ 10]\n",
      "  [359]\n",
      "  [ 14]\n",
      "  ...\n",
      "  [  0]\n",
      "  [  0]\n",
      "  [  0]]\n",
      "\n",
      " [[  9]\n",
      "  [ 52]\n",
      "  [  7]\n",
      "  ...\n",
      "  [  0]\n",
      "  [  0]\n",
      "  [  0]]]\n",
      "\n",
      "X_test_padded:\n",
      "[[[308]\n",
      "  [  4]\n",
      "  [341]\n",
      "  ...\n",
      "  [  0]\n",
      "  [  0]\n",
      "  [  0]]\n",
      "\n",
      " [[ 61]\n",
      "  [ 56]\n",
      "  [  4]\n",
      "  ...\n",
      "  [  0]\n",
      "  [  0]\n",
      "  [  0]]\n",
      "\n",
      " [[ 16]\n",
      "  [ 59]\n",
      "  [262]\n",
      "  ...\n",
      "  [  0]\n",
      "  [  0]\n",
      "  [  0]]\n",
      "\n",
      " ...\n",
      "\n",
      " [[ 18]\n",
      "  [ 19]\n",
      "  [282]\n",
      "  ...\n",
      "  [  0]\n",
      "  [  0]\n",
      "  [  0]]\n",
      "\n",
      " [[ 83]\n",
      "  [  5]\n",
      "  [264]\n",
      "  ...\n",
      "  [  0]\n",
      "  [  0]\n",
      "  [  0]]\n",
      "\n",
      " [[ 58]\n",
      "  [ 16]\n",
      "  [132]\n",
      "  ...\n",
      "  [  0]\n",
      "  [  0]\n",
      "  [  0]]]\n"
     ]
    }
   ],
   "source": [
    "X_train_padded = X_train_padded.reshape((X_train_padded.shape[0], X_train_padded.shape[1], 1))\n",
    "X_test_padded = X_test_padded.reshape((X_test_padded.shape[0], X_test_padded.shape[1], 1))\n",
    "\n",
    "print(\"X_train_padded:\")\n",
    "print(X_train_padded)\n",
    "print(\"\\nX_test_padded:\")\n",
    "print(X_test_padded)"
   ]
  },
  {
   "cell_type": "markdown",
   "metadata": {},
   "source": [
    "### **Creating the LSTM model**"
   ]
  },
  {
   "cell_type": "code",
   "execution_count": null,
   "metadata": {},
   "outputs": [
    {
     "data": {
      "text/html": [
       "<pre style=\"white-space:pre;overflow-x:auto;line-height:normal;font-family:Menlo,'DejaVu Sans Mono',consolas,'Courier New',monospace\"><span style=\"font-weight: bold\">Model: \"sequential_8\"</span>\n",
       "</pre>\n"
      ],
      "text/plain": [
       "\u001b[1mModel: \"sequential_8\"\u001b[0m\n"
      ]
     },
     "metadata": {},
     "output_type": "display_data"
    },
    {
     "data": {
      "text/html": [
       "<pre style=\"white-space:pre;overflow-x:auto;line-height:normal;font-family:Menlo,'DejaVu Sans Mono',consolas,'Courier New',monospace\">┏━━━━━━━━━━━━━━━━━━━━━━━━━━━━━━━━━┳━━━━━━━━━━━━━━━━━━━━━━━━┳━━━━━━━━━━━━━━━┓\n",
       "┃<span style=\"font-weight: bold\"> Layer (type)                    </span>┃<span style=\"font-weight: bold\"> Output Shape           </span>┃<span style=\"font-weight: bold\">       Param # </span>┃\n",
       "┡━━━━━━━━━━━━━━━━━━━━━━━━━━━━━━━━━╇━━━━━━━━━━━━━━━━━━━━━━━━╇━━━━━━━━━━━━━━━┩\n",
       "│ embedding_7 (<span style=\"color: #0087ff; text-decoration-color: #0087ff\">Embedding</span>)         │ (<span style=\"color: #00d7ff; text-decoration-color: #00d7ff\">None</span>, <span style=\"color: #00af00; text-decoration-color: #00af00\">753</span>, <span style=\"color: #00af00; text-decoration-color: #00af00\">128</span>)       │       <span style=\"color: #00af00; text-decoration-color: #00af00\">640,000</span> │\n",
       "├─────────────────────────────────┼────────────────────────┼───────────────┤\n",
       "│ lstm_8 (<span style=\"color: #0087ff; text-decoration-color: #0087ff\">LSTM</span>)                   │ (<span style=\"color: #00d7ff; text-decoration-color: #00d7ff\">None</span>, <span style=\"color: #00af00; text-decoration-color: #00af00\">128</span>)            │       <span style=\"color: #00af00; text-decoration-color: #00af00\">131,584</span> │\n",
       "├─────────────────────────────────┼────────────────────────┼───────────────┤\n",
       "│ dropout_7 (<span style=\"color: #0087ff; text-decoration-color: #0087ff\">Dropout</span>)             │ (<span style=\"color: #00d7ff; text-decoration-color: #00d7ff\">None</span>, <span style=\"color: #00af00; text-decoration-color: #00af00\">128</span>)            │             <span style=\"color: #00af00; text-decoration-color: #00af00\">0</span> │\n",
       "├─────────────────────────────────┼────────────────────────┼───────────────┤\n",
       "│ dense_7 (<span style=\"color: #0087ff; text-decoration-color: #0087ff\">Dense</span>)                 │ (<span style=\"color: #00d7ff; text-decoration-color: #00d7ff\">None</span>, <span style=\"color: #00af00; text-decoration-color: #00af00\">1</span>)              │           <span style=\"color: #00af00; text-decoration-color: #00af00\">129</span> │\n",
       "└─────────────────────────────────┴────────────────────────┴───────────────┘\n",
       "</pre>\n"
      ],
      "text/plain": [
       "┏━━━━━━━━━━━━━━━━━━━━━━━━━━━━━━━━━┳━━━━━━━━━━━━━━━━━━━━━━━━┳━━━━━━━━━━━━━━━┓\n",
       "┃\u001b[1m \u001b[0m\u001b[1mLayer (type)                   \u001b[0m\u001b[1m \u001b[0m┃\u001b[1m \u001b[0m\u001b[1mOutput Shape          \u001b[0m\u001b[1m \u001b[0m┃\u001b[1m \u001b[0m\u001b[1m      Param #\u001b[0m\u001b[1m \u001b[0m┃\n",
       "┡━━━━━━━━━━━━━━━━━━━━━━━━━━━━━━━━━╇━━━━━━━━━━━━━━━━━━━━━━━━╇━━━━━━━━━━━━━━━┩\n",
       "│ embedding_7 (\u001b[38;5;33mEmbedding\u001b[0m)         │ (\u001b[38;5;45mNone\u001b[0m, \u001b[38;5;34m753\u001b[0m, \u001b[38;5;34m128\u001b[0m)       │       \u001b[38;5;34m640,000\u001b[0m │\n",
       "├─────────────────────────────────┼────────────────────────┼───────────────┤\n",
       "│ lstm_8 (\u001b[38;5;33mLSTM\u001b[0m)                   │ (\u001b[38;5;45mNone\u001b[0m, \u001b[38;5;34m128\u001b[0m)            │       \u001b[38;5;34m131,584\u001b[0m │\n",
       "├─────────────────────────────────┼────────────────────────┼───────────────┤\n",
       "│ dropout_7 (\u001b[38;5;33mDropout\u001b[0m)             │ (\u001b[38;5;45mNone\u001b[0m, \u001b[38;5;34m128\u001b[0m)            │             \u001b[38;5;34m0\u001b[0m │\n",
       "├─────────────────────────────────┼────────────────────────┼───────────────┤\n",
       "│ dense_7 (\u001b[38;5;33mDense\u001b[0m)                 │ (\u001b[38;5;45mNone\u001b[0m, \u001b[38;5;34m1\u001b[0m)              │           \u001b[38;5;34m129\u001b[0m │\n",
       "└─────────────────────────────────┴────────────────────────┴───────────────┘\n"
      ]
     },
     "metadata": {},
     "output_type": "display_data"
    },
    {
     "data": {
      "text/html": [
       "<pre style=\"white-space:pre;overflow-x:auto;line-height:normal;font-family:Menlo,'DejaVu Sans Mono',consolas,'Courier New',monospace\"><span style=\"font-weight: bold\"> Total params: </span><span style=\"color: #00af00; text-decoration-color: #00af00\">771,713</span> (2.94 MB)\n",
       "</pre>\n"
      ],
      "text/plain": [
       "\u001b[1m Total params: \u001b[0m\u001b[38;5;34m771,713\u001b[0m (2.94 MB)\n"
      ]
     },
     "metadata": {},
     "output_type": "display_data"
    },
    {
     "data": {
      "text/html": [
       "<pre style=\"white-space:pre;overflow-x:auto;line-height:normal;font-family:Menlo,'DejaVu Sans Mono',consolas,'Courier New',monospace\"><span style=\"font-weight: bold\"> Trainable params: </span><span style=\"color: #00af00; text-decoration-color: #00af00\">771,713</span> (2.94 MB)\n",
       "</pre>\n"
      ],
      "text/plain": [
       "\u001b[1m Trainable params: \u001b[0m\u001b[38;5;34m771,713\u001b[0m (2.94 MB)\n"
      ]
     },
     "metadata": {},
     "output_type": "display_data"
    },
    {
     "data": {
      "text/html": [
       "<pre style=\"white-space:pre;overflow-x:auto;line-height:normal;font-family:Menlo,'DejaVu Sans Mono',consolas,'Courier New',monospace\"><span style=\"font-weight: bold\"> Non-trainable params: </span><span style=\"color: #00af00; text-decoration-color: #00af00\">0</span> (0.00 B)\n",
       "</pre>\n"
      ],
      "text/plain": [
       "\u001b[1m Non-trainable params: \u001b[0m\u001b[38;5;34m0\u001b[0m (0.00 B)\n"
      ]
     },
     "metadata": {},
     "output_type": "display_data"
    }
   ],
   "source": [
    "model = Sequential()\n",
    "\n",
    "model.add(Embedding(input_dim=5000, output_dim=128, input_length=X_train_padded.shape[1]))\n",
    "model.add(LSTM(128))\n",
    "model.add(Dropout(0.3))\n",
    "model.add(Dense(1, activation='sigmoid'))\n",
    "\n",
    "model.compile(loss='binary_crossentropy', optimizer='adam', metrics=['accuracy'])\n",
    "\n",
    "model.summary()"
   ]
  },
  {
   "cell_type": "markdown",
   "metadata": {},
   "source": [
    "### **Training the LSTM model**"
   ]
  },
  {
   "cell_type": "code",
   "execution_count": 36,
   "metadata": {},
   "outputs": [
    {
     "name": "stdout",
     "output_type": "stream",
     "text": [
      "Epoch 1/5\n",
      "\u001b[1m6404/6404\u001b[0m \u001b[32m━━━━━━━━━━━━━━━━━━━━\u001b[0m\u001b[37m\u001b[0m \u001b[1m4155s\u001b[0m 648ms/step - accuracy: 0.8306 - loss: 0.4591 - val_accuracy: 0.8310 - val_loss: 0.4543\n",
      "Epoch 2/5\n",
      "\u001b[1m6404/6404\u001b[0m \u001b[32m━━━━━━━━━━━━━━━━━━━━\u001b[0m\u001b[37m\u001b[0m \u001b[1m4371s\u001b[0m 683ms/step - accuracy: 0.8321 - loss: 0.4540 - val_accuracy: 0.8310 - val_loss: 0.4543\n",
      "Epoch 3/5\n",
      "\u001b[1m6404/6404\u001b[0m \u001b[32m━━━━━━━━━━━━━━━━━━━━\u001b[0m\u001b[37m\u001b[0m \u001b[1m4791s\u001b[0m 748ms/step - accuracy: 0.8314 - loss: 0.4549 - val_accuracy: 0.8310 - val_loss: 0.4545\n",
      "Epoch 4/5\n",
      "\u001b[1m6404/6404\u001b[0m \u001b[32m━━━━━━━━━━━━━━━━━━━━\u001b[0m\u001b[37m\u001b[0m \u001b[1m4887s\u001b[0m 763ms/step - accuracy: 0.8307 - loss: 0.4563 - val_accuracy: 0.8310 - val_loss: 0.4544\n",
      "Epoch 5/5\n",
      "\u001b[1m6404/6404\u001b[0m \u001b[32m━━━━━━━━━━━━━━━━━━━━\u001b[0m\u001b[37m\u001b[0m \u001b[1m5013s\u001b[0m 783ms/step - accuracy: 0.8326 - loss: 0.4527 - val_accuracy: 0.8310 - val_loss: 0.4546\n"
     ]
    }
   ],
   "source": [
    "history = model.fit(X_train_padded, y_train, epochs=5, batch_size=64, validation_data=(X_test_padded, y_test))"
   ]
  },
  {
   "cell_type": "markdown",
   "metadata": {},
   "source": [
    "### **Predicting sentiment**"
   ]
  },
  {
   "cell_type": "code",
   "execution_count": null,
   "metadata": {},
   "outputs": [],
   "source": [
    "y_pred = model.predict_classes(X_test_padded)"
   ]
  },
  {
   "cell_type": "markdown",
   "metadata": {},
   "source": [
    "### **Evaluating the LSTM model**"
   ]
  },
  {
   "cell_type": "code",
   "execution_count": 38,
   "metadata": {},
   "outputs": [
    {
     "name": "stdout",
     "output_type": "stream",
     "text": [
      "\u001b[1m3202/3202\u001b[0m \u001b[32m━━━━━━━━━━━━━━━━━━━━\u001b[0m\u001b[37m\u001b[0m \u001b[1m401s\u001b[0m 125ms/step - accuracy: 0.8299 - loss: 0.4563\n",
      "Test accuracy: 0.8309988379478455\n"
     ]
    },
    {
     "data": {
      "image/png": "[encoded data removed]",
      "text/plain": [
       "<Figure size 640x480 with 1 Axes>"
      ]
     },
     "metadata": {},
     "output_type": "display_data"
    },
    {
     "data": {
      "image/png": "[encoded data removed]",
      "text/plain": [
       "<Figure size 640x480 with 1 Axes>"
      ]
     },
     "metadata": {},
     "output_type": "display_data"
    }
   ],
   "source": [
    "# test the model\n",
    "loss, accuracy = model.evaluate(X_test_padded, y_test)\n",
    "print('Test accuracy:', accuracy)\n",
    "\n",
    "# plot the training and validation accuracy\n",
    "plt.plot(history.history['accuracy'], label='accuracy')\n",
    "plt.plot(history.history['val_accuracy'], label = 'val_accuracy')\n",
    "plt.xlabel('Epoch')\n",
    "plt.ylabel('Accuracy')\n",
    "plt.ylim([0, 1])\n",
    "plt.legend(loc='lower right')\n",
    "plt.show()\n",
    "\n",
    "# plot the training and validation loss\n",
    "plt.plot(history.history['loss'], label='loss')\n",
    "plt.plot(history.history['val_loss'], label = 'val_loss')\n",
    "plt.xlabel('Epoch')\n",
    "plt.ylabel('Loss')\n",
    "plt.legend(loc='upper right')\n",
    "plt.show()"
   ]
  },
  {
   "cell_type": "code",
   "execution_count": null,
   "metadata": {},
   "outputs": [],
   "source": [
    "print(classification_report(y_test, y_pred))\n",
    "\n",
    "cm = confusion_matrix(y_test, y_pred)\n",
    "sns.heatmap(cm, annot=True, fmt='d', cmap='Blues')\n",
    "plt.xlabel('Predicted')\n",
    "plt.ylabel('True')\n",
    "plt.show()"
   ]
  }
 ],
 "metadata": {
  "kernelspec": {
   "display_name": "Python 3",
   "language": "python",
   "name": "python3"
  },
  "language_info": {
   "codemirror_mode": {
    "name": "ipython",
    "version": 3
   },
   "file_extension": ".py",
   "mimetype": "text/x-python",
   "name": "python",
   "nbconvert_exporter": "python",
   "pygments_lexer": "ipython3",
   "version": "3.12.7"
  }
 },
 "nbformat": 4,
 "nbformat_minor": 2
}
