{
 "cells": [
  {
   "cell_type": "markdown",
   "metadata": {},
   "source": [
    "# **INFO284 Machine Learning Exam, spring 2025**\n",
    "## **Task 1 - Sentiment analysis**"
   ]
  },
  {
   "cell_type": "markdown",
   "metadata": {},
   "source": [
    "# **Load data**"
   ]
  },
  {
   "cell_type": "code",
   "execution_count": 30,
   "metadata": {},
   "outputs": [
    {
     "data": {
      "text/html": [
       "<div>\n",
       "<style scoped>\n",
       "    .dataframe tbody tr th:only-of-type {\n",
       "        vertical-align: middle;\n",
       "    }\n",
       "\n",
       "    .dataframe tbody tr th {\n",
       "        vertical-align: top;\n",
       "    }\n",
       "\n",
       "    .dataframe thead th {\n",
       "        text-align: right;\n",
       "    }\n",
       "</style>\n",
       "<table border=\"1\" class=\"dataframe\">\n",
       "  <thead>\n",
       "    <tr style=\"text-align: right;\">\n",
       "      <th></th>\n",
       "      <th>Hotel_Address</th>\n",
       "      <th>Additional_Number_of_Scoring</th>\n",
       "      <th>Review_Date</th>\n",
       "      <th>Average_Score</th>\n",
       "      <th>Hotel_Name</th>\n",
       "      <th>Reviewer_Nationality</th>\n",
       "      <th>Negative_Review</th>\n",
       "      <th>Review_Total_Negative_Word_Counts</th>\n",
       "      <th>Total_Number_of_Reviews</th>\n",
       "      <th>Positive_Review</th>\n",
       "      <th>Review_Total_Positive_Word_Counts</th>\n",
       "      <th>Total_Number_of_Reviews_Reviewer_Has_Given</th>\n",
       "      <th>Reviewer_Score</th>\n",
       "      <th>Tags</th>\n",
       "      <th>days_since_review</th>\n",
       "      <th>lat</th>\n",
       "      <th>lng</th>\n",
       "    </tr>\n",
       "  </thead>\n",
       "  <tbody>\n",
       "    <tr>\n",
       "      <th>0</th>\n",
       "      <td>s Gravesandestraat 55 Oost 1092 AA Amsterdam ...</td>\n",
       "      <td>194</td>\n",
       "      <td>8/3/2017</td>\n",
       "      <td>7.7</td>\n",
       "      <td>Hotel Arena</td>\n",
       "      <td>Russia</td>\n",
       "      <td>I am so angry that i made this post available...</td>\n",
       "      <td>397</td>\n",
       "      <td>1403</td>\n",
       "      <td>Only the park outside of the hotel was beauti...</td>\n",
       "      <td>11</td>\n",
       "      <td>7</td>\n",
       "      <td>2.9</td>\n",
       "      <td>[' Leisure trip ', ' Couple ', ' Duplex Double...</td>\n",
       "      <td>0 days</td>\n",
       "      <td>52.360576</td>\n",
       "      <td>4.915968</td>\n",
       "    </tr>\n",
       "    <tr>\n",
       "      <th>1</th>\n",
       "      <td>s Gravesandestraat 55 Oost 1092 AA Amsterdam ...</td>\n",
       "      <td>194</td>\n",
       "      <td>8/3/2017</td>\n",
       "      <td>7.7</td>\n",
       "      <td>Hotel Arena</td>\n",
       "      <td>Ireland</td>\n",
       "      <td>No Negative</td>\n",
       "      <td>0</td>\n",
       "      <td>1403</td>\n",
       "      <td>No real complaints the hotel was great great ...</td>\n",
       "      <td>105</td>\n",
       "      <td>7</td>\n",
       "      <td>7.5</td>\n",
       "      <td>[' Leisure trip ', ' Couple ', ' Duplex Double...</td>\n",
       "      <td>0 days</td>\n",
       "      <td>52.360576</td>\n",
       "      <td>4.915968</td>\n",
       "    </tr>\n",
       "    <tr>\n",
       "      <th>2</th>\n",
       "      <td>s Gravesandestraat 55 Oost 1092 AA Amsterdam ...</td>\n",
       "      <td>194</td>\n",
       "      <td>7/31/2017</td>\n",
       "      <td>7.7</td>\n",
       "      <td>Hotel Arena</td>\n",
       "      <td>Australia</td>\n",
       "      <td>Rooms are nice but for elderly a bit difficul...</td>\n",
       "      <td>42</td>\n",
       "      <td>1403</td>\n",
       "      <td>Location was good and staff were ok It is cut...</td>\n",
       "      <td>21</td>\n",
       "      <td>9</td>\n",
       "      <td>7.1</td>\n",
       "      <td>[' Leisure trip ', ' Family with young childre...</td>\n",
       "      <td>3 days</td>\n",
       "      <td>52.360576</td>\n",
       "      <td>4.915968</td>\n",
       "    </tr>\n",
       "    <tr>\n",
       "      <th>3</th>\n",
       "      <td>s Gravesandestraat 55 Oost 1092 AA Amsterdam ...</td>\n",
       "      <td>194</td>\n",
       "      <td>7/31/2017</td>\n",
       "      <td>7.7</td>\n",
       "      <td>Hotel Arena</td>\n",
       "      <td>United Kingdom</td>\n",
       "      <td>My room was dirty and I was afraid to walk ba...</td>\n",
       "      <td>210</td>\n",
       "      <td>1403</td>\n",
       "      <td>Great location in nice surroundings the bar a...</td>\n",
       "      <td>26</td>\n",
       "      <td>1</td>\n",
       "      <td>3.8</td>\n",
       "      <td>[' Leisure trip ', ' Solo traveler ', ' Duplex...</td>\n",
       "      <td>3 days</td>\n",
       "      <td>52.360576</td>\n",
       "      <td>4.915968</td>\n",
       "    </tr>\n",
       "    <tr>\n",
       "      <th>4</th>\n",
       "      <td>s Gravesandestraat 55 Oost 1092 AA Amsterdam ...</td>\n",
       "      <td>194</td>\n",
       "      <td>7/24/2017</td>\n",
       "      <td>7.7</td>\n",
       "      <td>Hotel Arena</td>\n",
       "      <td>New Zealand</td>\n",
       "      <td>You When I booked with your company on line y...</td>\n",
       "      <td>140</td>\n",
       "      <td>1403</td>\n",
       "      <td>Amazing location and building Romantic setting</td>\n",
       "      <td>8</td>\n",
       "      <td>3</td>\n",
       "      <td>6.7</td>\n",
       "      <td>[' Leisure trip ', ' Couple ', ' Suite ', ' St...</td>\n",
       "      <td>10 days</td>\n",
       "      <td>52.360576</td>\n",
       "      <td>4.915968</td>\n",
       "    </tr>\n",
       "  </tbody>\n",
       "</table>\n",
       "</div>"
      ],
      "text/plain": [
       "                                       Hotel_Address  \\\n",
       "0   s Gravesandestraat 55 Oost 1092 AA Amsterdam ...   \n",
       "1   s Gravesandestraat 55 Oost 1092 AA Amsterdam ...   \n",
       "2   s Gravesandestraat 55 Oost 1092 AA Amsterdam ...   \n",
       "3   s Gravesandestraat 55 Oost 1092 AA Amsterdam ...   \n",
       "4   s Gravesandestraat 55 Oost 1092 AA Amsterdam ...   \n",
       "\n",
       "   Additional_Number_of_Scoring Review_Date  Average_Score   Hotel_Name  \\\n",
       "0                           194    8/3/2017            7.7  Hotel Arena   \n",
       "1                           194    8/3/2017            7.7  Hotel Arena   \n",
       "2                           194   7/31/2017            7.7  Hotel Arena   \n",
       "3                           194   7/31/2017            7.7  Hotel Arena   \n",
       "4                           194   7/24/2017            7.7  Hotel Arena   \n",
       "\n",
       "  Reviewer_Nationality                                    Negative_Review  \\\n",
       "0              Russia    I am so angry that i made this post available...   \n",
       "1             Ireland                                         No Negative   \n",
       "2           Australia    Rooms are nice but for elderly a bit difficul...   \n",
       "3      United Kingdom    My room was dirty and I was afraid to walk ba...   \n",
       "4         New Zealand    You When I booked with your company on line y...   \n",
       "\n",
       "   Review_Total_Negative_Word_Counts  Total_Number_of_Reviews  \\\n",
       "0                                397                     1403   \n",
       "1                                  0                     1403   \n",
       "2                                 42                     1403   \n",
       "3                                210                     1403   \n",
       "4                                140                     1403   \n",
       "\n",
       "                                     Positive_Review  \\\n",
       "0   Only the park outside of the hotel was beauti...   \n",
       "1   No real complaints the hotel was great great ...   \n",
       "2   Location was good and staff were ok It is cut...   \n",
       "3   Great location in nice surroundings the bar a...   \n",
       "4    Amazing location and building Romantic setting    \n",
       "\n",
       "   Review_Total_Positive_Word_Counts  \\\n",
       "0                                 11   \n",
       "1                                105   \n",
       "2                                 21   \n",
       "3                                 26   \n",
       "4                                  8   \n",
       "\n",
       "   Total_Number_of_Reviews_Reviewer_Has_Given  Reviewer_Score  \\\n",
       "0                                           7             2.9   \n",
       "1                                           7             7.5   \n",
       "2                                           9             7.1   \n",
       "3                                           1             3.8   \n",
       "4                                           3             6.7   \n",
       "\n",
       "                                                Tags days_since_review  \\\n",
       "0  [' Leisure trip ', ' Couple ', ' Duplex Double...            0 days   \n",
       "1  [' Leisure trip ', ' Couple ', ' Duplex Double...            0 days   \n",
       "2  [' Leisure trip ', ' Family with young childre...            3 days   \n",
       "3  [' Leisure trip ', ' Solo traveler ', ' Duplex...            3 days   \n",
       "4  [' Leisure trip ', ' Couple ', ' Suite ', ' St...           10 days   \n",
       "\n",
       "         lat       lng  \n",
       "0  52.360576  4.915968  \n",
       "1  52.360576  4.915968  \n",
       "2  52.360576  4.915968  \n",
       "3  52.360576  4.915968  \n",
       "4  52.360576  4.915968  "
      ]
     },
     "execution_count": 30,
     "metadata": {},
     "output_type": "execute_result"
    }
   ],
   "source": [
    "import pandas as pd\n",
    "\n",
    "# Read the data into a data frame (pandas) from the csv file\n",
    "df = pd.read_csv('dataset/Hotel_Reviews.csv')\n",
    "\n",
    "df.head() # show a overview of the data in the dataset\n",
    "\n"
   ]
  },
  {
   "cell_type": "markdown",
   "metadata": {},
   "source": [
    "# Exploring the data \n",
    "\n",
    "We get an overview of the data to find out the max and min values of the reviewer scores and to get an idea of the distribution of the scores."
   ]
  },
  {
   "cell_type": "code",
   "execution_count": 53,
   "metadata": {},
   "outputs": [
    {
     "name": "stdout",
     "output_type": "stream",
     "text": [
      "count    173702.000000\n",
      "mean          7.225339\n",
      "std           2.043325\n",
      "min           2.500000\n",
      "25%           5.800000\n",
      "50%           6.950000\n",
      "75%           9.200000\n",
      "max          10.000000\n",
      "Name: Reviewer_Score, dtype: float64\n"
     ]
    },
    {
     "name": "stdout",
     "output_type": "stream",
     "text": [
      "23541\n",
      "253\n"
     ]
    },
    {
     "data": {
      "image/png": "iVBORw0KGgoAAAANSUhEUgAAAjoAAAGdCAYAAAAbudkLAAAAOXRFWHRTb2Z0d2FyZQBNYXRwbG90bGliIHZlcnNpb24zLjkuMiwgaHR0cHM6Ly9tYXRwbG90bGliLm9yZy8hTgPZAAAACXBIWXMAAA9hAAAPYQGoP6dpAAAoT0lEQVR4nO3df1RU953/8dfIjxFcnAgWhtmAkiyhRqib1Q2CSTVVQdYfzdoTk7JldTXGPdoYqjTVuD3BRiHFxLgLpza6nmgklvyRmk1iiuB2aw4Hf9Kyq8ZjzYn1RwuSRgT80WEC9/tHDvPNiL9QLiMfn49zOGHuvOfO+81cwsvPzJ1xWJZlCQAAwEADgt0AAACAXQg6AADAWAQdAABgLIIOAAAwFkEHAAAYi6ADAACMRdABAADGIugAAABjhQa7gWDq7OzUn/70J0VFRcnhcAS7HQAAcBMsy1JbW5s8Ho8GDLj+ms1dHXT+9Kc/KSEhIdhtAACAW3D69Gnde++91625q4NOVFSUpC9/UIMHDw5yN73D5/OpqqpKWVlZCgsLC3Y7tmNeszGv2ZjXfHbN3NraqoSEBP/f8eu5q4NO19NVgwcPNiroREZGavDgwXfFLxLzmo15zca85rN75pt52QkvRgYAAMYi6AAAAGMRdAAAgLEIOgAAwFgEHQAAYCyCDgAAMBZBBwAAGIugAwAAjEXQAQAAxiLoAAAAYxF0AACAsQg6AADAWAQdAABgLIIOAAAwVmiwGwAAAME1fNkOW/brDLFU8rAtu75prOgAAABjEXQAAICxCDoAAMBYBB0AAGAsgg4AADAWQQcAABiLoAMAAIxF0AEAAMYi6AAAAGMRdAAAgLEIOgAAwFgEHQAAYCyCDgAAMBZBBwAAGIugAwAAjEXQAQAAxiLoAAAAYxF0AACAsQg6AADAWAQdAABgLIIOAAAwFkEHAAAYi6ADAACMRdABAADGIugAAABjEXQAAICxCDoAAMBYBB0AAGAsgg4AADAWQQcAABiLoAMAAIxF0AEAAMYi6AAAAGMRdAAAgLEIOgAAwFgEHQAAYCyCDgAAMBZBBwAAGIugAwAAjEXQAQAAxiLoAAAAYxF0AACAsQg6AADAWAQdAABgLIIOAAAwFkEHAAAYi6ADAACMRdABAADG6lHQKS4u1t///d8rKipKsbGxevzxx3Xs2LGAGsuyVFhYKI/Ho4iICE2YMEFHjhwJqPF6vXr22Wc1dOhQDRo0SDNmzNCZM2cCapqbm5WXlyeXyyWXy6W8vDydP38+oObUqVOaPn26Bg0apKFDh2rx4sVqb2/vyUgAAMBgPQo6u3fv1qJFi7R3715VV1friy++UFZWli5evOivKSkp0dq1a1VWVqYDBw7I7XZr8uTJamtr89fk5+dr+/btqqioUE1NjS5cuKBp06apo6PDX5Obm6v6+npVVlaqsrJS9fX1ysvL81/f0dGhqVOn6uLFi6qpqVFFRYXeeecdLV269HZ+HgAAwCChPSmurKwMuPzGG28oNjZWdXV1+uY3vynLsrRu3TqtWLFCM2fOlCRt2bJFcXFx2rZtmxYsWKCWlhZt2rRJW7du1aRJkyRJ5eXlSkhI0K5du5Sdna2jR4+qsrJSe/fuVXp6uiRp48aNysjI0LFjx5SSkqKqqip9/PHHOn36tDwejyTp1Vdf1Zw5c7R69WoNHjz4tn84AACgf+tR0LlSS0uLJCk6OlqSdOLECTU2NiorK8tf43Q6NX78eNXW1mrBggWqq6uTz+cLqPF4PEpNTVVtba2ys7O1Z88euVwuf8iRpLFjx8rlcqm2tlYpKSnas2ePUlNT/SFHkrKzs+X1elVXV6fHHnusW79er1der9d/ubW1VZLk8/nk8/lu50dxx+iaw5R5boR5zca8ZmPeO4czxLJnvwO+3G9vz9yT/d1y0LEsS0uWLNEjjzyi1NRUSVJjY6MkKS4uLqA2Li5OJ0+e9NeEh4dryJAh3Wq6bt/Y2KjY2Nhu9xkbGxtQc+X9DBkyROHh4f6aKxUXF2vlypXdtldVVSkyMvKGM/cn1dXVwW6hTzGv2ZjXbMwbfCUP27v/3p750qVLN117y0Hn+9//vv7v//5PNTU13a5zOBwBly3L6rbtSlfWXK3+Vmq+avny5VqyZIn/cmtrqxISEpSVlWXMU10+n0/V1dWaPHmywsLCgt2O7ZjXbMxrNua9c6QW7rRlv84Bll4a09nrM3c9I3MzbinoPPvss3rvvff00Ucf6d577/Vvd7vdkr5cbYmPj/dvb2pq8q++uN1utbe3q7m5OWBVp6mpSZmZmf6as2fPdrvfzz77LGA/+/btC7i+ublZPp+v20pPF6fTKafT2W17WFjYHXfQ3S4TZ7oe5jUb85qNeYPP23H9xYjb1dsz92RfPTrryrIsff/739cvf/lL/frXv1ZSUlLA9UlJSXK73QFLVO3t7dq9e7c/xIwePVphYWEBNQ0NDTp8+LC/JiMjQy0tLdq/f7+/Zt++fWppaQmoOXz4sBoaGvw1VVVVcjqdGj16dE/GAgAAhurRis6iRYu0bds2/dd//ZeioqL8r4VxuVyKiIiQw+FQfn6+ioqKlJycrOTkZBUVFSkyMlK5ubn+2nnz5mnp0qWKiYlRdHS0CgoKlJaW5j8La8SIEZoyZYrmz5+v119/XZL0zDPPaNq0aUpJSZEkZWVl6cEHH1ReXp7WrFmjc+fOqaCgQPPnzzfmaSgAAHB7ehR01q9fL0maMGFCwPY33nhDc+bMkSQ9//zzunz5shYuXKjm5malp6erqqpKUVFR/vrXXntNoaGhmjVrli5fvqyJEydq8+bNCgkJ8de89dZbWrx4sf/srBkzZqisrMx/fUhIiHbs2KGFCxdq3LhxioiIUG5url555ZUe/QAAAIC5ehR0LOvGp585HA4VFhaqsLDwmjUDBw5UaWmpSktLr1kTHR2t8vLy695XYmKiPvjggxv2BAAA7k581hUAADAWQQcAABiLoAMAAIxF0AEAAMYi6AAAAGMRdAAAgLEIOgAAwFgEHQAAYCyCDgAAMBZBBwAAGIugAwAAjNWjz7oCAHxp+LIdvb5PZ4ilkod7fbfAXY0VHQAAYCyCDgAAMBZBBwAAGIugAwAAjEXQAQAAxiLoAAAAYxF0AACAsQg6AADAWAQdAABgLIIOAAAwFkEHAAAYi6ADAACMRdABAADGIugAAABjEXQAAICxCDoAAMBYBB0AAGAsgg4AADAWQQcAABiLoAMAAIxF0AEAAMYi6AAAAGMRdAAAgLEIOgAAwFgEHQAAYCyCDgAAMBZBBwAAGIugAwAAjEXQAQAAxiLoAAAAYxF0AACAsQg6AADAWAQdAABgLIIOAAAwFkEHAAAYi6ADAACMRdABAADGIugAAABjEXQAAICxCDoAAMBYBB0AAGAsgg4AADAWQQcAABiLoAMAAIxF0AEAAMYi6AAAAGMRdAAAgLEIOgAAwFgEHQAAYCyCDgAAMBZBBwAAGIugAwAAjBXa0xt89NFHWrNmjerq6tTQ0KDt27fr8ccf918/Z84cbdmyJeA26enp2rt3r/+y1+tVQUGBfvGLX+jy5cuaOHGifvazn+nee+/11zQ3N2vx4sV67733JEkzZsxQaWmp7rnnHn/NqVOntGjRIv36179WRESEcnNz9corryg8PLynYwEw0PBlO4LdAoAg6/GKzsWLFzVq1CiVlZVds2bKlClqaGjwf3344YcB1+fn52v79u2qqKhQTU2NLly4oGnTpqmjo8Nfk5ubq/r6elVWVqqyslL19fXKy8vzX9/R0aGpU6fq4sWLqqmpUUVFhd555x0tXbq0pyMBAABD9XhFJycnRzk5OdetcTqdcrvdV72upaVFmzZt0tatWzVp0iRJUnl5uRISErRr1y5lZ2fr6NGjqqys1N69e5Weni5J2rhxozIyMnTs2DGlpKSoqqpKH3/8sU6fPi2PxyNJevXVVzVnzhytXr1agwcP7uloAADAMD0OOjfjN7/5jWJjY3XPPfdo/PjxWr16tWJjYyVJdXV18vl8ysrK8td7PB6lpqaqtrZW2dnZ2rNnj1wulz/kSNLYsWPlcrlUW1urlJQU7dmzR6mpqf6QI0nZ2dnyer2qq6vTY4891q0vr9crr9frv9za2ipJ8vl88vl8vf5zCIauOUyZ50aY12y3O68zxOrNdmznHPBlvzy+ZrqT57Xrd8WuY7on++v1oJOTk6MnnnhCw4YN04kTJ/TjH/9Y3/rWt1RXVyen06nGxkaFh4dryJAhAbeLi4tTY2OjJKmxsdEfjL4qNjY2oCYuLi7g+iFDhig8PNxfc6Xi4mKtXLmy2/aqqipFRkbe0rx3qurq6mC30KeY12y3Om/Jw73cSB/h8TXbnTiv3b8rvT3zpUuXbrq214POk08+6f8+NTVVY8aM0bBhw7Rjxw7NnDnzmrezLEsOh8N/+avf307NVy1fvlxLlizxX25tbVVCQoKysrKMearL5/OpurpakydPVlhYWLDbsR3zmu12500t3GlDV/ZxDrD00phOHl9D3cnz2vW7Ytcx3fWMzM2w5amrr4qPj9ewYcN0/PhxSZLb7VZ7e7uam5sDVnWampqUmZnprzl79my3fX322Wf+VRy32619+/YFXN/c3Cyfz9dtpaeL0+mU0+nstj0sLOyOO+hul4kzXQ/zmu1W5/V2XP0fPXc6Hl+z3Ynz2v270tsz92Rftr+Pzueff67Tp08rPj5ekjR69GiFhYUFLGM1NDTo8OHD/qCTkZGhlpYW7d+/31+zb98+tbS0BNQcPnxYDQ0N/pqqqio5nU6NHj3a7rEAAEA/0OMVnQsXLuiTTz7xXz5x4oTq6+sVHR2t6OhoFRYW6jvf+Y7i4+P1hz/8QS+88IKGDh2qf/zHf5QkuVwuzZs3T0uXLlVMTIyio6NVUFCgtLQ0/1lYI0aM0JQpUzR//ny9/vrrkqRnnnlG06ZNU0pKiiQpKytLDz74oPLy8rRmzRqdO3dOBQUFmj9/vjFPQwEAgNvT46Bz8ODBgDOaul7zMnv2bK1fv16HDh3Sm2++qfPnzys+Pl6PPfaY3n77bUVFRflv89prryk0NFSzZs3yv2Hg5s2bFRIS4q956623tHjxYv/ZWTNmzAh4756QkBDt2LFDCxcu1Lhx4wLeMBAAAEC6haAzYcIEWda1T0PbufPGL2gaOHCgSktLVVpaes2a6OholZeXX3c/iYmJ+uCDD254fwAA4O7EZ10BAABjEXQAAICxbD+9HAAA3D4+pPbWsKIDAACMRdABAADGIugAAABjEXQAAICxCDoAAMBYBB0AAGAsgg4AADAWQQcAABiLoAMAAIxF0AEAAMYi6AAAAGMRdAAAgLEIOgAAwFgEHQAAYCyCDgAAMBZBBwAAGIugAwAAjEXQAQAAxiLoAAAAYxF0AACAsQg6AADAWAQdAABgLIIOAAAwFkEHAAAYi6ADAACMRdABAADGIugAAABjEXQAAICxCDoAAMBYBB0AAGAsgg4AADBWaLAbANA/DF+2w7Z9/+HlqbbtG8DdjRUdAABgLIIOAAAwFkEHAAAYi9foAADQi671ejZniKWSh6XUwp3ydjj6uKu7Fys6AADAWAQdAABgLIIOAAAwFkEHAAAYi6ADAACMRdABAADGIugAAABjEXQAAICxCDoAAMBYBB0AAGAsgg4AADAWQQcAABiLoAMAAIxF0AEAAMYi6AAAAGMRdAAAgLEIOgAAwFgEHQAAYCyCDgAAMBZBBwAAGIugAwAAjEXQAQAAxiLoAAAAYxF0AACAsQg6AADAWD0OOh999JGmT58uj8cjh8Ohd999N+B6y7JUWFgoj8ejiIgITZgwQUeOHAmo8Xq9evbZZzV06FANGjRIM2bM0JkzZwJqmpublZeXJ5fLJZfLpby8PJ0/fz6g5tSpU5o+fboGDRqkoUOHavHixWpvb+/pSAAAwFA9DjoXL17UqFGjVFZWdtXrS0pKtHbtWpWVlenAgQNyu92aPHmy2tra/DX5+fnavn27KioqVFNTowsXLmjatGnq6Ojw1+Tm5qq+vl6VlZWqrKxUfX298vLy/Nd3dHRo6tSpunjxompqalRRUaF33nlHS5cu7elIAADAUKE9vUFOTo5ycnKuep1lWVq3bp1WrFihmTNnSpK2bNmiuLg4bdu2TQsWLFBLS4s2bdqkrVu3atKkSZKk8vJyJSQkaNeuXcrOztbRo0dVWVmpvXv3Kj09XZK0ceNGZWRk6NixY0pJSVFVVZU+/vhjnT59Wh6PR5L06quvas6cOVq9erUGDx58Sz8QAABgjh4Hnes5ceKEGhsblZWV5d/mdDo1fvx41dbWasGCBaqrq5PP5wuo8Xg8Sk1NVW1trbKzs7Vnzx65XC5/yJGksWPHyuVyqba2VikpKdqzZ49SU1P9IUeSsrOz5fV6VVdXp8cee6xbf16vV16v13+5tbVVkuTz+eTz+XrzRxE0XXOYMs+NMG/fcYZYtu37WvPc7rx29mwH54Av++V47t+uddx1Pb5d/70b2HVM92R/vRp0GhsbJUlxcXEB2+Pi4nTy5El/TXh4uIYMGdKtpuv2jY2Nio2N7bb/2NjYgJor72fIkCEKDw/311ypuLhYK1eu7La9qqpKkZGRNzNiv1FdXR3sFvoU89qv5GH79v3hhx9e9/pbndfOnu3E8dy/3ei4e2lMZ980cgfp7cf40qVLN13bq0Gni8PhCLhsWVa3bVe6suZq9bdS81XLly/XkiVL/JdbW1uVkJCgrKwsY57q8vl8qq6u1uTJkxUWFhbsdmzHvH0ntXCnbfs+XJh91e23O6+dPdvBOcDSS2M6OZ77uWsdd12P748PDpC38/p/E01h1zHd9YzMzejVoON2uyV9udoSHx/v397U1ORffXG73Wpvb1dzc3PAqk5TU5MyMzP9NWfPnu22/88++yxgP/v27Qu4vrm5WT6fr9tKTxen0ymn09lte1hYmFG/ZJKZM10P89rP22Hf/5hvNMutzmtnz3bieO7fbnTceTsd/fbYvFW9/Rj3ZF+9+j46SUlJcrvdAUtU7e3t2r17tz/EjB49WmFhYQE1DQ0NOnz4sL8mIyNDLS0t2r9/v79m3759amlpCag5fPiwGhoa/DVVVVVyOp0aPXp0b44FAAD6qR6v6Fy4cEGffPKJ//KJEydUX1+v6OhoJSYmKj8/X0VFRUpOTlZycrKKiooUGRmp3NxcSZLL5dK8efO0dOlSxcTEKDo6WgUFBUpLS/OfhTVixAhNmTJF8+fP1+uvvy5JeuaZZzRt2jSlpKRIkrKysvTggw8qLy9Pa9as0blz51RQUKD58+cb8zQUAAC4PT0OOgcPHgw4o6nrNS+zZ8/W5s2b9fzzz+vy5ctauHChmpublZ6erqqqKkVFRflv89prryk0NFSzZs3S5cuXNXHiRG3evFkhISH+mrfeekuLFy/2n501Y8aMgPfuCQkJ0Y4dO7Rw4UKNGzdOERERys3N1SuvvNLznwIAADBSj4POhAkTZFnXPjXO4XCosLBQhYWF16wZOHCgSktLVVpaes2a6OholZeXX7eXxMREffDBBzfsGQAA3J1sOesKQHAMX7Yj2C0AwB2FoAMAuOvwj4K7B59eDgAAjEXQAQAAxiLoAAAAYxF0AACAsQg6AADAWAQdAABgLIIOAAAwFkEHAAAYi6ADAACMRdABAADGIugAAABjEXQAAICxCDoAAMBYBB0AAGCs0GA3ANyNhi/bcUu3c4ZYKnlYSi3cKW+Ho5e7Au48t/q7AnRhRQcAABiLoAMAAIxF0AEAAMYi6AAAAGMRdAAAgLEIOgAAwFgEHQAAYCyCDgAAMBZBBwAAGIugAwAAjEXQAQAAxiLoAAAAYxF0AACAsQg6AADAWAQdAABgLIIOAAAwFkEHAAAYi6ADAACMRdABAADGIugAAABjhQa7AQBA3xi+bIct+/3Dy1Nt2S/QG1jRAQAAxiLoAAAAYxF0AACAsXiNDgDgttzqa3+cIZZKHpZSC3fK2+Ho5a6AL7GiAwAAjEXQAQAAxiLoAAAAYxF0AACAsQg6AADAWJx1BVyDXe8iCwDoO6zoAAAAYxF0AACAsQg6AADAWAQdAABgLIIOAAAwFkEHAAAYi6ADAACMRdABAADGIugAAABjEXQAAICxCDoAAMBYBB0AAGAsgg4AADAWQQcAABiLoAMAAIzV60GnsLBQDocj4MvtdvuvtyxLhYWF8ng8ioiI0IQJE3TkyJGAfXi9Xj377LMaOnSoBg0apBkzZujMmTMBNc3NzcrLy5PL5ZLL5VJeXp7Onz/f2+MAAIB+LNSOnY4cOVK7du3yXw4JCfF/X1JSorVr12rz5s164IEHtGrVKk2ePFnHjh1TVFSUJCk/P1/vv/++KioqFBMTo6VLl2ratGmqq6vz7ys3N1dnzpxRZWWlJOmZZ55RXl6e3n//fTtGAoA+k1q4U94OR7DbAIxgS9AJDQ0NWMXpYlmW1q1bpxUrVmjmzJmSpC1btiguLk7btm3TggUL1NLSok2bNmnr1q2aNGmSJKm8vFwJCQnatWuXsrOzdfToUVVWVmrv3r1KT0+XJG3cuFEZGRk6duyYUlJS7BgLdzD+MAAArsaW1+gcP35cHo9HSUlJeuqpp/Tpp59Kkk6cOKHGxkZlZWX5a51Op8aPH6/a2lpJUl1dnXw+X0CNx+NRamqqv2bPnj1yuVz+kCNJY8eOlcvl8tcAAAD0+opOenq63nzzTT3wwAM6e/asVq1apczMTB05ckSNjY2SpLi4uIDbxMXF6eTJk5KkxsZGhYeHa8iQId1qum7f2Nio2NjYbvcdGxvrr7kar9crr9frv9za2ipJ8vl88vl8tzDtnadrDlPmuZGuOZ0DrCB30je65jRt3msdr7d7PDtD+tfPydTH91qY13xds/b236Se7K/Xg05OTo7/+7S0NGVkZOj+++/Xli1bNHbsWEmSwxH4FINlWd22XenKmqvV32g/xcXFWrlyZbftVVVVioyMvO799zfV1dXBbqFPvTSmM9gt9CnT5v3www+ve/2tHs8lD9/SzYLOtMf3RpjXfL39N+nSpUs3XWvLa3S+atCgQUpLS9Px48f1+OOPS/pyRSY+Pt5f09TU5F/lcbvdam9vV3Nzc8CqTlNTkzIzM/01Z8+e7XZfn332WbfVoq9avny5lixZ4r/c2tqqhIQEZWVlafDgwbc1553C5/OpurpakydPVlhYWLDbsV3XvD8+OEDeTvNfo+McYOmlMZ3GzXu4MPuq22/3eE4t3Hm7rfUpUx/fa2Fe83XN3Nt/k7qekbkZtgcdr9ero0eP6tFHH1VSUpLcbreqq6v10EMPSZLa29u1e/du/fSnP5UkjR49WmFhYaqurtasWbMkSQ0NDTp8+LBKSkokSRkZGWppadH+/fv18MNf/pNt3759amlp8Yehq3E6nXI6nd22h4WFGRcKTJzperydjrvqxcimzXujY/VWj+f++jMy7fG9EeY1X2//TerJvno96BQUFGj69OlKTExUU1OTVq1apdbWVs2ePVsOh0P5+fkqKipScnKykpOTVVRUpMjISOXm5kqSXC6X5s2bp6VLlyomJkbR0dEqKChQWlqa/yysESNGaMqUKZo/f75ef/11SV+eXj5t2jTOuAIAAH69HnTOnDmj7373u/rzn/+sr33taxo7dqz27t2rYcOGSZKef/55Xb58WQsXLlRzc7PS09NVVVXlfw8dSXrttdcUGhqqWbNm6fLly5o4caI2b94c8H48b731lhYvXuw/O2vGjBkqKyvr7XEAAEA/1utBp6Ki4rrXOxwOFRYWqrCw8Jo1AwcOVGlpqUpLS69ZEx0drfLy8lttEwAA3AX4rCsAAGAsgg4AADAWQQcAABiLoAMAAIxF0AEAAMYi6AAAAGMRdAAAgLEIOgAAwFi2f9YVIEnDl+2wZb/OEKvffkI1AMB+rOgAAABjEXQAAICxCDoAAMBYBB0AAGAsgg4AADAWQQcAABiLoAMAAIxF0AEAAMYi6AAAAGMRdAAAgLEIOgAAwFgEHQAAYCyCDgAAMBZBBwAAGIugAwAAjEXQAQAAxiLoAAAAY4UGuwHcWYYv2xHsFgAA6DWs6AAAAGMRdAAAgLEIOgAAwFgEHQAAYCyCDgAAMBZBBwAAGIugAwAAjEXQAQAAxuINA21k15vv/eHlqbbsFwAA07CiAwAAjEXQAQAAxiLoAAAAYxF0AACAsQg6AADAWAQdAABgLIIOAAAwFkEHAAAYizcM7Ieu90aEzhBLJQ9LqYU75e1w9GFXAADceVjRAQAAxiLoAAAAYxF0AACAsQg6AADAWAQdAABgLIIOAAAwFkEHAAAYi6ADAACMRdABAADGIugAAABjEXQAAICxCDoAAMBYBB0AAGAsgg4AADAWQQcAABiLoAMAAIxF0AEAAMYi6AAAAGMRdAAAgLFCg93A7frZz36mNWvWqKGhQSNHjtS6dev06KOPBrstAD0wfNmOq253hlgqeVhKLdwpb4ejj7sCYIJ+vaLz9ttvKz8/XytWrNDvfvc7Pfroo8rJydGpU6eC3RoAALgD9Ougs3btWs2bN09PP/20RowYoXXr1ikhIUHr168PdmsAAOAO0G+fumpvb1ddXZ2WLVsWsD0rK0u1tbVXvY3X65XX6/VfbmlpkSSdO3dOPp+v13sM/eJir+/zhvfZaenSpU6F+gaoo9P8pX7mNRvzmo15zdc18+eff66wsLBe229bW5skybKsG/fQa/fax/785z+ro6NDcXFxAdvj4uLU2Nh41dsUFxdr5cqV3bYnJSXZ0mOw5Aa7gT7GvGZjXrMxr/nsnLmtrU0ul+u6Nf026HRxOAJTsWVZ3bZ1Wb58uZYsWeK/3NnZqXPnzikmJuaat+lvWltblZCQoNOnT2vw4MHBbsd2zGs25jUb85rPrpkty1JbW5s8Hs8Na/tt0Bk6dKhCQkK6rd40NTV1W+Xp4nQ65XQ6A7bdc889drUYVIMHD75rfpEk5jUd85qNec1nx8w3Wsnp0m9fjBweHq7Ro0eruro6YHt1dbUyMzOD1BUAALiT9NsVHUlasmSJ8vLyNGbMGGVkZGjDhg06deqU/vVf/zXYrQEAgDtAvw46Tz75pD7//HP95Cc/UUNDg1JTU/Xhhx9q2LBhwW4taJxOp1588cVuT9GZinnNxrxmY17z3QkzO6ybOTcLAACgH+q3r9EBAAC4EYIOAAAwFkEHAAAYi6ADAACMRdAxwPr16/WNb3zD/4ZMGRkZ+tWvfhXstvpMcXGxHA6H8vPzg92KbQoLC+VwOAK+3G53sNuy1R//+Ed973vfU0xMjCIjI/W3f/u3qqurC3Zbthg+fHi3x9fhcGjRokXBbs0WX3zxhf7t3/5NSUlJioiI0H333aef/OQn6uzsDHZrtmlra1N+fr6GDRumiIgIZWZm6sCBA8Fuq1d89NFHmj59ujwejxwOh959992A6y3LUmFhoTwejyIiIjRhwgQdOXKkz/oj6Bjg3nvv1csvv6yDBw/q4MGD+ta3vqVvf/vbfXogBcuBAwe0YcMGfeMb3wh2K7YbOXKkGhoa/F+HDh0Kdku2aW5u1rhx4xQWFqZf/epX+vjjj/Xqq68a+07mBw4cCHhsu94I9YknnghyZ/b46U9/qp///OcqKyvT0aNHVVJSojVr1qi0tDTYrdnm6aefVnV1tbZu3apDhw4pKytLkyZN0h//+Mdgt3bbLl68qFGjRqmsrOyq15eUlGjt2rUqKyvTgQMH5Ha7NXnyZP8Hc9rOgpGGDBli/ed//mew27BVW1ublZycbFVXV1vjx4+3nnvuuWC3ZJsXX3zRGjVqVLDb6DM/+tGPrEceeSTYbQTNc889Z91///1WZ2dnsFuxxdSpU625c+cGbJs5c6b1ve99L0gd2evSpUtWSEiI9cEHHwRsHzVqlLVixYogdWUPSdb27dv9lzs7Oy232229/PLL/m1/+ctfLJfLZf385z/vk55Y0TFMR0eHKioqdPHiRWVkZAS7HVstWrRIU6dO1aRJk4LdSp84fvy4PB6PkpKS9NRTT+nTTz8Ndku2ee+99zRmzBg98cQTio2N1UMPPaSNGzcGu60+0d7ervLycs2dO9eYDxu+0iOPPKL//u//1u9//3tJ0v/+7/+qpqZG//AP/xDkzuzxxRdfqKOjQwMHDgzYHhERoZqamiB11TdOnDihxsZGZWVl+bc5nU6NHz9etbW1fdJDv35nZPx/hw4dUkZGhv7yl7/or/7qr7R9+3Y9+OCDwW7LNhUVFfrtb39rzHPcN5Kenq4333xTDzzwgM6ePatVq1YpMzNTR44cUUxMTLDb63Wffvqp1q9fryVLluiFF17Q/v37tXjxYjmdTv3zP/9zsNuz1bvvvqvz589rzpw5wW7FNj/60Y/U0tKir3/96woJCVFHR4dWr16t7373u8FuzRZRUVHKyMjQSy+9pBEjRiguLk6/+MUvtG/fPiUnJwe7PVt1ffD2lR+2HRcXp5MnT/ZJDwQdQ6SkpKi+vl7nz5/XO++8o9mzZ2v37t1Ghp3Tp0/rueeeU1VVVbd/IZkqJyfH/31aWpoyMjJ0//33a8uWLVqyZEkQO7NHZ2enxowZo6KiIknSQw89pCNHjmj9+vXGB51NmzYpJydHHo8n2K3Y5u2331Z5ebm2bdumkSNHqr6+Xvn5+fJ4PJo9e3aw27PF1q1bNXfuXP31X/+1QkJC9Hd/93fKzc3Vb3/722C31ieuXJ20LKvPVix56soQ4eHh+pu/+RuNGTNGxcXFGjVqlP793/892G3Zoq6uTk1NTRo9erRCQ0MVGhqq3bt36z/+4z8UGhqqjo6OYLdou0GDBiktLU3Hjx8Pdiu2iI+P7xbSR4wYoVOnTgWpo75x8uRJ7dq1S08//XSwW7HVD3/4Qy1btkxPPfWU0tLSlJeXpx/84AcqLi4Odmu2uf/++7V7925duHBBp0+f1v79++Xz+ZSUlBTs1mzVdXZo18pOl6ampm6rPHYh6BjKsix5vd5gt2GLiRMn6tChQ6qvr/d/jRkzRv/0T/+k+vp6hYSEBLtF23m9Xh09elTx8fHBbsUW48aN07FjxwK2/f73vzf+A3vfeOMNxcbGaurUqcFuxVaXLl3SgAGBf35CQkKMPr28y6BBgxQfH6/m5mbt3LlT3/72t4Pdkq2SkpLkdrv9ZxJKX74Obffu3crMzOyTHnjqygAvvPCCcnJylJCQoLa2NlVUVOg3v/mNKisrg92aLaKiopSamhqwbdCgQYqJiem23RQFBQWaPn26EhMT1dTUpFWrVqm1tdXYZf4f/OAHyszMVFFRkWbNmqX9+/drw4YN2rBhQ7Bbs01nZ6feeOMNzZ49W6GhZv+vefr06Vq9erUSExM1cuRI/e53v9PatWs1d+7cYLdmm507d8qyLKWkpOiTTz7RD3/4Q6WkpOhf/uVfgt3abbtw4YI++eQT/+UTJ06ovr5e0dHRSkxMVH5+voqKipScnKzk5GQVFRUpMjJSubm5fdNgn5zbBVvNnTvXGjZsmBUeHm597WtfsyZOnGhVVVUFu60+Zfrp5U8++aQVHx9vhYWFWR6Px5o5c6Z15MiRYLdlq/fff99KTU21nE6n9fWvf93asGFDsFuy1c6dOy1J1rFjx4Ldiu1aW1ut5557zkpMTLQGDhxo3XfffdaKFSssr9cb7NZs8/bbb1v33XefFR4ebrndbmvRokXW+fPng91Wr/if//kfS1K3r9mzZ1uW9eUp5i+++KLldrstp9NpffOb37QOHTrUZ/05LMuy+iZSAQAA9C1eowMAAIxF0AEAAMYi6AAAAGMRdAAAgLEIOgAAwFgEHQAAYCyCDgAAMBZBBwAAGIugAwAAjEXQAQAAxiLoAAAAYxF0AACAsf4fKQE3N0QCje4AAAAASUVORK5CYII=",
      "text/plain": [
       "<Figure size 640x480 with 1 Axes>"
      ]
     },
     "metadata": {},
     "output_type": "display_data"
    }
   ],
   "source": [
    "print(df['Reviewer_Score'].describe()) # show the statistics of the 'Reviewer_Score' column\n",
    "# make a histogram of the 'Reviewer_Score' column\n",
    "df['Reviewer_Score'].hist(bins=20) # 20 bins\n",
    "\n",
    "# print the number of 10.0 scores \n",
    "print(df[df['Reviewer_Score'] == 10.0].shape[0])\n",
    "\n",
    "print(df[df['Reviewer_Score'] == 6.0].shape[0])\n",
    "\n"
   ]
  },
  {
   "cell_type": "markdown",
   "metadata": {},
   "source": [
    "Relevant columns are negative and positive reviews. We need to combine them to make it easier to work with the data."
   ]
  },
  {
   "cell_type": "markdown",
   "metadata": {},
   "source": [
    "# Cleaning the review text"
   ]
  },
  {
   "cell_type": "code",
   "execution_count": 32,
   "metadata": {},
   "outputs": [
    {
     "data": {
      "text/html": [
       "<div>\n",
       "<style scoped>\n",
       "    .dataframe tbody tr th:only-of-type {\n",
       "        vertical-align: middle;\n",
       "    }\n",
       "\n",
       "    .dataframe tbody tr th {\n",
       "        vertical-align: top;\n",
       "    }\n",
       "\n",
       "    .dataframe thead th {\n",
       "        text-align: right;\n",
       "    }\n",
       "</style>\n",
       "<table border=\"1\" class=\"dataframe\">\n",
       "  <thead>\n",
       "    <tr style=\"text-align: right;\">\n",
       "      <th></th>\n",
       "      <th>Review</th>\n",
       "      <th>Reviewer_Score</th>\n",
       "    </tr>\n",
       "  </thead>\n",
       "  <tbody>\n",
       "    <tr>\n",
       "      <th>0</th>\n",
       "      <td>I am so angry that i made this post available...</td>\n",
       "      <td>2.9</td>\n",
       "    </tr>\n",
       "    <tr>\n",
       "      <th>1</th>\n",
       "      <td>No real complaints the hotel was great great...</td>\n",
       "      <td>7.5</td>\n",
       "    </tr>\n",
       "    <tr>\n",
       "      <th>2</th>\n",
       "      <td>Rooms are nice but for elderly a bit difficul...</td>\n",
       "      <td>7.1</td>\n",
       "    </tr>\n",
       "    <tr>\n",
       "      <th>3</th>\n",
       "      <td>My room was dirty and I was afraid to walk ba...</td>\n",
       "      <td>3.8</td>\n",
       "    </tr>\n",
       "    <tr>\n",
       "      <th>4</th>\n",
       "      <td>You When I booked with your company on line y...</td>\n",
       "      <td>6.7</td>\n",
       "    </tr>\n",
       "  </tbody>\n",
       "</table>\n",
       "</div>"
      ],
      "text/plain": [
       "                                              Review  Reviewer_Score\n",
       "0   I am so angry that i made this post available...             2.9\n",
       "1    No real complaints the hotel was great great...             7.5\n",
       "2   Rooms are nice but for elderly a bit difficul...             7.1\n",
       "3   My room was dirty and I was afraid to walk ba...             3.8\n",
       "4   You When I booked with your company on line y...             6.7"
      ]
     },
     "execution_count": 32,
     "metadata": {},
     "output_type": "execute_result"
    }
   ],
   "source": [
    "# remove 'No Negative' and 'No Positive' from the reviews\n",
    "df['Negative_Review'] = df['Negative_Review'].apply(lambda x: x.replace('No Negative', ''))\n",
    "df['Positive_Review'] = df['Positive_Review'].apply(lambda x: x.replace('No Positive', ''))\n",
    "\n",
    "# merge the two review columns into one\n",
    "df['Review'] = df['Negative_Review'] + ' ' + df['Positive_Review']\n",
    "\n",
    "df = df[[ 'Review','Reviewer_Score']] # select only the columns we need\n",
    "\n",
    "# remove rows with missing values\n",
    "df = df.dropna()\n",
    "\n",
    "df.head() # show a overview of the data in the dataset"
   ]
  },
  {
   "cell_type": "markdown",
   "metadata": {},
   "source": [
    "# Transforming review scores to binary values"
   ]
  },
  {
   "cell_type": "code",
   "execution_count": 33,
   "metadata": {},
   "outputs": [],
   "source": [
    "# Adjust the reviewer score to be binary\n",
    "df['Sentiment'] = df['Reviewer_Score'].apply(lambda x: 1 if x >= 7.0 else 0)\n",
    "# Downsample the majority class (high review scores)\n",
    "df_majority = df[df['Sentiment'] == 1]\n",
    "df_minority = df[df['Sentiment'] == 0]"
   ]
  },
  {
   "cell_type": "markdown",
   "metadata": {},
   "source": [
    "# Adjusting for sentiment imbalance\n",
    "There is a heavy overweight of positive ('high' scores) in the dataset, so we need to downsample the positive reviews to get a more balanced dataset for our machine learning model to train and test on."
   ]
  },
  {
   "cell_type": "code",
   "execution_count": 34,
   "metadata": {},
   "outputs": [
    {
     "data": {
      "text/html": [
       "<div>\n",
       "<style scoped>\n",
       "    .dataframe tbody tr th:only-of-type {\n",
       "        vertical-align: middle;\n",
       "    }\n",
       "\n",
       "    .dataframe tbody tr th {\n",
       "        vertical-align: top;\n",
       "    }\n",
       "\n",
       "    .dataframe thead th {\n",
       "        text-align: right;\n",
       "    }\n",
       "</style>\n",
       "<table border=\"1\" class=\"dataframe\">\n",
       "  <thead>\n",
       "    <tr style=\"text-align: right;\">\n",
       "      <th></th>\n",
       "      <th>Review</th>\n",
       "      <th>Reviewer_Score</th>\n",
       "      <th>Sentiment</th>\n",
       "    </tr>\n",
       "  </thead>\n",
       "  <tbody>\n",
       "    <tr>\n",
       "      <th>0</th>\n",
       "      <td>The furnitures were very old the facilities w...</td>\n",
       "      <td>5.0</td>\n",
       "      <td>0</td>\n",
       "    </tr>\n",
       "    <tr>\n",
       "      <th>1</th>\n",
       "      <td>A beautiful hotel Wonderful bathroom and toi...</td>\n",
       "      <td>10.0</td>\n",
       "      <td>1</td>\n",
       "    </tr>\n",
       "    <tr>\n",
       "      <th>2</th>\n",
       "      <td>Nothing to dislike  Brilliant service and bri...</td>\n",
       "      <td>10.0</td>\n",
       "      <td>1</td>\n",
       "    </tr>\n",
       "    <tr>\n",
       "      <th>3</th>\n",
       "      <td>Shower Bath water was cold called reception s...</td>\n",
       "      <td>5.8</td>\n",
       "      <td>0</td>\n",
       "    </tr>\n",
       "    <tr>\n",
       "      <th>4</th>\n",
       "      <td>Nothing in particular  Perfect location right...</td>\n",
       "      <td>9.2</td>\n",
       "      <td>1</td>\n",
       "    </tr>\n",
       "  </tbody>\n",
       "</table>\n",
       "</div>"
      ],
      "text/plain": [
       "                                              Review  Reviewer_Score  \\\n",
       "0   The furnitures were very old the facilities w...             5.0   \n",
       "1    A beautiful hotel Wonderful bathroom and toi...            10.0   \n",
       "2   Nothing to dislike  Brilliant service and bri...            10.0   \n",
       "3   Shower Bath water was cold called reception s...             5.8   \n",
       "4   Nothing in particular  Perfect location right...             9.2   \n",
       "\n",
       "   Sentiment  \n",
       "0          0  \n",
       "1          1  \n",
       "2          1  \n",
       "3          0  \n",
       "4          1  "
      ]
     },
     "execution_count": 34,
     "metadata": {},
     "output_type": "execute_result"
    }
   ],
   "source": [
    "# Downsample majority class\n",
    "df_majority_downsampled = df_majority.sample(len(df_minority))\n",
    "\n",
    "# Combine minority class with downsampled majority class\n",
    "df_balanced = pd.concat([df_majority_downsampled, df_minority])\n",
    "\n",
    "# Shuffle the dataset\n",
    "df_balanced = df_balanced.sample(frac=1).reset_index(drop=True)\n",
    "\n",
    "df = df_balanced\n",
    "df.head() # show a overview of the data in the dataset"
   ]
  },
  {
   "cell_type": "markdown",
   "metadata": {},
   "source": [
    "# Preprocessing the review text"
   ]
  },
  {
   "cell_type": "code",
   "execution_count": 35,
   "metadata": {},
   "outputs": [
    {
     "data": {
      "text/html": [
       "<div>\n",
       "<style scoped>\n",
       "    .dataframe tbody tr th:only-of-type {\n",
       "        vertical-align: middle;\n",
       "    }\n",
       "\n",
       "    .dataframe tbody tr th {\n",
       "        vertical-align: top;\n",
       "    }\n",
       "\n",
       "    .dataframe thead th {\n",
       "        text-align: right;\n",
       "    }\n",
       "</style>\n",
       "<table border=\"1\" class=\"dataframe\">\n",
       "  <thead>\n",
       "    <tr style=\"text-align: right;\">\n",
       "      <th></th>\n",
       "      <th>Review</th>\n",
       "      <th>Reviewer_Score</th>\n",
       "      <th>Sentiment</th>\n",
       "    </tr>\n",
       "  </thead>\n",
       "  <tbody>\n",
       "    <tr>\n",
       "      <th>0</th>\n",
       "      <td>the furnitures were very old the facilities w...</td>\n",
       "      <td>5.0</td>\n",
       "      <td>0</td>\n",
       "    </tr>\n",
       "    <tr>\n",
       "      <th>1</th>\n",
       "      <td>a beautiful hotel wonderful bathroom and toi...</td>\n",
       "      <td>10.0</td>\n",
       "      <td>1</td>\n",
       "    </tr>\n",
       "    <tr>\n",
       "      <th>2</th>\n",
       "      <td>nothing to dislike  brilliant service and bri...</td>\n",
       "      <td>10.0</td>\n",
       "      <td>1</td>\n",
       "    </tr>\n",
       "    <tr>\n",
       "      <th>3</th>\n",
       "      <td>shower bath water was cold called reception s...</td>\n",
       "      <td>5.8</td>\n",
       "      <td>0</td>\n",
       "    </tr>\n",
       "    <tr>\n",
       "      <th>4</th>\n",
       "      <td>nothing in particular  perfect location right...</td>\n",
       "      <td>9.2</td>\n",
       "      <td>1</td>\n",
       "    </tr>\n",
       "  </tbody>\n",
       "</table>\n",
       "</div>"
      ],
      "text/plain": [
       "                                              Review  Reviewer_Score  \\\n",
       "0   the furnitures were very old the facilities w...             5.0   \n",
       "1    a beautiful hotel wonderful bathroom and toi...            10.0   \n",
       "2   nothing to dislike  brilliant service and bri...            10.0   \n",
       "3   shower bath water was cold called reception s...             5.8   \n",
       "4   nothing in particular  perfect location right...             9.2   \n",
       "\n",
       "   Sentiment  \n",
       "0          0  \n",
       "1          1  \n",
       "2          1  \n",
       "3          0  \n",
       "4          1  "
      ]
     },
     "execution_count": 35,
     "metadata": {},
     "output_type": "execute_result"
    }
   ],
   "source": [
    "import re\n",
    "\n",
    "def preprocess_text(text):\n",
    "    text = text.lower()\n",
    "    text = re.sub(r'@[A-Za-z0-9_]+', '', text)\n",
    "    text = re.sub(r'[^\\w\\s]', '', text)\n",
    "    return text\n",
    "\n",
    "df['Review'] = df['Review'].apply(preprocess_text)\n",
    "df.head()"
   ]
  },
  {
   "cell_type": "markdown",
   "metadata": {},
   "source": [
    "## Removing stopwords"
   ]
  },
  {
   "cell_type": "code",
   "execution_count": 36,
   "metadata": {},
   "outputs": [
    {
     "name": "stderr",
     "output_type": "stream",
     "text": [
      "[nltk_data] Downloading package stopwords to\n",
      "[nltk_data]     /Users/runarrossevold/nltk_data...\n",
      "[nltk_data]   Package stopwords is already up-to-date!\n"
     ]
    },
    {
     "data": {
      "text/html": [
       "<div>\n",
       "<style scoped>\n",
       "    .dataframe tbody tr th:only-of-type {\n",
       "        vertical-align: middle;\n",
       "    }\n",
       "\n",
       "    .dataframe tbody tr th {\n",
       "        vertical-align: top;\n",
       "    }\n",
       "\n",
       "    .dataframe thead th {\n",
       "        text-align: right;\n",
       "    }\n",
       "</style>\n",
       "<table border=\"1\" class=\"dataframe\">\n",
       "  <thead>\n",
       "    <tr style=\"text-align: right;\">\n",
       "      <th></th>\n",
       "      <th>Review</th>\n",
       "      <th>Reviewer_Score</th>\n",
       "      <th>Sentiment</th>\n",
       "    </tr>\n",
       "  </thead>\n",
       "  <tbody>\n",
       "    <tr>\n",
       "      <th>0</th>\n",
       "      <td>furnitures old facilities poor specially bathr...</td>\n",
       "      <td>5.0</td>\n",
       "      <td>0</td>\n",
       "    </tr>\n",
       "    <tr>\n",
       "      <th>1</th>\n",
       "      <td>beautiful hotel wonderful bathroom toiletries ...</td>\n",
       "      <td>10.0</td>\n",
       "      <td>1</td>\n",
       "    </tr>\n",
       "    <tr>\n",
       "      <th>2</th>\n",
       "      <td>nothing dislike brilliant service brilliant stadd</td>\n",
       "      <td>10.0</td>\n",
       "      <td>1</td>\n",
       "    </tr>\n",
       "    <tr>\n",
       "      <th>3</th>\n",
       "      <td>shower bath water cold called reception severa...</td>\n",
       "      <td>5.8</td>\n",
       "      <td>0</td>\n",
       "    </tr>\n",
       "    <tr>\n",
       "      <th>4</th>\n",
       "      <td>nothing particular perfect location right next...</td>\n",
       "      <td>9.2</td>\n",
       "      <td>1</td>\n",
       "    </tr>\n",
       "  </tbody>\n",
       "</table>\n",
       "</div>"
      ],
      "text/plain": [
       "                                              Review  Reviewer_Score  \\\n",
       "0  furnitures old facilities poor specially bathr...             5.0   \n",
       "1  beautiful hotel wonderful bathroom toiletries ...            10.0   \n",
       "2  nothing dislike brilliant service brilliant stadd            10.0   \n",
       "3  shower bath water cold called reception severa...             5.8   \n",
       "4  nothing particular perfect location right next...             9.2   \n",
       "\n",
       "   Sentiment  \n",
       "0          0  \n",
       "1          1  \n",
       "2          1  \n",
       "3          0  \n",
       "4          1  "
      ]
     },
     "execution_count": 36,
     "metadata": {},
     "output_type": "execute_result"
    }
   ],
   "source": [
    "import nltk\n",
    "\n",
    "from nltk.corpus import stopwords\n",
    " \n",
    "nltk.download('stopwords')\n",
    "\n",
    "stop_words = set(stopwords.words('english'))\n",
    "pattern = r'\\b(' + '|'.join(re.escape(word) for word in stop_words) + r')\\b'\n",
    "\n",
    "def remove_stopwords_regex(text):\n",
    "    if isinstance(text, str):  # Ensure it's a string\n",
    "        return re.sub(pattern, '', text)  # Remove stop words\n",
    "    return text\n",
    "\n",
    "df[\"Review\"] = df[\"Review\"].apply(remove_stopwords_regex)\n",
    "df[\"Review\"] = df[\"Review\"].str.replace(r'\\s+', ' ', regex=True).str.strip()\n",
    "df.head()"
   ]
  },
  {
   "cell_type": "markdown",
   "metadata": {},
   "source": [
    "## Tokenization"
   ]
  },
  {
   "cell_type": "code",
   "execution_count": 37,
   "metadata": {},
   "outputs": [
    {
     "name": "stderr",
     "output_type": "stream",
     "text": [
      "[nltk_data] Downloading package punkt_tab to\n",
      "[nltk_data]     /Users/runarrossevold/nltk_data...\n",
      "[nltk_data]   Package punkt_tab is already up-to-date!\n"
     ]
    },
    {
     "data": {
      "text/html": [
       "<div>\n",
       "<style scoped>\n",
       "    .dataframe tbody tr th:only-of-type {\n",
       "        vertical-align: middle;\n",
       "    }\n",
       "\n",
       "    .dataframe tbody tr th {\n",
       "        vertical-align: top;\n",
       "    }\n",
       "\n",
       "    .dataframe thead th {\n",
       "        text-align: right;\n",
       "    }\n",
       "</style>\n",
       "<table border=\"1\" class=\"dataframe\">\n",
       "  <thead>\n",
       "    <tr style=\"text-align: right;\">\n",
       "      <th></th>\n",
       "      <th>Review</th>\n",
       "      <th>Reviewer_Score</th>\n",
       "      <th>Sentiment</th>\n",
       "      <th>tokens</th>\n",
       "    </tr>\n",
       "  </thead>\n",
       "  <tbody>\n",
       "    <tr>\n",
       "      <th>0</th>\n",
       "      <td>furnitures old facilities poor specially bathr...</td>\n",
       "      <td>5.0</td>\n",
       "      <td>0</td>\n",
       "      <td>[furnitures, old, facilities, poor, specially,...</td>\n",
       "    </tr>\n",
       "    <tr>\n",
       "      <th>1</th>\n",
       "      <td>beautiful hotel wonderful bathroom toiletries ...</td>\n",
       "      <td>10.0</td>\n",
       "      <td>1</td>\n",
       "      <td>[beautiful, hotel, wonderful, bathroom, toilet...</td>\n",
       "    </tr>\n",
       "    <tr>\n",
       "      <th>2</th>\n",
       "      <td>nothing dislike brilliant service brilliant stadd</td>\n",
       "      <td>10.0</td>\n",
       "      <td>1</td>\n",
       "      <td>[nothing, dislike, brilliant, service, brillia...</td>\n",
       "    </tr>\n",
       "    <tr>\n",
       "      <th>3</th>\n",
       "      <td>shower bath water cold called reception severa...</td>\n",
       "      <td>5.8</td>\n",
       "      <td>0</td>\n",
       "      <td>[shower, bath, water, cold, called, reception,...</td>\n",
       "    </tr>\n",
       "    <tr>\n",
       "      <th>4</th>\n",
       "      <td>nothing particular perfect location right next...</td>\n",
       "      <td>9.2</td>\n",
       "      <td>1</td>\n",
       "      <td>[nothing, particular, perfect, location, right...</td>\n",
       "    </tr>\n",
       "  </tbody>\n",
       "</table>\n",
       "</div>"
      ],
      "text/plain": [
       "                                              Review  Reviewer_Score  \\\n",
       "0  furnitures old facilities poor specially bathr...             5.0   \n",
       "1  beautiful hotel wonderful bathroom toiletries ...            10.0   \n",
       "2  nothing dislike brilliant service brilliant stadd            10.0   \n",
       "3  shower bath water cold called reception severa...             5.8   \n",
       "4  nothing particular perfect location right next...             9.2   \n",
       "\n",
       "   Sentiment                                             tokens  \n",
       "0          0  [furnitures, old, facilities, poor, specially,...  \n",
       "1          1  [beautiful, hotel, wonderful, bathroom, toilet...  \n",
       "2          1  [nothing, dislike, brilliant, service, brillia...  \n",
       "3          0  [shower, bath, water, cold, called, reception,...  \n",
       "4          1  [nothing, particular, perfect, location, right...  "
      ]
     },
     "execution_count": 37,
     "metadata": {},
     "output_type": "execute_result"
    }
   ],
   "source": [
    "from nltk.tokenize import word_tokenize\n",
    "\n",
    "nltk.download('punkt_tab')\n",
    "\n",
    "def tokenize(text):\n",
    "    return word_tokenize(text)\n",
    "\n",
    "df['tokens'] = df['Review'].apply(tokenize)\n",
    "df.head()\n"
   ]
  },
  {
   "cell_type": "markdown",
   "metadata": {},
   "source": [
    "## Stemming"
   ]
  },
  {
   "cell_type": "code",
   "execution_count": 38,
   "metadata": {},
   "outputs": [
    {
     "data": {
      "text/html": [
       "<div>\n",
       "<style scoped>\n",
       "    .dataframe tbody tr th:only-of-type {\n",
       "        vertical-align: middle;\n",
       "    }\n",
       "\n",
       "    .dataframe tbody tr th {\n",
       "        vertical-align: top;\n",
       "    }\n",
       "\n",
       "    .dataframe thead th {\n",
       "        text-align: right;\n",
       "    }\n",
       "</style>\n",
       "<table border=\"1\" class=\"dataframe\">\n",
       "  <thead>\n",
       "    <tr style=\"text-align: right;\">\n",
       "      <th></th>\n",
       "      <th>Review</th>\n",
       "      <th>Reviewer_Score</th>\n",
       "      <th>Sentiment</th>\n",
       "      <th>tokens</th>\n",
       "      <th>stemmed</th>\n",
       "    </tr>\n",
       "  </thead>\n",
       "  <tbody>\n",
       "    <tr>\n",
       "      <th>0</th>\n",
       "      <td>furnitures old facilities poor specially bathr...</td>\n",
       "      <td>5.0</td>\n",
       "      <td>0</td>\n",
       "      <td>[furnitures, old, facilities, poor, specially,...</td>\n",
       "      <td>[furnitur, old, facil, poor, special, bathroom...</td>\n",
       "    </tr>\n",
       "    <tr>\n",
       "      <th>1</th>\n",
       "      <td>beautiful hotel wonderful bathroom toiletries ...</td>\n",
       "      <td>10.0</td>\n",
       "      <td>1</td>\n",
       "      <td>[beautiful, hotel, wonderful, bathroom, toilet...</td>\n",
       "      <td>[beauti, hotel, wonder, bathroom, toiletri, co...</td>\n",
       "    </tr>\n",
       "    <tr>\n",
       "      <th>2</th>\n",
       "      <td>nothing dislike brilliant service brilliant stadd</td>\n",
       "      <td>10.0</td>\n",
       "      <td>1</td>\n",
       "      <td>[nothing, dislike, brilliant, service, brillia...</td>\n",
       "      <td>[noth, dislik, brilliant, servic, brilliant, s...</td>\n",
       "    </tr>\n",
       "    <tr>\n",
       "      <th>3</th>\n",
       "      <td>shower bath water cold called reception severa...</td>\n",
       "      <td>5.8</td>\n",
       "      <td>0</td>\n",
       "      <td>[shower, bath, water, cold, called, reception,...</td>\n",
       "      <td>[shower, bath, water, cold, call, recept, seve...</td>\n",
       "    </tr>\n",
       "    <tr>\n",
       "      <th>4</th>\n",
       "      <td>nothing particular perfect location right next...</td>\n",
       "      <td>9.2</td>\n",
       "      <td>1</td>\n",
       "      <td>[nothing, particular, perfect, location, right...</td>\n",
       "      <td>[noth, particular, perfect, locat, right, next...</td>\n",
       "    </tr>\n",
       "  </tbody>\n",
       "</table>\n",
       "</div>"
      ],
      "text/plain": [
       "                                              Review  Reviewer_Score  \\\n",
       "0  furnitures old facilities poor specially bathr...             5.0   \n",
       "1  beautiful hotel wonderful bathroom toiletries ...            10.0   \n",
       "2  nothing dislike brilliant service brilliant stadd            10.0   \n",
       "3  shower bath water cold called reception severa...             5.8   \n",
       "4  nothing particular perfect location right next...             9.2   \n",
       "\n",
       "   Sentiment                                             tokens  \\\n",
       "0          0  [furnitures, old, facilities, poor, specially,...   \n",
       "1          1  [beautiful, hotel, wonderful, bathroom, toilet...   \n",
       "2          1  [nothing, dislike, brilliant, service, brillia...   \n",
       "3          0  [shower, bath, water, cold, called, reception,...   \n",
       "4          1  [nothing, particular, perfect, location, right...   \n",
       "\n",
       "                                             stemmed  \n",
       "0  [furnitur, old, facil, poor, special, bathroom...  \n",
       "1  [beauti, hotel, wonder, bathroom, toiletri, co...  \n",
       "2  [noth, dislik, brilliant, servic, brilliant, s...  \n",
       "3  [shower, bath, water, cold, call, recept, seve...  \n",
       "4  [noth, particular, perfect, locat, right, next...  "
      ]
     },
     "execution_count": 38,
     "metadata": {},
     "output_type": "execute_result"
    }
   ],
   "source": [
    "from nltk.stem import PorterStemmer\n",
    "\n",
    "# Initialize the Porter Stemmer\n",
    "stemmer = PorterStemmer()\n",
    "\n",
    "def stem(tokens):\n",
    "    return [stemmer.stem(token) for token in tokens]\n",
    "\n",
    "df['stemmed'] = df['tokens'].apply(stem)\n",
    "\n",
    "df.head()"
   ]
  },
  {
   "cell_type": "markdown",
   "metadata": {},
   "source": [
    "## Lemmatization"
   ]
  },
  {
   "cell_type": "code",
   "execution_count": 39,
   "metadata": {},
   "outputs": [
    {
     "name": "stderr",
     "output_type": "stream",
     "text": [
      "[nltk_data] Downloading package wordnet to\n",
      "[nltk_data]     /Users/runarrossevold/nltk_data...\n",
      "[nltk_data]   Package wordnet is already up-to-date!\n",
      "[nltk_data] Downloading package omw-1.4 to\n",
      "[nltk_data]     /Users/runarrossevold/nltk_data...\n",
      "[nltk_data]   Package omw-1.4 is already up-to-date!\n"
     ]
    },
    {
     "data": {
      "text/html": [
       "<div>\n",
       "<style scoped>\n",
       "    .dataframe tbody tr th:only-of-type {\n",
       "        vertical-align: middle;\n",
       "    }\n",
       "\n",
       "    .dataframe tbody tr th {\n",
       "        vertical-align: top;\n",
       "    }\n",
       "\n",
       "    .dataframe thead th {\n",
       "        text-align: right;\n",
       "    }\n",
       "</style>\n",
       "<table border=\"1\" class=\"dataframe\">\n",
       "  <thead>\n",
       "    <tr style=\"text-align: right;\">\n",
       "      <th></th>\n",
       "      <th>Review</th>\n",
       "      <th>Reviewer_Score</th>\n",
       "      <th>Sentiment</th>\n",
       "      <th>tokens</th>\n",
       "      <th>stemmed</th>\n",
       "      <th>lemmatized</th>\n",
       "    </tr>\n",
       "  </thead>\n",
       "  <tbody>\n",
       "    <tr>\n",
       "      <th>0</th>\n",
       "      <td>furnitures old facilities poor specially bathr...</td>\n",
       "      <td>5.0</td>\n",
       "      <td>0</td>\n",
       "      <td>[furnitures, old, facilities, poor, specially,...</td>\n",
       "      <td>[furnitur, old, facil, poor, special, bathroom...</td>\n",
       "      <td>[furniture, old, facility, poor, specially, ba...</td>\n",
       "    </tr>\n",
       "    <tr>\n",
       "      <th>1</th>\n",
       "      <td>beautiful hotel wonderful bathroom toiletries ...</td>\n",
       "      <td>10.0</td>\n",
       "      <td>1</td>\n",
       "      <td>[beautiful, hotel, wonderful, bathroom, toilet...</td>\n",
       "      <td>[beauti, hotel, wonder, bathroom, toiletri, co...</td>\n",
       "      <td>[beautiful, hotel, wonderful, bathroom, toilet...</td>\n",
       "    </tr>\n",
       "    <tr>\n",
       "      <th>2</th>\n",
       "      <td>nothing dislike brilliant service brilliant stadd</td>\n",
       "      <td>10.0</td>\n",
       "      <td>1</td>\n",
       "      <td>[nothing, dislike, brilliant, service, brillia...</td>\n",
       "      <td>[noth, dislik, brilliant, servic, brilliant, s...</td>\n",
       "      <td>[nothing, dislike, brilliant, service, brillia...</td>\n",
       "    </tr>\n",
       "    <tr>\n",
       "      <th>3</th>\n",
       "      <td>shower bath water cold called reception severa...</td>\n",
       "      <td>5.8</td>\n",
       "      <td>0</td>\n",
       "      <td>[shower, bath, water, cold, called, reception,...</td>\n",
       "      <td>[shower, bath, water, cold, call, recept, seve...</td>\n",
       "      <td>[shower, bath, water, cold, called, reception,...</td>\n",
       "    </tr>\n",
       "    <tr>\n",
       "      <th>4</th>\n",
       "      <td>nothing particular perfect location right next...</td>\n",
       "      <td>9.2</td>\n",
       "      <td>1</td>\n",
       "      <td>[nothing, particular, perfect, location, right...</td>\n",
       "      <td>[noth, particular, perfect, locat, right, next...</td>\n",
       "      <td>[nothing, particular, perfect, location, right...</td>\n",
       "    </tr>\n",
       "  </tbody>\n",
       "</table>\n",
       "</div>"
      ],
      "text/plain": [
       "                                              Review  Reviewer_Score  \\\n",
       "0  furnitures old facilities poor specially bathr...             5.0   \n",
       "1  beautiful hotel wonderful bathroom toiletries ...            10.0   \n",
       "2  nothing dislike brilliant service brilliant stadd            10.0   \n",
       "3  shower bath water cold called reception severa...             5.8   \n",
       "4  nothing particular perfect location right next...             9.2   \n",
       "\n",
       "   Sentiment                                             tokens  \\\n",
       "0          0  [furnitures, old, facilities, poor, specially,...   \n",
       "1          1  [beautiful, hotel, wonderful, bathroom, toilet...   \n",
       "2          1  [nothing, dislike, brilliant, service, brillia...   \n",
       "3          0  [shower, bath, water, cold, called, reception,...   \n",
       "4          1  [nothing, particular, perfect, location, right...   \n",
       "\n",
       "                                             stemmed  \\\n",
       "0  [furnitur, old, facil, poor, special, bathroom...   \n",
       "1  [beauti, hotel, wonder, bathroom, toiletri, co...   \n",
       "2  [noth, dislik, brilliant, servic, brilliant, s...   \n",
       "3  [shower, bath, water, cold, call, recept, seve...   \n",
       "4  [noth, particular, perfect, locat, right, next...   \n",
       "\n",
       "                                          lemmatized  \n",
       "0  [furniture, old, facility, poor, specially, ba...  \n",
       "1  [beautiful, hotel, wonderful, bathroom, toilet...  \n",
       "2  [nothing, dislike, brilliant, service, brillia...  \n",
       "3  [shower, bath, water, cold, called, reception,...  \n",
       "4  [nothing, particular, perfect, location, right...  "
      ]
     },
     "execution_count": 39,
     "metadata": {},
     "output_type": "execute_result"
    }
   ],
   "source": [
    "from nltk.stem import WordNetLemmatizer\n",
    "\n",
    "nltk.download('wordnet')\n",
    "nltk.download('omw-1.4')  # Download additional data for WordNet\n",
    "\n",
    "# Initialize the WordNet Lemmatizer\n",
    "lemmatizer = WordNetLemmatizer()\n",
    "\n",
    "def lemmatize(tokens):\n",
    "    return [lemmatizer.lemmatize(token) for token in tokens]\n",
    "\n",
    "df['lemmatized'] = df['tokens'].apply(lemmatize)\n",
    "\n",
    "df.head()\n"
   ]
  },
  {
   "cell_type": "markdown",
   "metadata": {},
   "source": [
    "# Running MultionmialNB with TF-IDF vectorizer"
   ]
  },
  {
   "cell_type": "code",
   "execution_count": 56,
   "metadata": {},
   "outputs": [
    {
     "name": "stdout",
     "output_type": "stream",
     "text": [
      "Accuracy: 0.7928\n",
      "Classification Report:\n",
      "              precision    recall  f1-score   support\n",
      "\n",
      "           0       0.78      0.81      0.80     17371\n",
      "           1       0.80      0.78      0.79     17370\n",
      "\n",
      "    accuracy                           0.79     34741\n",
      "   macro avg       0.79      0.79      0.79     34741\n",
      "weighted avg       0.79      0.79      0.79     34741\n",
      "\n"
     ]
    }
   ],
   "source": [
    "from sklearn.feature_extraction.text import TfidfVectorizer\n",
    "from sklearn.model_selection import train_test_split\n",
    "from sklearn.naive_bayes import BernoulliNB\n",
    "from sklearn.metrics import accuracy_score, classification_report\n",
    "\n",
    "# Initialize the TfidfVectorizer\n",
    "vectorizer = TfidfVectorizer()\n",
    "\n",
    "# Fit and transform the vectorizer on the text\n",
    "X = vectorizer.fit_transform(df['Review'])\n",
    "\n",
    "y = df['Sentiment']\n",
    "\n",
    "# Split the data into training and test sets (80% training, 20% testing)\n",
    "X_train, X_test, y_train, y_test = train_test_split(X, y, test_size=0.2, random_state=42, stratify=y)\n",
    "\n",
    "from sklearn.naive_bayes import MultinomialNB\n",
    "\n",
    "# Initialize Multinomial Naive Bayes classifier\n",
    "mnb_tfidf = MultinomialNB()\n",
    "\n",
    "# Train the model on the training data\n",
    "mnb_tfidf.fit(X_train, y_train)\n",
    "\n",
    "# Make predictions on the test data\n",
    "y_pred = mnb_tfidf.predict(X_test)\n",
    "\n",
    "# Evaluate the model\n",
    "accuracy = accuracy_score(y_test, y_pred)\n",
    "print(f\"Accuracy: {accuracy:.4f}\")\n",
    "print(\"Classification Report:\")\n",
    "print(classification_report(y_test, y_pred))"
   ]
  },
  {
   "cell_type": "markdown",
   "metadata": {},
   "source": [
<<<<<<< HEAD
    "# Running kNN "
=======
    "# Running kNN \n",
    "\n",
    "Using k = 1000, as the default k=5 is too low for this dataset, and k=1000 gives better accuracy (0.75) than k=5 (0.58)."
>>>>>>> f2955b6 (added the knn algorithm to the mix. testing out hyperparameter optimization but this seems not feasible)
   ]
  },
  {
   "cell_type": "code",
   "execution_count": null,
   "metadata": {},
   "outputs": [
    {
     "name": "stdout",
     "output_type": "stream",
     "text": [
<<<<<<< HEAD
      "Accuracy: 0.5846\n",
      "Classification Report:\n",
      "              precision    recall  f1-score   support\n",
      "\n",
      "           0       0.58      0.62      0.60     17371\n",
      "           1       0.59      0.55      0.57     17370\n",
      "\n",
      "    accuracy                           0.58     34741\n",
      "   macro avg       0.58      0.58      0.58     34741\n",
      "weighted avg       0.58      0.58      0.58     34741\n",
=======
      "Accuracy: 0.7540\n",
      "Classification Report:\n",
      "              precision    recall  f1-score   support\n",
      "\n",
      "           0       0.83      0.64      0.72     17371\n",
      "           1       0.71      0.87      0.78     17370\n",
      "\n",
      "    accuracy                           0.75     34741\n",
      "   macro avg       0.77      0.75      0.75     34741\n",
      "weighted avg       0.77      0.75      0.75     34741\n",
>>>>>>> f2955b6 (added the knn algorithm to the mix. testing out hyperparameter optimization but this seems not feasible)
      "\n"
     ]
    }
   ],
   "source": [
    "from sklearn.neighbors import KNeighborsClassifier\n",
<<<<<<< HEAD
    "from sklearn.metrics import plot_confusion_matrix\n",
    "\n",
    "# Initialize the kNN classifier with k=5 (you can adjust this value)\n",
    "knn = KNeighborsClassifier(n_neighbors=5)\n",
=======
    "\n",
    "knn = KNeighborsClassifier(n_neighbors=1000)\n",
>>>>>>> f2955b6 (added the knn algorithm to the mix. testing out hyperparameter optimization but this seems not feasible)
    "\n",
    "# Train the kNN model on the training data\n",
    "knn.fit(X_train, y_train)\n",
    "\n",
    "# Make predictions on the test data\n",
    "y_pred_knn = knn.predict(X_test)\n",
    "\n",
    "# Evaluate the kNN model\n",
    "accuracy_knn = accuracy_score(y_test, y_pred_knn)\n",
    "print(f\"Accuracy: {accuracy_knn:.4f}\")\n",
    "print(\"Classification Report:\")\n",
    "print(classification_report(y_test, y_pred_knn))\n"
   ]
  },
  {
<<<<<<< HEAD
   "cell_type": "code",
   "execution_count": 46,
   "metadata": {},
   "outputs": [
    {
     "data": {
      "image/png": "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",
      "text/plain": [
       "<Figure size 640x480 with 2 Axes>"
      ]
     },
     "metadata": {},
     "output_type": "display_data"
    }
   ],
   "source": [
    "from sklearn.metrics import ConfusionMatrixDisplay\n",
    "\n",
    "import matplotlib.pyplot as plt\n",
    "\n",
    "# Plot the confusion matrix for the kNN model\n",
    "ConfusionMatrixDisplay.from_estimator(knn, X_test, y_test, cmap=plt.cm.Blues)\n",
    "plt.title('Confusion Matrix for kNN Algorithm')\n",
    "plt.show()"
=======
   "cell_type": "markdown",
   "metadata": {},
   "source": [
    "## Finding best k\n",
    "\n",
    "Trying to hyperparameter tune the k value for the kNN model. \n",
    "Having issues as the base algorithm with only one iteration takes 5 minutes to run. \n",
    "Low prospects for hyperparameter tuning."
>>>>>>> f2955b6 (added the knn algorithm to the mix. testing out hyperparameter optimization but this seems not feasible)
   ]
  },
  {
   "cell_type": "code",
<<<<<<< HEAD
   "execution_count": 42,
=======
   "execution_count": null,
   "metadata": {},
   "outputs": [
    {
     "ename": "KeyboardInterrupt",
     "evalue": "",
     "output_type": "error",
     "traceback": [
      "\u001b[0;31m---------------------------------------------------------------------------\u001b[0m",
      "\u001b[0;31mKeyboardInterrupt\u001b[0m                         Traceback (most recent call last)",
      "Cell \u001b[0;32mIn[54], line 13\u001b[0m\n\u001b[1;32m     11\u001b[0m \u001b[38;5;66;03m# Perform Grid Search with cross-validation\u001b[39;00m\n\u001b[1;32m     12\u001b[0m grid_search \u001b[38;5;241m=\u001b[39m GridSearchCV(knn, param_grid, cv\u001b[38;5;241m=\u001b[39m\u001b[38;5;241m5\u001b[39m, scoring\u001b[38;5;241m=\u001b[39m\u001b[38;5;124m'\u001b[39m\u001b[38;5;124maccuracy\u001b[39m\u001b[38;5;124m'\u001b[39m)\n\u001b[0;32m---> 13\u001b[0m grid_search\u001b[38;5;241m.\u001b[39mfit(X_train, y_train)\n\u001b[1;32m     15\u001b[0m \u001b[38;5;66;03m# Print the best k and corresponding accuracy\u001b[39;00m\n\u001b[1;32m     16\u001b[0m \u001b[38;5;28mprint\u001b[39m(\u001b[38;5;124mf\u001b[39m\u001b[38;5;124m\"\u001b[39m\u001b[38;5;124mBest k: \u001b[39m\u001b[38;5;132;01m{\u001b[39;00mgrid_search\u001b[38;5;241m.\u001b[39mbest_params_[\u001b[38;5;124m'\u001b[39m\u001b[38;5;124mn_neighbors\u001b[39m\u001b[38;5;124m'\u001b[39m]\u001b[38;5;132;01m}\u001b[39;00m\u001b[38;5;124m\"\u001b[39m)\n",
      "File \u001b[0;32m/opt/anaconda3/lib/python3.12/site-packages/sklearn/base.py:1473\u001b[0m, in \u001b[0;36m_fit_context.<locals>.decorator.<locals>.wrapper\u001b[0;34m(estimator, *args, **kwargs)\u001b[0m\n\u001b[1;32m   1466\u001b[0m     estimator\u001b[38;5;241m.\u001b[39m_validate_params()\n\u001b[1;32m   1468\u001b[0m \u001b[38;5;28;01mwith\u001b[39;00m config_context(\n\u001b[1;32m   1469\u001b[0m     skip_parameter_validation\u001b[38;5;241m=\u001b[39m(\n\u001b[1;32m   1470\u001b[0m         prefer_skip_nested_validation \u001b[38;5;129;01mor\u001b[39;00m global_skip_validation\n\u001b[1;32m   1471\u001b[0m     )\n\u001b[1;32m   1472\u001b[0m ):\n\u001b[0;32m-> 1473\u001b[0m     \u001b[38;5;28;01mreturn\u001b[39;00m fit_method(estimator, \u001b[38;5;241m*\u001b[39margs, \u001b[38;5;241m*\u001b[39m\u001b[38;5;241m*\u001b[39mkwargs)\n",
      "File \u001b[0;32m/opt/anaconda3/lib/python3.12/site-packages/sklearn/model_selection/_search.py:1018\u001b[0m, in \u001b[0;36mBaseSearchCV.fit\u001b[0;34m(self, X, y, **params)\u001b[0m\n\u001b[1;32m   1012\u001b[0m     results \u001b[38;5;241m=\u001b[39m \u001b[38;5;28mself\u001b[39m\u001b[38;5;241m.\u001b[39m_format_results(\n\u001b[1;32m   1013\u001b[0m         all_candidate_params, n_splits, all_out, all_more_results\n\u001b[1;32m   1014\u001b[0m     )\n\u001b[1;32m   1016\u001b[0m     \u001b[38;5;28;01mreturn\u001b[39;00m results\n\u001b[0;32m-> 1018\u001b[0m \u001b[38;5;28mself\u001b[39m\u001b[38;5;241m.\u001b[39m_run_search(evaluate_candidates)\n\u001b[1;32m   1020\u001b[0m \u001b[38;5;66;03m# multimetric is determined here because in the case of a callable\u001b[39;00m\n\u001b[1;32m   1021\u001b[0m \u001b[38;5;66;03m# self.scoring the return type is only known after calling\u001b[39;00m\n\u001b[1;32m   1022\u001b[0m first_test_score \u001b[38;5;241m=\u001b[39m all_out[\u001b[38;5;241m0\u001b[39m][\u001b[38;5;124m\"\u001b[39m\u001b[38;5;124mtest_scores\u001b[39m\u001b[38;5;124m\"\u001b[39m]\n",
      "File \u001b[0;32m/opt/anaconda3/lib/python3.12/site-packages/sklearn/model_selection/_search.py:1572\u001b[0m, in \u001b[0;36mGridSearchCV._run_search\u001b[0;34m(self, evaluate_candidates)\u001b[0m\n\u001b[1;32m   1570\u001b[0m \u001b[38;5;28;01mdef\u001b[39;00m \u001b[38;5;21m_run_search\u001b[39m(\u001b[38;5;28mself\u001b[39m, evaluate_candidates):\n\u001b[1;32m   1571\u001b[0m \u001b[38;5;250m    \u001b[39m\u001b[38;5;124;03m\"\"\"Search all candidates in param_grid\"\"\"\u001b[39;00m\n\u001b[0;32m-> 1572\u001b[0m     evaluate_candidates(ParameterGrid(\u001b[38;5;28mself\u001b[39m\u001b[38;5;241m.\u001b[39mparam_grid))\n",
      "File \u001b[0;32m/opt/anaconda3/lib/python3.12/site-packages/sklearn/model_selection/_search.py:964\u001b[0m, in \u001b[0;36mBaseSearchCV.fit.<locals>.evaluate_candidates\u001b[0;34m(candidate_params, cv, more_results)\u001b[0m\n\u001b[1;32m    956\u001b[0m \u001b[38;5;28;01mif\u001b[39;00m \u001b[38;5;28mself\u001b[39m\u001b[38;5;241m.\u001b[39mverbose \u001b[38;5;241m>\u001b[39m \u001b[38;5;241m0\u001b[39m:\n\u001b[1;32m    957\u001b[0m     \u001b[38;5;28mprint\u001b[39m(\n\u001b[1;32m    958\u001b[0m         \u001b[38;5;124m\"\u001b[39m\u001b[38;5;124mFitting \u001b[39m\u001b[38;5;132;01m{0}\u001b[39;00m\u001b[38;5;124m folds for each of \u001b[39m\u001b[38;5;132;01m{1}\u001b[39;00m\u001b[38;5;124m candidates,\u001b[39m\u001b[38;5;124m\"\u001b[39m\n\u001b[1;32m    959\u001b[0m         \u001b[38;5;124m\"\u001b[39m\u001b[38;5;124m totalling \u001b[39m\u001b[38;5;132;01m{2}\u001b[39;00m\u001b[38;5;124m fits\u001b[39m\u001b[38;5;124m\"\u001b[39m\u001b[38;5;241m.\u001b[39mformat(\n\u001b[1;32m    960\u001b[0m             n_splits, n_candidates, n_candidates \u001b[38;5;241m*\u001b[39m n_splits\n\u001b[1;32m    961\u001b[0m         )\n\u001b[1;32m    962\u001b[0m     )\n\u001b[0;32m--> 964\u001b[0m out \u001b[38;5;241m=\u001b[39m parallel(\n\u001b[1;32m    965\u001b[0m     delayed(_fit_and_score)(\n\u001b[1;32m    966\u001b[0m         clone(base_estimator),\n\u001b[1;32m    967\u001b[0m         X,\n\u001b[1;32m    968\u001b[0m         y,\n\u001b[1;32m    969\u001b[0m         train\u001b[38;5;241m=\u001b[39mtrain,\n\u001b[1;32m    970\u001b[0m         test\u001b[38;5;241m=\u001b[39mtest,\n\u001b[1;32m    971\u001b[0m         parameters\u001b[38;5;241m=\u001b[39mparameters,\n\u001b[1;32m    972\u001b[0m         split_progress\u001b[38;5;241m=\u001b[39m(split_idx, n_splits),\n\u001b[1;32m    973\u001b[0m         candidate_progress\u001b[38;5;241m=\u001b[39m(cand_idx, n_candidates),\n\u001b[1;32m    974\u001b[0m         \u001b[38;5;241m*\u001b[39m\u001b[38;5;241m*\u001b[39mfit_and_score_kwargs,\n\u001b[1;32m    975\u001b[0m     )\n\u001b[1;32m    976\u001b[0m     \u001b[38;5;28;01mfor\u001b[39;00m (cand_idx, parameters), (split_idx, (train, test)) \u001b[38;5;129;01min\u001b[39;00m product(\n\u001b[1;32m    977\u001b[0m         \u001b[38;5;28menumerate\u001b[39m(candidate_params),\n\u001b[1;32m    978\u001b[0m         \u001b[38;5;28menumerate\u001b[39m(cv\u001b[38;5;241m.\u001b[39msplit(X, y, \u001b[38;5;241m*\u001b[39m\u001b[38;5;241m*\u001b[39mrouted_params\u001b[38;5;241m.\u001b[39msplitter\u001b[38;5;241m.\u001b[39msplit)),\n\u001b[1;32m    979\u001b[0m     )\n\u001b[1;32m    980\u001b[0m )\n\u001b[1;32m    982\u001b[0m \u001b[38;5;28;01mif\u001b[39;00m \u001b[38;5;28mlen\u001b[39m(out) \u001b[38;5;241m<\u001b[39m \u001b[38;5;241m1\u001b[39m:\n\u001b[1;32m    983\u001b[0m     \u001b[38;5;28;01mraise\u001b[39;00m \u001b[38;5;167;01mValueError\u001b[39;00m(\n\u001b[1;32m    984\u001b[0m         \u001b[38;5;124m\"\u001b[39m\u001b[38;5;124mNo fits were performed. \u001b[39m\u001b[38;5;124m\"\u001b[39m\n\u001b[1;32m    985\u001b[0m         \u001b[38;5;124m\"\u001b[39m\u001b[38;5;124mWas the CV iterator empty? \u001b[39m\u001b[38;5;124m\"\u001b[39m\n\u001b[1;32m    986\u001b[0m         \u001b[38;5;124m\"\u001b[39m\u001b[38;5;124mWere there no candidates?\u001b[39m\u001b[38;5;124m\"\u001b[39m\n\u001b[1;32m    987\u001b[0m     )\n",
      "File \u001b[0;32m/opt/anaconda3/lib/python3.12/site-packages/sklearn/utils/parallel.py:74\u001b[0m, in \u001b[0;36mParallel.__call__\u001b[0;34m(self, iterable)\u001b[0m\n\u001b[1;32m     69\u001b[0m config \u001b[38;5;241m=\u001b[39m get_config()\n\u001b[1;32m     70\u001b[0m iterable_with_config \u001b[38;5;241m=\u001b[39m (\n\u001b[1;32m     71\u001b[0m     (_with_config(delayed_func, config), args, kwargs)\n\u001b[1;32m     72\u001b[0m     \u001b[38;5;28;01mfor\u001b[39;00m delayed_func, args, kwargs \u001b[38;5;129;01min\u001b[39;00m iterable\n\u001b[1;32m     73\u001b[0m )\n\u001b[0;32m---> 74\u001b[0m \u001b[38;5;28;01mreturn\u001b[39;00m \u001b[38;5;28msuper\u001b[39m()\u001b[38;5;241m.\u001b[39m\u001b[38;5;21m__call__\u001b[39m(iterable_with_config)\n",
      "File \u001b[0;32m/opt/anaconda3/lib/python3.12/site-packages/joblib/parallel.py:1918\u001b[0m, in \u001b[0;36mParallel.__call__\u001b[0;34m(self, iterable)\u001b[0m\n\u001b[1;32m   1916\u001b[0m     output \u001b[38;5;241m=\u001b[39m \u001b[38;5;28mself\u001b[39m\u001b[38;5;241m.\u001b[39m_get_sequential_output(iterable)\n\u001b[1;32m   1917\u001b[0m     \u001b[38;5;28mnext\u001b[39m(output)\n\u001b[0;32m-> 1918\u001b[0m     \u001b[38;5;28;01mreturn\u001b[39;00m output \u001b[38;5;28;01mif\u001b[39;00m \u001b[38;5;28mself\u001b[39m\u001b[38;5;241m.\u001b[39mreturn_generator \u001b[38;5;28;01melse\u001b[39;00m \u001b[38;5;28mlist\u001b[39m(output)\n\u001b[1;32m   1920\u001b[0m \u001b[38;5;66;03m# Let's create an ID that uniquely identifies the current call. If the\u001b[39;00m\n\u001b[1;32m   1921\u001b[0m \u001b[38;5;66;03m# call is interrupted early and that the same instance is immediately\u001b[39;00m\n\u001b[1;32m   1922\u001b[0m \u001b[38;5;66;03m# re-used, this id will be used to prevent workers that were\u001b[39;00m\n\u001b[1;32m   1923\u001b[0m \u001b[38;5;66;03m# concurrently finalizing a task from the previous call to run the\u001b[39;00m\n\u001b[1;32m   1924\u001b[0m \u001b[38;5;66;03m# callback.\u001b[39;00m\n\u001b[1;32m   1925\u001b[0m \u001b[38;5;28;01mwith\u001b[39;00m \u001b[38;5;28mself\u001b[39m\u001b[38;5;241m.\u001b[39m_lock:\n",
      "File \u001b[0;32m/opt/anaconda3/lib/python3.12/site-packages/joblib/parallel.py:1847\u001b[0m, in \u001b[0;36mParallel._get_sequential_output\u001b[0;34m(self, iterable)\u001b[0m\n\u001b[1;32m   1845\u001b[0m \u001b[38;5;28mself\u001b[39m\u001b[38;5;241m.\u001b[39mn_dispatched_batches \u001b[38;5;241m+\u001b[39m\u001b[38;5;241m=\u001b[39m \u001b[38;5;241m1\u001b[39m\n\u001b[1;32m   1846\u001b[0m \u001b[38;5;28mself\u001b[39m\u001b[38;5;241m.\u001b[39mn_dispatched_tasks \u001b[38;5;241m+\u001b[39m\u001b[38;5;241m=\u001b[39m \u001b[38;5;241m1\u001b[39m\n\u001b[0;32m-> 1847\u001b[0m res \u001b[38;5;241m=\u001b[39m func(\u001b[38;5;241m*\u001b[39margs, \u001b[38;5;241m*\u001b[39m\u001b[38;5;241m*\u001b[39mkwargs)\n\u001b[1;32m   1848\u001b[0m \u001b[38;5;28mself\u001b[39m\u001b[38;5;241m.\u001b[39mn_completed_tasks \u001b[38;5;241m+\u001b[39m\u001b[38;5;241m=\u001b[39m \u001b[38;5;241m1\u001b[39m\n\u001b[1;32m   1849\u001b[0m \u001b[38;5;28mself\u001b[39m\u001b[38;5;241m.\u001b[39mprint_progress()\n",
      "File \u001b[0;32m/opt/anaconda3/lib/python3.12/site-packages/sklearn/utils/parallel.py:136\u001b[0m, in \u001b[0;36m_FuncWrapper.__call__\u001b[0;34m(self, *args, **kwargs)\u001b[0m\n\u001b[1;32m    134\u001b[0m     config \u001b[38;5;241m=\u001b[39m {}\n\u001b[1;32m    135\u001b[0m \u001b[38;5;28;01mwith\u001b[39;00m config_context(\u001b[38;5;241m*\u001b[39m\u001b[38;5;241m*\u001b[39mconfig):\n\u001b[0;32m--> 136\u001b[0m     \u001b[38;5;28;01mreturn\u001b[39;00m \u001b[38;5;28mself\u001b[39m\u001b[38;5;241m.\u001b[39mfunction(\u001b[38;5;241m*\u001b[39margs, \u001b[38;5;241m*\u001b[39m\u001b[38;5;241m*\u001b[39mkwargs)\n",
      "File \u001b[0;32m/opt/anaconda3/lib/python3.12/site-packages/sklearn/model_selection/_validation.py:910\u001b[0m, in \u001b[0;36m_fit_and_score\u001b[0;34m(estimator, X, y, scorer, train, test, verbose, parameters, fit_params, score_params, return_train_score, return_parameters, return_n_test_samples, return_times, return_estimator, split_progress, candidate_progress, error_score)\u001b[0m\n\u001b[1;32m    907\u001b[0m result[\u001b[38;5;124m\"\u001b[39m\u001b[38;5;124mfit_error\u001b[39m\u001b[38;5;124m\"\u001b[39m] \u001b[38;5;241m=\u001b[39m \u001b[38;5;28;01mNone\u001b[39;00m\n\u001b[1;32m    909\u001b[0m fit_time \u001b[38;5;241m=\u001b[39m time\u001b[38;5;241m.\u001b[39mtime() \u001b[38;5;241m-\u001b[39m start_time\n\u001b[0;32m--> 910\u001b[0m test_scores \u001b[38;5;241m=\u001b[39m _score(\n\u001b[1;32m    911\u001b[0m     estimator, X_test, y_test, scorer, score_params_test, error_score\n\u001b[1;32m    912\u001b[0m )\n\u001b[1;32m    913\u001b[0m score_time \u001b[38;5;241m=\u001b[39m time\u001b[38;5;241m.\u001b[39mtime() \u001b[38;5;241m-\u001b[39m start_time \u001b[38;5;241m-\u001b[39m fit_time\n\u001b[1;32m    914\u001b[0m \u001b[38;5;28;01mif\u001b[39;00m return_train_score:\n",
      "File \u001b[0;32m/opt/anaconda3/lib/python3.12/site-packages/sklearn/model_selection/_validation.py:971\u001b[0m, in \u001b[0;36m_score\u001b[0;34m(estimator, X_test, y_test, scorer, score_params, error_score)\u001b[0m\n\u001b[1;32m    969\u001b[0m         scores \u001b[38;5;241m=\u001b[39m scorer(estimator, X_test, \u001b[38;5;241m*\u001b[39m\u001b[38;5;241m*\u001b[39mscore_params)\n\u001b[1;32m    970\u001b[0m     \u001b[38;5;28;01melse\u001b[39;00m:\n\u001b[0;32m--> 971\u001b[0m         scores \u001b[38;5;241m=\u001b[39m scorer(estimator, X_test, y_test, \u001b[38;5;241m*\u001b[39m\u001b[38;5;241m*\u001b[39mscore_params)\n\u001b[1;32m    972\u001b[0m \u001b[38;5;28;01mexcept\u001b[39;00m \u001b[38;5;167;01mException\u001b[39;00m:\n\u001b[1;32m    973\u001b[0m     \u001b[38;5;28;01mif\u001b[39;00m \u001b[38;5;28misinstance\u001b[39m(scorer, _MultimetricScorer):\n\u001b[1;32m    974\u001b[0m         \u001b[38;5;66;03m# If `_MultimetricScorer` raises exception, the `error_score`\u001b[39;00m\n\u001b[1;32m    975\u001b[0m         \u001b[38;5;66;03m# parameter is equal to \"raise\".\u001b[39;00m\n",
      "File \u001b[0;32m/opt/anaconda3/lib/python3.12/site-packages/sklearn/metrics/_scorer.py:279\u001b[0m, in \u001b[0;36m_BaseScorer.__call__\u001b[0;34m(self, estimator, X, y_true, sample_weight, **kwargs)\u001b[0m\n\u001b[1;32m    276\u001b[0m \u001b[38;5;28;01mif\u001b[39;00m sample_weight \u001b[38;5;129;01mis\u001b[39;00m \u001b[38;5;129;01mnot\u001b[39;00m \u001b[38;5;28;01mNone\u001b[39;00m:\n\u001b[1;32m    277\u001b[0m     _kwargs[\u001b[38;5;124m\"\u001b[39m\u001b[38;5;124msample_weight\u001b[39m\u001b[38;5;124m\"\u001b[39m] \u001b[38;5;241m=\u001b[39m sample_weight\n\u001b[0;32m--> 279\u001b[0m \u001b[38;5;28;01mreturn\u001b[39;00m \u001b[38;5;28mself\u001b[39m\u001b[38;5;241m.\u001b[39m_score(partial(_cached_call, \u001b[38;5;28;01mNone\u001b[39;00m), estimator, X, y_true, \u001b[38;5;241m*\u001b[39m\u001b[38;5;241m*\u001b[39m_kwargs)\n",
      "File \u001b[0;32m/opt/anaconda3/lib/python3.12/site-packages/sklearn/metrics/_scorer.py:371\u001b[0m, in \u001b[0;36m_Scorer._score\u001b[0;34m(self, method_caller, estimator, X, y_true, **kwargs)\u001b[0m\n\u001b[1;32m    369\u001b[0m pos_label \u001b[38;5;241m=\u001b[39m \u001b[38;5;28;01mNone\u001b[39;00m \u001b[38;5;28;01mif\u001b[39;00m is_regressor(estimator) \u001b[38;5;28;01melse\u001b[39;00m \u001b[38;5;28mself\u001b[39m\u001b[38;5;241m.\u001b[39m_get_pos_label()\n\u001b[1;32m    370\u001b[0m response_method \u001b[38;5;241m=\u001b[39m _check_response_method(estimator, \u001b[38;5;28mself\u001b[39m\u001b[38;5;241m.\u001b[39m_response_method)\n\u001b[0;32m--> 371\u001b[0m y_pred \u001b[38;5;241m=\u001b[39m method_caller(\n\u001b[1;32m    372\u001b[0m     estimator, response_method\u001b[38;5;241m.\u001b[39m\u001b[38;5;18m__name__\u001b[39m, X, pos_label\u001b[38;5;241m=\u001b[39mpos_label\n\u001b[1;32m    373\u001b[0m )\n\u001b[1;32m    375\u001b[0m scoring_kwargs \u001b[38;5;241m=\u001b[39m {\u001b[38;5;241m*\u001b[39m\u001b[38;5;241m*\u001b[39m\u001b[38;5;28mself\u001b[39m\u001b[38;5;241m.\u001b[39m_kwargs, \u001b[38;5;241m*\u001b[39m\u001b[38;5;241m*\u001b[39mkwargs}\n\u001b[1;32m    376\u001b[0m \u001b[38;5;28;01mreturn\u001b[39;00m \u001b[38;5;28mself\u001b[39m\u001b[38;5;241m.\u001b[39m_sign \u001b[38;5;241m*\u001b[39m \u001b[38;5;28mself\u001b[39m\u001b[38;5;241m.\u001b[39m_score_func(y_true, y_pred, \u001b[38;5;241m*\u001b[39m\u001b[38;5;241m*\u001b[39mscoring_kwargs)\n",
      "File \u001b[0;32m/opt/anaconda3/lib/python3.12/site-packages/sklearn/metrics/_scorer.py:89\u001b[0m, in \u001b[0;36m_cached_call\u001b[0;34m(cache, estimator, response_method, *args, **kwargs)\u001b[0m\n\u001b[1;32m     86\u001b[0m \u001b[38;5;28;01mif\u001b[39;00m cache \u001b[38;5;129;01mis\u001b[39;00m \u001b[38;5;129;01mnot\u001b[39;00m \u001b[38;5;28;01mNone\u001b[39;00m \u001b[38;5;129;01mand\u001b[39;00m response_method \u001b[38;5;129;01min\u001b[39;00m cache:\n\u001b[1;32m     87\u001b[0m     \u001b[38;5;28;01mreturn\u001b[39;00m cache[response_method]\n\u001b[0;32m---> 89\u001b[0m result, _ \u001b[38;5;241m=\u001b[39m _get_response_values(\n\u001b[1;32m     90\u001b[0m     estimator, \u001b[38;5;241m*\u001b[39margs, response_method\u001b[38;5;241m=\u001b[39mresponse_method, \u001b[38;5;241m*\u001b[39m\u001b[38;5;241m*\u001b[39mkwargs\n\u001b[1;32m     91\u001b[0m )\n\u001b[1;32m     93\u001b[0m \u001b[38;5;28;01mif\u001b[39;00m cache \u001b[38;5;129;01mis\u001b[39;00m \u001b[38;5;129;01mnot\u001b[39;00m \u001b[38;5;28;01mNone\u001b[39;00m:\n\u001b[1;32m     94\u001b[0m     cache[response_method] \u001b[38;5;241m=\u001b[39m result\n",
      "File \u001b[0;32m/opt/anaconda3/lib/python3.12/site-packages/sklearn/utils/_response.py:211\u001b[0m, in \u001b[0;36m_get_response_values\u001b[0;34m(estimator, X, response_method, pos_label, return_response_method_used)\u001b[0m\n\u001b[1;32m    208\u001b[0m     \u001b[38;5;28;01melif\u001b[39;00m pos_label \u001b[38;5;129;01mis\u001b[39;00m \u001b[38;5;28;01mNone\u001b[39;00m \u001b[38;5;129;01mand\u001b[39;00m target_type \u001b[38;5;241m==\u001b[39m \u001b[38;5;124m\"\u001b[39m\u001b[38;5;124mbinary\u001b[39m\u001b[38;5;124m\"\u001b[39m:\n\u001b[1;32m    209\u001b[0m         pos_label \u001b[38;5;241m=\u001b[39m classes[\u001b[38;5;241m-\u001b[39m\u001b[38;5;241m1\u001b[39m]\n\u001b[0;32m--> 211\u001b[0m y_pred \u001b[38;5;241m=\u001b[39m prediction_method(X)\n\u001b[1;32m    213\u001b[0m \u001b[38;5;28;01mif\u001b[39;00m prediction_method\u001b[38;5;241m.\u001b[39m\u001b[38;5;18m__name__\u001b[39m \u001b[38;5;129;01min\u001b[39;00m (\u001b[38;5;124m\"\u001b[39m\u001b[38;5;124mpredict_proba\u001b[39m\u001b[38;5;124m\"\u001b[39m, \u001b[38;5;124m\"\u001b[39m\u001b[38;5;124mpredict_log_proba\u001b[39m\u001b[38;5;124m\"\u001b[39m):\n\u001b[1;32m    214\u001b[0m     y_pred \u001b[38;5;241m=\u001b[39m _process_predict_proba(\n\u001b[1;32m    215\u001b[0m         y_pred\u001b[38;5;241m=\u001b[39my_pred,\n\u001b[1;32m    216\u001b[0m         target_type\u001b[38;5;241m=\u001b[39mtarget_type,\n\u001b[1;32m    217\u001b[0m         classes\u001b[38;5;241m=\u001b[39mclasses,\n\u001b[1;32m    218\u001b[0m         pos_label\u001b[38;5;241m=\u001b[39mpos_label,\n\u001b[1;32m    219\u001b[0m     )\n",
      "File \u001b[0;32m/opt/anaconda3/lib/python3.12/site-packages/sklearn/neighbors/_classification.py:259\u001b[0m, in \u001b[0;36mKNeighborsClassifier.predict\u001b[0;34m(self, X)\u001b[0m\n\u001b[1;32m    255\u001b[0m \u001b[38;5;28;01mif\u001b[39;00m \u001b[38;5;28mself\u001b[39m\u001b[38;5;241m.\u001b[39mweights \u001b[38;5;241m==\u001b[39m \u001b[38;5;124m\"\u001b[39m\u001b[38;5;124muniform\u001b[39m\u001b[38;5;124m\"\u001b[39m:\n\u001b[1;32m    256\u001b[0m     \u001b[38;5;28;01mif\u001b[39;00m \u001b[38;5;28mself\u001b[39m\u001b[38;5;241m.\u001b[39m_fit_method \u001b[38;5;241m==\u001b[39m \u001b[38;5;124m\"\u001b[39m\u001b[38;5;124mbrute\u001b[39m\u001b[38;5;124m\"\u001b[39m \u001b[38;5;129;01mand\u001b[39;00m ArgKminClassMode\u001b[38;5;241m.\u001b[39mis_usable_for(\n\u001b[1;32m    257\u001b[0m         X, \u001b[38;5;28mself\u001b[39m\u001b[38;5;241m.\u001b[39m_fit_X, \u001b[38;5;28mself\u001b[39m\u001b[38;5;241m.\u001b[39mmetric\n\u001b[1;32m    258\u001b[0m     ):\n\u001b[0;32m--> 259\u001b[0m         probabilities \u001b[38;5;241m=\u001b[39m \u001b[38;5;28mself\u001b[39m\u001b[38;5;241m.\u001b[39mpredict_proba(X)\n\u001b[1;32m    260\u001b[0m         \u001b[38;5;28;01mif\u001b[39;00m \u001b[38;5;28mself\u001b[39m\u001b[38;5;241m.\u001b[39moutputs_2d_:\n\u001b[1;32m    261\u001b[0m             \u001b[38;5;28;01mreturn\u001b[39;00m np\u001b[38;5;241m.\u001b[39mstack(\n\u001b[1;32m    262\u001b[0m                 [\n\u001b[1;32m    263\u001b[0m                     \u001b[38;5;28mself\u001b[39m\u001b[38;5;241m.\u001b[39mclasses_[idx][np\u001b[38;5;241m.\u001b[39margmax(probas, axis\u001b[38;5;241m=\u001b[39m\u001b[38;5;241m1\u001b[39m)]\n\u001b[0;32m   (...)\u001b[0m\n\u001b[1;32m    266\u001b[0m                 axis\u001b[38;5;241m=\u001b[39m\u001b[38;5;241m1\u001b[39m,\n\u001b[1;32m    267\u001b[0m             )\n",
      "File \u001b[0;32m/opt/anaconda3/lib/python3.12/site-packages/sklearn/neighbors/_classification.py:366\u001b[0m, in \u001b[0;36mKNeighborsClassifier.predict_proba\u001b[0;34m(self, X)\u001b[0m\n\u001b[1;32m    362\u001b[0m         \u001b[38;5;28;01mreturn\u001b[39;00m probabilities\n\u001b[1;32m    364\u001b[0m     \u001b[38;5;66;03m# In that case, we do not need the distances to perform\u001b[39;00m\n\u001b[1;32m    365\u001b[0m     \u001b[38;5;66;03m# the weighting so we do not compute them.\u001b[39;00m\n\u001b[0;32m--> 366\u001b[0m     neigh_ind \u001b[38;5;241m=\u001b[39m \u001b[38;5;28mself\u001b[39m\u001b[38;5;241m.\u001b[39mkneighbors(X, return_distance\u001b[38;5;241m=\u001b[39m\u001b[38;5;28;01mFalse\u001b[39;00m)\n\u001b[1;32m    367\u001b[0m     neigh_dist \u001b[38;5;241m=\u001b[39m \u001b[38;5;28;01mNone\u001b[39;00m\n\u001b[1;32m    368\u001b[0m \u001b[38;5;28;01melse\u001b[39;00m:\n",
      "File \u001b[0;32m/opt/anaconda3/lib/python3.12/site-packages/sklearn/neighbors/_base.py:886\u001b[0m, in \u001b[0;36mKNeighborsMixin.kneighbors\u001b[0;34m(self, X, n_neighbors, return_distance)\u001b[0m\n\u001b[1;32m    883\u001b[0m     \u001b[38;5;28;01melse\u001b[39;00m:\n\u001b[1;32m    884\u001b[0m         kwds \u001b[38;5;241m=\u001b[39m \u001b[38;5;28mself\u001b[39m\u001b[38;5;241m.\u001b[39meffective_metric_params_\n\u001b[0;32m--> 886\u001b[0m     chunked_results \u001b[38;5;241m=\u001b[39m \u001b[38;5;28mlist\u001b[39m(\n\u001b[1;32m    887\u001b[0m         pairwise_distances_chunked(\n\u001b[1;32m    888\u001b[0m             X,\n\u001b[1;32m    889\u001b[0m             \u001b[38;5;28mself\u001b[39m\u001b[38;5;241m.\u001b[39m_fit_X,\n\u001b[1;32m    890\u001b[0m             reduce_func\u001b[38;5;241m=\u001b[39mreduce_func,\n\u001b[1;32m    891\u001b[0m             metric\u001b[38;5;241m=\u001b[39m\u001b[38;5;28mself\u001b[39m\u001b[38;5;241m.\u001b[39meffective_metric_,\n\u001b[1;32m    892\u001b[0m             n_jobs\u001b[38;5;241m=\u001b[39mn_jobs,\n\u001b[1;32m    893\u001b[0m             \u001b[38;5;241m*\u001b[39m\u001b[38;5;241m*\u001b[39mkwds,\n\u001b[1;32m    894\u001b[0m         )\n\u001b[1;32m    895\u001b[0m     )\n\u001b[1;32m    897\u001b[0m \u001b[38;5;28;01melif\u001b[39;00m \u001b[38;5;28mself\u001b[39m\u001b[38;5;241m.\u001b[39m_fit_method \u001b[38;5;129;01min\u001b[39;00m [\u001b[38;5;124m\"\u001b[39m\u001b[38;5;124mball_tree\u001b[39m\u001b[38;5;124m\"\u001b[39m, \u001b[38;5;124m\"\u001b[39m\u001b[38;5;124mkd_tree\u001b[39m\u001b[38;5;124m\"\u001b[39m]:\n\u001b[1;32m    898\u001b[0m     \u001b[38;5;28;01mif\u001b[39;00m issparse(X):\n",
      "File \u001b[0;32m/opt/anaconda3/lib/python3.12/site-packages/sklearn/metrics/pairwise.py:2181\u001b[0m, in \u001b[0;36mpairwise_distances_chunked\u001b[0;34m(X, Y, reduce_func, metric, n_jobs, working_memory, **kwds)\u001b[0m\n\u001b[1;32m   2179\u001b[0m \u001b[38;5;28;01mif\u001b[39;00m reduce_func \u001b[38;5;129;01mis\u001b[39;00m \u001b[38;5;129;01mnot\u001b[39;00m \u001b[38;5;28;01mNone\u001b[39;00m:\n\u001b[1;32m   2180\u001b[0m     chunk_size \u001b[38;5;241m=\u001b[39m D_chunk\u001b[38;5;241m.\u001b[39mshape[\u001b[38;5;241m0\u001b[39m]\n\u001b[0;32m-> 2181\u001b[0m     D_chunk \u001b[38;5;241m=\u001b[39m reduce_func(D_chunk, sl\u001b[38;5;241m.\u001b[39mstart)\n\u001b[1;32m   2182\u001b[0m     _check_chunk_size(D_chunk, chunk_size)\n\u001b[1;32m   2183\u001b[0m \u001b[38;5;28;01myield\u001b[39;00m D_chunk\n",
      "File \u001b[0;32m/opt/anaconda3/lib/python3.12/site-packages/sklearn/neighbors/_base.py:738\u001b[0m, in \u001b[0;36mKNeighborsMixin._kneighbors_reduce_func\u001b[0;34m(self, dist, start, n_neighbors, return_distance)\u001b[0m\n\u001b[1;32m    711\u001b[0m \u001b[38;5;250m\u001b[39m\u001b[38;5;124;03m\"\"\"Reduce a chunk of distances to the nearest neighbors.\u001b[39;00m\n\u001b[1;32m    712\u001b[0m \n\u001b[1;32m    713\u001b[0m \u001b[38;5;124;03mCallback to :func:`sklearn.metrics.pairwise.pairwise_distances_chunked`\u001b[39;00m\n\u001b[0;32m   (...)\u001b[0m\n\u001b[1;32m    735\u001b[0m \u001b[38;5;124;03m    The neighbors indices.\u001b[39;00m\n\u001b[1;32m    736\u001b[0m \u001b[38;5;124;03m\"\"\"\u001b[39;00m\n\u001b[1;32m    737\u001b[0m sample_range \u001b[38;5;241m=\u001b[39m np\u001b[38;5;241m.\u001b[39marange(dist\u001b[38;5;241m.\u001b[39mshape[\u001b[38;5;241m0\u001b[39m])[:, \u001b[38;5;28;01mNone\u001b[39;00m]\n\u001b[0;32m--> 738\u001b[0m neigh_ind \u001b[38;5;241m=\u001b[39m np\u001b[38;5;241m.\u001b[39margpartition(dist, n_neighbors \u001b[38;5;241m-\u001b[39m \u001b[38;5;241m1\u001b[39m, axis\u001b[38;5;241m=\u001b[39m\u001b[38;5;241m1\u001b[39m)\n\u001b[1;32m    739\u001b[0m neigh_ind \u001b[38;5;241m=\u001b[39m neigh_ind[:, :n_neighbors]\n\u001b[1;32m    740\u001b[0m \u001b[38;5;66;03m# argpartition doesn't guarantee sorted order, so we sort again\u001b[39;00m\n",
      "File \u001b[0;32m/opt/anaconda3/lib/python3.12/site-packages/numpy/core/fromnumeric.py:858\u001b[0m, in \u001b[0;36margpartition\u001b[0;34m(a, kth, axis, kind, order)\u001b[0m\n\u001b[1;32m    779\u001b[0m \u001b[38;5;129m@array_function_dispatch\u001b[39m(_argpartition_dispatcher)\n\u001b[1;32m    780\u001b[0m \u001b[38;5;28;01mdef\u001b[39;00m \u001b[38;5;21margpartition\u001b[39m(a, kth, axis\u001b[38;5;241m=\u001b[39m\u001b[38;5;241m-\u001b[39m\u001b[38;5;241m1\u001b[39m, kind\u001b[38;5;241m=\u001b[39m\u001b[38;5;124m'\u001b[39m\u001b[38;5;124mintroselect\u001b[39m\u001b[38;5;124m'\u001b[39m, order\u001b[38;5;241m=\u001b[39m\u001b[38;5;28;01mNone\u001b[39;00m):\n\u001b[1;32m    781\u001b[0m \u001b[38;5;250m    \u001b[39m\u001b[38;5;124;03m\"\"\"\u001b[39;00m\n\u001b[1;32m    782\u001b[0m \u001b[38;5;124;03m    Perform an indirect partition along the given axis using the\u001b[39;00m\n\u001b[1;32m    783\u001b[0m \u001b[38;5;124;03m    algorithm specified by the `kind` keyword. It returns an array of\u001b[39;00m\n\u001b[0;32m   (...)\u001b[0m\n\u001b[1;32m    856\u001b[0m \n\u001b[1;32m    857\u001b[0m \u001b[38;5;124;03m    \"\"\"\u001b[39;00m\n\u001b[0;32m--> 858\u001b[0m     \u001b[38;5;28;01mreturn\u001b[39;00m _wrapfunc(a, \u001b[38;5;124m'\u001b[39m\u001b[38;5;124margpartition\u001b[39m\u001b[38;5;124m'\u001b[39m, kth, axis\u001b[38;5;241m=\u001b[39maxis, kind\u001b[38;5;241m=\u001b[39mkind, order\u001b[38;5;241m=\u001b[39morder)\n",
      "File \u001b[0;32m/opt/anaconda3/lib/python3.12/site-packages/numpy/core/fromnumeric.py:59\u001b[0m, in \u001b[0;36m_wrapfunc\u001b[0;34m(obj, method, *args, **kwds)\u001b[0m\n\u001b[1;32m     56\u001b[0m     \u001b[38;5;28;01mreturn\u001b[39;00m _wrapit(obj, method, \u001b[38;5;241m*\u001b[39margs, \u001b[38;5;241m*\u001b[39m\u001b[38;5;241m*\u001b[39mkwds)\n\u001b[1;32m     58\u001b[0m \u001b[38;5;28;01mtry\u001b[39;00m:\n\u001b[0;32m---> 59\u001b[0m     \u001b[38;5;28;01mreturn\u001b[39;00m bound(\u001b[38;5;241m*\u001b[39margs, \u001b[38;5;241m*\u001b[39m\u001b[38;5;241m*\u001b[39mkwds)\n\u001b[1;32m     60\u001b[0m \u001b[38;5;28;01mexcept\u001b[39;00m \u001b[38;5;167;01mTypeError\u001b[39;00m:\n\u001b[1;32m     61\u001b[0m     \u001b[38;5;66;03m# A TypeError occurs if the object does have such a method in its\u001b[39;00m\n\u001b[1;32m     62\u001b[0m     \u001b[38;5;66;03m# class, but its signature is not identical to that of NumPy's. This\u001b[39;00m\n\u001b[0;32m   (...)\u001b[0m\n\u001b[1;32m     66\u001b[0m     \u001b[38;5;66;03m# Call _wrapit from within the except clause to ensure a potential\u001b[39;00m\n\u001b[1;32m     67\u001b[0m     \u001b[38;5;66;03m# exception has a traceback chain.\u001b[39;00m\n\u001b[1;32m     68\u001b[0m     \u001b[38;5;28;01mreturn\u001b[39;00m _wrapit(obj, method, \u001b[38;5;241m*\u001b[39margs, \u001b[38;5;241m*\u001b[39m\u001b[38;5;241m*\u001b[39mkwds)\n",
      "\u001b[0;31mKeyboardInterrupt\u001b[0m: "
     ]
    }
   ],
   "source": [
    "from sklearn.model_selection import RandomizedSearchCV\n",
    "from scipy.stats import randint\n",
    "\n",
    "# Define the parameter grid for RandomizedSearchCV\n",
    "param_dist = {\n",
    "    'n_neighbors': randint(1, 50)\n",
    "}\n",
    "\n",
    "# Initialize the RandomizedSearchCV with KNeighborsClassifier\n",
    "random_search = RandomizedSearchCV(KNeighborsClassifier(), param_distributions=param_dist, n_iter=100, cv=5, scoring='accuracy', random_state=42)\n",
    "\n",
    "# Fit the random search model\n",
    "random_search.fit(X_train, y_train)\n",
    "\n",
    "# Get the best parameters and best score\n",
    "best_params = random_search.best_params_\n",
    "best_score = random_search.best_score_\n",
    "\n",
    "print(f\"Best Parameters: {best_params}\")\n",
    "print(f\"Best Score: {best_score:.4f}\")\n",
    "\n",
    "# Make predictions on the test data using the best estimator\n",
    "y_pred_random_search = random_search.best_estimator_.predict(X_test)\n",
    "\n",
    "# Evaluate the model\n",
    "accuracy_random_search = accuracy_score(y_test, y_pred_random_search)\n",
    "print(f\"Accuracy: {accuracy_random_search:.4f}\")\n",
    "print(\"Classification Report:\")\n",
    "print(classification_report(y_test, y_pred_random_search))\n"
   ]
  },
  {
   "cell_type": "markdown",
   "metadata": {},
   "source": [
    "# Comparing the algorithms"
   ]
  },
  {
   "cell_type": "code",
   "execution_count": 50,
>>>>>>> f2955b6 (added the knn algorithm to the mix. testing out hyperparameter optimization but this seems not feasible)
   "metadata": {},
   "outputs": [
    {
     "data": {
<<<<<<< HEAD
      "image/png": "iVBORw0KGgoAAAANSUhEUgAAA04AAAIhCAYAAAB5deq6AAAAOXRFWHRTb2Z0d2FyZQBNYXRwbG90bGliIHZlcnNpb24zLjkuMiwgaHR0cHM6Ly9tYXRwbG90bGliLm9yZy8hTgPZAAAACXBIWXMAAA9hAAAPYQGoP6dpAABICElEQVR4nO3deVxU1f/H8fcIAqKCO4oiuKRilhtuuHxdcU8qA9tcsNIWTTG3NLcsXNK0Rc0El3IhS7NFTVzTtNzQLM2+ZYoLSmoC+nUD7u8PH8yvcYALig7K6/l4zOPRnDnn3s/cxpl5c889YzEMwxAAAAAAIFMFHF0AAAAAAOR1BCcAAAAAMEFwAgAAAAATBCcAAAAAMEFwAgAAAAATBCcAAAAAMEFwAgAAAAATBCcAAAAAMEFwAgAAAAATBCcgH3jvvfdksVhUq1YtR5dyTzpz5oxGjBihhx56SEWKFJGbm5seeOABvfrqq/rvf//r6PLuuAULFshisejo0aOOLuW2nD9/Xj169FCZMmVksVgUHBycad+WLVvKYrGocuXKMgzD7vHvv/9eFotFFotFCxYsuKV6/Pz81Lt3b+v9U6dOady4cdq3b59d33HjxslisdzSfu6mm5/T7Yw9evSo9RgvW7bMrn/6MTl79qy1rXfv3tYxFotFTk5OqlChgkJCQvTLL7/cUl13Snb/XfXu3VtFihQx3V76a7ZDhw52j6Ufy3feecfatnnzZutx2rFjxy3vF8hPnB1dAIA7LyoqSpL066+/6qefflKjRo0cXNG9Y+fOnerSpYsMw9Arr7yiJk2ayMXFRYcPH9ann36qhg0b6p9//nF0mXdU586dtWPHDpUrV87RpdyWN998UytXrlRUVJSqVKmiEiVKZNm/aNGi+uuvv7Rx40a1adPG5rGoqCh5eHgoKSkp1+o7deqUxo8fLz8/P9WpU8fmseeeey7DL8R5zcqVK+Xh4ZHr2x01apQef/xxFSxY0LRvoUKFtHHjRklSSkqK/vjjD02cOFGBgYE6dOiQypcvn+v15SXfffedNm7cqNatW2d7zLBhw7R169Y7WBVwf+CME3Cf2717t/bv36/OnTtLkiIjIx1cUeb+97//OboEG0lJSerWrZvc3NwUGxursWPHKigoSC1btlS/fv20detWffzxx44u8465fPmyDMNQ6dKl1bhxY7m6ujq6pNvyyy+/qEqVKnr66afVuHFjVatWLcv+FStWVOPGja1/eEiXnJys5cuXKzQ09E6Wa6NChQpq3LjxXdvfrapbt66qVKmSq9vs2LGjjhw5ojlz5mSrf4ECBdS4cWM1btxYzZo1U+/evTV37lwlJyfr22+/zdXa8ppq1aqpcuXKGjZsWIZnSjPSoUMHbdu2TV9//fUdrg649xGcgPtcelCaNGmSAgMDtWzZsgwDysmTJ/XCCy/Ix8dHLi4u8vb2Vvfu3XXmzBlrnwsXLmjIkCGqXLmyXF1dVaZMGXXq1Em//fabpP+f+rF582abbadPE/n3lKb0aSAHDhxQUFCQihYtav2rfkxMjLp166YKFSrIzc1NVatWVb9+/Wym5KT77bff9OSTT8rLy0uurq6qWLGievbsqatXr+ro0aNydnZWRESE3bj0qVbLly/P9Nh9/PHHOn36tKZMmaIKFSpk2Kd79+4297/66is1adJE7u7uKlq0qNq1a2c3DSZ9itHPP/+sJ554Qp6enipRooTCw8OVkpKiw4cPq0OHDipatKj8/Pw0ZcoUm/Hpx/nTTz9VeHi4ypYtq0KFCuk///mPYmNjbfru3r1bPXr0kJ+fnwoVKiQ/Pz89+eSTOnbsmE2/9GlD69atU1hYmEqXLi13d3ddvXo1wylFsbGx6tKli8qUKSNXV1d5e3urc+fOOnHihLXPlStXNHLkSFWqVEkuLi4qX768Xn75ZV24cMFm335+furSpYvWrl2revXqqVChQqpRo4ZdYMnM+fPn9dJLL6l8+fJycXFR5cqVNWrUKF29elXS/7/+1q9fr0OHDlmnJ938Os1IWFiYVqxYYVNz+rSxHj162PXv3bu3/Pz87NrNptpt3rxZDRo0kCT16dPHWuO4ceMyHZ+T4/bLL7+oW7duKl68uNzc3FSnTh0tXLjQrgaLxaIlS5Zo+PDhKleunIoUKaKuXbvqzJkzSk5O1gsvvKBSpUqpVKlS6tOnjy5evGhX07+n2125ckVDhgxRnTp1rK/zJk2aaNWqVZkei5u1bt1a7du315tvvqnk5ORsj/s3T09PScrWGavx48erUaNGKlGihDw8PFSvXj1FRkbaBZGcHP8ff/xRTZs2lZubm7y9vTVy5Ehdv379lp6LJP3www8qVaqUunTpokuXLlnbCxYsqLfeekt79uxRdHR0trbVu3dv1axZUyNHjlRqauot1wTkBwQn4D52+fJlLV26VA0aNFCtWrUUFhZm/Wv5v508eVINGjTQypUrFR4erjVr1mjGjBny9PS0TkNLTk5Ws2bN9NFHH6lPnz76+uuvNWfOHFWrVk3x8fG3VN+1a9f0yCOPqHXr1lq1apXGjx8vSfrzzz/VpEkTzZ49W+vWrdOYMWP0008/qVmzZjZfNvbv368GDRroxx9/1IQJE7RmzRpFRETo6tWrunbtmvz8/PTII49ozpw5dl8IPvjgA3l7e+vRRx/NtL5169bJyclJXbt2zdbzWbJkibp16yYPDw8tXbpUkZGR+ueff9SyZUtt27bNrn9ISIhq166tL774Qs8//7zeffddDR48WMHBwercubNWrlyp1q1ba/jw4VqxYoXd+Ndff11HjhzRvHnzNG/ePJ06dUotW7bUkSNHrH2OHj2q6tWra8aMGfruu+80efJkxcfHq0GDBhkG0bCwMBUsWFCffPKJPv/88wy/aF66dEnt2rXTmTNn9OGHHyomJkYzZsxQxYoVrV9sDcNQcHCw3nnnHT377LP69ttvFR4eroULF6p169bWUJNu//79GjJkiAYPHqxVq1bp4YcfVt++ffX9999necyvXLmiVq1aadGiRQoPD9e3336rZ555RlOmTNFjjz0mSSpXrpx27NihunXrqnLlytqxY4d27NihevXqZblt6UY4cnJy0tKlS61tkZGR6t69e65OSatXr57mz58vSRo9erS1xueeey7Lcdk5bocPH1ZgYKB+/fVXvffee1qxYoVq1qyp3r1724Vy6cbrKiEhQQsWLNC0adO0efNmPfnkk3r88cfl6emppUuXatiwYfrkk0/0+uuvZ1nf1atXdf78eb322mv68ssvtXTpUjVr1kyPPfaYFi1alO3jM3nyZJ09e1ZTp07NVv+UlBSlpKToypUr+uWXXzR06FAVL17ceuY9K0ePHlW/fv302WefacWKFXrsscc0YMAAvfnmm3Z9s3P8Dx48qDZt2ujChQtasGCB5syZo9jYWE2cODHbz//fPvvsM7Vp00YhISFatWqVChcubPN4aGio6tevr9GjR2crnDk5OSkiIkK//vqrXZgGcBMDwH1r0aJFhiRjzpw5hmEYRnJyslGkSBGjefPmNv3CwsKMggULGgcPHsx0WxMmTDAkGTExMZn22bRpkyHJ2LRpk037X3/9ZUgy5s+fb23r1auXIcmIiorK8jmkpaUZ169fN44dO2ZIMlatWmV9rHXr1kaxYsWMhIQE05pWrlxpbTt58qTh7OxsjB8/Pst916hRwyhbtmyWfdKlpqYa3t7exkMPPWSkpqZa25OTk40yZcoYgYGB1raxY8cakoxp06bZbKNOnTqGJGPFihXWtuvXrxulS5c2HnvsMbvnVK9ePSMtLc3afvToUaNgwYLGc889l2mdKSkpxsWLF43ChQsbM2fOtLbPnz/fkGT07NnTbkz6Y3/99ZdhGIaxe/duQ5Lx5ZdfZrqftWvXGpKMKVOm2LRHR0cbkoy5c+da23x9fQ03Nzfj2LFj1rbLly8bJUqUMPr165fpPgzDMObMmWNIMj777DOb9smTJxuSjHXr1lnb/vOf/xgPPvhgltvLqG+vXr2MgIAAwzAM49dffzUkGZs3bzZ27dqV4eva19fXbnvp/8//zdfX1+jVq5f1fkbbMxufnePWo0cPw9XV1YiLi7MZ37FjR8Pd3d24cOGCYRj//7rq2rWrTb9BgwYZkoyBAwfatAcHBxslSpTI8jndLCUlxbh+/brRt29fo27dulmOTX/fmDp1qmEYhvH0008bhQsXNuLj422Oyd9//20dk/6+cvOtXLlyxrZt2zKtKzOpqanG9evXjQkTJhglS5a0+feW3eMfGhpqFCpUyDh9+rTNcahRo4bNv6vM9OrVyyhcuLBhGIYxadIkw8nJyZg8ebJdv3+/ZtevX29IMt5//33DMOyPpWH8///v5cuXG4ZhGM2aNTMqVKhgXL582W6/AG7gjBNwH4uMjFShQoWsU4qKFCmiJ554Qlu3brVZDW7NmjVq1aqV/P39M93WmjVrVK1aNbVt2zZXa3z88cft2hISEtS/f3/5+PjI2dlZBQsWlK+vryTp0KFDkm5cD7VlyxaFhISodOnSmW6/ZcuWql27tj788ENr25w5c2SxWPTCCy/k2vM4fPiwTp06pWeffVYFCvz/W2uRIkX0+OOP68cff7SbItmlSxeb+/7+/rJYLOrYsaO1zdnZWVWrVrWbWidJTz31lM30LV9fXwUGBmrTpk3WtosXL2r48OGqWrWqnJ2d5ezsrCJFiujSpUvWY/lvGf3/uFnVqlVVvHhxDR8+XHPmzNHBgwft+qRfnH/zCmtPPPGEChcurA0bNti016lTRxUrVrTed3NzU7Vq1TJ83jfvp3DhwnZTJtP3e/N+bkVYWJh2796tAwcOKDIyUlWqVFGLFi1ue7u5ITvHLX1xCx8fH5uxvXv31v/+9z+7qaQZvS4l2Z2t8ff31/nz5+2m691s+fLlatq0qYoUKWL99xwZGZnh6y8rEydO1PXr161npjNTqFAh7dq1S7t27dJPP/2kFStWqFq1aurUqVOGq8fdbOPGjWrbtq08PT3l5OSkggULasyYMTp37pwSEhJs+mbn+G/atElt2rSRl5eXtc3JySlH18gZhqF+/fpp7NixWrJkiYYNG5Zl/zZt2igoKEgTJkzI9vTGyZMn68SJE5o5c2a26wLyG4ITcJ/6448/9P3336tz584yDEMXLlzQhQsXrF8w/z0P/++//870Gp6c9Mkpd3d3u+lOaWlpCgoK0ooVKzRs2DBt2LBBO3fu1I8//ijpxvRDSfrnn3+UmpqarZoGDhyoDRs26PDhw7p+/bo+/vhjde/eXWXLls1yXMWKFfX333/bXEOQmXPnzklShivPeXt7Ky0tzW71vZtXdXNxcZG7u7vc3Nzs2q9cuWK33YzqL1u2rLUW6Ua4+uCDD/Tcc8/pu+++086dO7Vr1y6VLl3aeiz/LTsr53l6emrLli2qU6eOXn/9dT344IPy9vbW2LFjrVODzp07J2dnZ7tQa7FY7GqUpJIlS9rtx9XVNcMa/+3cuXMqW7as3fU/ZcqUkbOzs91+bkWLFi30wAMP6KOPPtInn3yisLCwPLM0eHaO27lz5zJ9XaY//m8ZvS6zas/otZluxYoVCgkJUfny5fXpp59qx44d2rVrl8LCwrIclxE/Pz+99NJLmjdvXpY/A1CgQAEFBAQoICBADRs21KOPPqrVq1fL2dlZ4eHhWe5j586dCgoKknTjGscffvhBu3bt0qhRoyTJ7vWY3eOf2b/V7Lp27Zqio6P14IMP2vxhJSvp0xv/vQR5VgIDAxUcHKxJkybd9yuFAreK4ATcp6KiomQYhj7//HMVL17cekv/q/HChQut1/2ULl3a5qL+jGSnT/oX/puvX8noWhpJGX75/OWXX7R//35NnTpVAwYMUMuWLdWgQQO7LyglSpSQk5OTaU3SjfBQsmRJffjhh1q+fLlOnz6tl19+2XRc+/btlZqamq3VptLry+h6r1OnTqlAgQIqXry46XZy4vTp0xm2pdeSmJiob775RsOGDdOIESPUpk0bNWjQQA899JDOnz+f4TazGwgeeughLVu2TOfOndO+ffsUGhqqCRMmaNq0aZJuHI+UlBT9/fffNuMMw9Dp06dVqlSpnDzVTJUsWVJnzpyxu3A/ISFBKSkpubafPn36aPbs2Tp//rx69eqVaT83Nze717+U+b+Bu6FkyZKZvi4l5doxysinn36qSpUqKTo6WsHBwWrcuLECAgIyPEbZMXr0aLm7u5teW3Uzd3d3ValSRfv378+y37Jly1SwYEF98803CgkJUWBgoAICAm6p1nQlS5bM9N9qdrm6umrTpk06fvy42rZtm61gU6dOHT355JOaPn26zSI/WYmIiFBycrLefvvtbNcG5CcEJ+A+lJqaqoULF6pKlSratGmT3W3IkCGKj4/XmjVrJN1Y7nfTpk06fPhwptvs2LGjfv/9d+sUrIykryb2888/27R/9dVX2a49/Yv7zUtff/TRRzb301eRW758uemXUjc3N73wwgtauHChpk+frjp16qhp06amtfTt21dly5bVsGHDdPLkyQz7pC/aUL16dZUvX15Lliyx+RJ/6dIlffHFF9aV9nLT0qVLbfZ17Ngxbd++XS1btpR041gahmF3LOfNm5drq2dZLBbVrl1b7777rooVK6a9e/dKknWFxE8//dSm/xdffKFLly7Z/S7SrWrTpo0uXryoL7/80qY9feGB3NpPr1691LVrVw0dOjTL3wHy8/NTQkKCzRfVa9eu6bvvvjPdR/r/J7OzbDnVpk0bbdy40RqU0i1atEju7u53dJlzi8UiFxcXm0B++vTpHK2q928lS5bU8OHD9fnnn2vnzp3ZHnfx4kX98ccfKlOmjGm9zs7OcnJysrZdvnxZn3zyyS3VK0mtWrXShg0bbF4Tqamp2V71Ll3dunW1ZcsWnThxQi1btrSbNpiRiRMn6tq1a6bTG9PVqFFDYWFhev/99xUXF5ej+oD8gB/ABe5Da9as0alTpzR58mTrl+h/q1Wrlj744ANFRkaqS5cu1hXpWrRooddff10PPfSQLly4oLVr1yo8PFw1atTQoEGDFB0drW7dumnEiBFq2LChLl++rC1btqhLly5q1aqVypYtq7Zt2yoiIkLFixeXr6+vNmzYkOGKcJmpUaOGqlSpohEjRsgwDJUoUUJff/21YmJi7PpOnz5dzZo1U6NGjTRixAhVrVpVZ86c0VdffaWPPvpIRYsWtfZ96aWXNGXKFO3Zs0fz5s3LVi2enp5atWqVunTporp169r8AO5///tfffrpp9q/f78ee+wxFShQQFOmTNHTTz+tLl26qF+/frp69aqmTp2qCxcuaNKkSdk+BtmVkJCgRx99VM8//7wSExM1duxYubm5aeTIkZIkDw8PtWjRQlOnTlWpUqXk5+enLVu2KDIyUsWKFbvl/X7zzTeaNWuWgoODVblyZRmGYV2yu127dpKkdu3aqX379ho+fLiSkpLUtGlT/fzzzxo7dqzq1q2rZ599NjcOgXr27KkPP/xQvXr10tGjR/XQQw9p27Ztevvtt9WpU6dcuybP29vbLpxlJDQ0VGPGjFGPHj00dOhQXblyRe+99162gmqVKlVUqFAhLV68WP7+/ipSpIi8vb2tU+pu1dixY/XNN9+oVatWGjNmjEqUKKHFixfr22+/1ZQpU6xLdd8JXbp00YoVK/TSSy+pe/fuOn78uN58802VK1cuy+l2WRk0aJA+/PBD6x9+bpaWlmad2puWlqaTJ0/qvffe0z///GNd3j0znTt31vTp0/XUU0/phRde0Llz5/TOO+/c1m+YjR49Wl999ZVat26tMWPGyN3dXR9++GG2pgDfzN/fX1u3blXbtm3VokULrV+/PsvpypUqVdKLL76Yo+uWxo0bp8WLF2vTpk12K/YB+R1nnID7UGRkpFxcXNSnT58MHy9VqpQeffRRffPNNzpz5ozKly+vnTt3qkuXLpo0aZI6dOigAQMGKDEx0XpdQ9GiRbVt2zb17dtXc+fOVefOnfX888/r8OHDNl/sPvnkE7Vp00bDhw/XE088oZMnT9os5WymYMGC+vrrr1WtWjX169dPTz75pBISErR+/Xq7vrVr19bOnTtVv359jRw5Uh06dNDw4cPl6upqvf4iXfny5dWsWTOVKFFCTz31VLbradiwoQ4cOKCwsDB99tlnCg4OVvv27TV58mTVqFFDW7dutfZ96qmn9OWXX+rcuXMKDQ1Vnz595OHhoU2bNqlZs2bZ3md2vf322/L19VWfPn0UFhamcuXKadOmTTY/QLpkyRK1atVKw4YN02OPPabdu3crJibmtr4sP/DAAypWrJimTJmiRx55RE888YT27t2rBQsW6Pnnn5d04y/3X375pcLDwzV//nx16tTJujT5xo0bc+3HdN3c3LRp0yY9/fTTmjp1qjp27KgFCxbotddey1Fgzy2VKlXSqlWrrNcTDh06VE888YR69uxpOtbd3V1RUVE6d+6cgoKC1KBBA82dO/e2a6pevbq2b9+u6tWr6+WXX1ZwcLB++eUXzZ8/X0OHDr3t7WelT58+mjRpktasWaNOnTpp8uTJGjFiRI7+Dd7M3d09ywB0+fJlNWnSRE2aNFHTpk31yiuvyMnJSStXrtTAgQOz3Hbr1q0VFRWlAwcOqGvXrho1apS6d++uESNG3HK9tWrV0vr16+Xh4aFevXrphRde0MMPP6w33njjlrZXuXJlbd26VRaLRc2bN7f5+YGMjB49OkdL53t7e2vQoEG3VBtwv7MYN08MB4D7UEJCgnx9fTVgwIAMf7vmXrJ582a1atVKy5cvt1tNDgAA3BlM1QNwXztx4oSOHDmiqVOnqkCBAnr11VcdXRIAALgHMVUPwH1t3rx5atmypX799VctXrw4ywv7AQAAMsNUPQAAAAAw4dAzTt9//726du0qb29v64XEZrZs2aL69evLzc1NlStX1pw5c+58oQAAAADyNYcGp0uXLql27dr64IMPstX/r7/+UqdOndS8eXPFxsbq9ddf18CBA/XFF1/c4UoBAAAA5Gd5ZqqexWLRypUrFRwcnGmf4cOH66uvvtKhQ4esbf3799f+/fu1Y8eOu1AlAAAAgPzonlpVb8eOHQoKCrJpa9++vSIjI3X9+nUVLFjQbszVq1d19epV6/20tDSdP39eJUuWtPklcwAAAAD5i2EYSk5Olre3twoUyHoy3j0VnE6fPi0vLy+bNi8vL6WkpOjs2bMqV66c3ZiIiAiNHz/+bpUIAAAA4B5z/PhxVahQIcs+91RwkmR3lih9pmFmZ49Gjhyp8PBw6/3ExERVrFhRx48fz9EvaQMAAAC4vyQlJcnHx0dFixY17XtPBaeyZcvq9OnTNm0JCQlydnZWyZIlMxzj6uoqV1dXu3YPDw+CEwAAAIBsXcJzT/0AbpMmTRQTE2PTtm7dOgUEBGR4fRMAAAAA5AaHBqeLFy9q37592rdvn6Qby43v27dPcXFxkm5Ms+vZs6e1f//+/XXs2DGFh4fr0KFDioqKUmRkpF577TVHlA8AAAAgn3DoVL3du3erVatW1vvp1yL16tVLCxYsUHx8vDVESVKlSpW0evVqDR48WB9++KG8vb313nvv6fHHH7/rtQMAAADIP/LM7zjdLUlJSfL09FRiYiLXOAEAAAD5WE6ywT11jRMAAAAAOALBCQAAAABMEJwAAAAAwATBCQAAAABMEJwAAAAAwATBCQAAAABMEJwAAAAAwATBCQAAAABMEJwAAAAAwATBCQAAAABMEJwAAAAAwATBCQAAAABMEJwAAAAAwATBCQAAAABMEJwAAAAAwATBCQAAAABMEJwAAAAAwATBCQAAAABMEJwAAAAAwATBCQAAAABMEJwAAAAAwATBCQAAAABMEJwAAAAAwATBCQAAAABMEJwAAAAAwATBCQAAAABMEJwAAAAAwATBCQAAAABMEJwAAAAAwATBCQAAAABMEJwAAAAAwATBCQAAAABMEJwAAAAAwATBCQAAAABMEJwAAAAAwATBCQAAAABMEJwAAAAAwATBCQAAAABMEJwAAAAAwATBCQAAAABMEJwAAAAAwATBCQAAAABMEJwAAAAAwATBCQAAAABMEJwAAAAAwATBCQAAAABMEJwAAAAAwATBCQAAAABMEJwAAAAAwATBCQAAAABMEJwAAAAAwATBCQAAAABMEJwAAAAAwATBCQAAAABMEJwAAAAAwATBCQAAAABMEJwAAAAAwATBCQAAAABMEJwAAAAAwATBCQAAAABMEJwAAAAAwATBCQAAAABMEJwAAAAAwATBCQAAAABMEJwAAAAAwATBCQAAAABMEJwAAAAAwATBCQAAAABMEJwAAAAAwATBCQAAAABMEJwAAAAAwATBCQAAAABMEJwAAAAAwATBCQAAAABMEJwAAAAAwATBCQAAAABMEJwAAAAAwATBCQAAAABMEJwAAAAAwATBCQAAAABMEJwAAAAAwITDg9OsWbNUqVIlubm5qX79+tq6dWuW/RcvXqzatWvL3d1d5cqVU58+fXTu3Lm7VC0AAACA/MihwSk6OlqDBg3SqFGjFBsbq+bNm6tjx46Ki4vLsP+2bdvUs2dP9e3bV7/++quWL1+uXbt26bnnnrvLlQMAAADITxwanKZPn66+ffvqueeek7+/v2bMmCEfHx/Nnj07w/4//vij/Pz8NHDgQFWqVEnNmjVTv379tHv37rtcOQAAAID8xGHB6dq1a9qzZ4+CgoJs2oOCgrR9+/YMxwQGBurEiRNavXq1DMPQmTNn9Pnnn6tz586Z7ufq1atKSkqyuQEAAABATjgsOJ09e1apqany8vKyaffy8tLp06czHBMYGKjFixcrNDRULi4uKlu2rIoVK6b3338/0/1ERETI09PTevPx8cnV5wEAAADg/ufwxSEsFovNfcMw7NrSHTx4UAMHDtSYMWO0Z88erV27Vn/99Zf69++f6fZHjhypxMRE6+348eO5Wj8AAACA+5+zo3ZcqlQpOTk52Z1dSkhIsDsLlS4iIkJNmzbV0KFDJUkPP/ywChcurObNm2vixIkqV66c3RhXV1e5urrm/hMAAAAAkG84LDi5uLiofv36iomJ0aOPPmptj4mJUbdu3TIc87///U/OzrYlOzk5SbpxpupelckJNgC4L9zDb88AAFg5dKpeeHi45s2bp6ioKB06dEiDBw9WXFycderdyJEj1bNnT2v/rl27asWKFZo9e7aOHDmiH374QQMHDlTDhg3l7e3tqKcBAAAA4D7nsDNOkhQaGqpz585pwoQJio+PV61atbR69Wr5+vpKkuLj421+06l3795KTk7WBx98oCFDhqhYsWJq3bq1Jk+e7KinAAAAACAfsBj38hy3W5CUlCRPT08lJibKw8PD0eVIYqoegPtb/vqUAQDcS3KSDRy+qh4AAAAA5HUEJwAAAAAwQXACAAAAABMEJwAAAAAwQXACAAAAABMEJwAAAAAwQXACAAAAABMEJwAAAAAwQXACAAAAABMEJwAAAAAwQXACAAAAABMEJwAAAAAwQXACAAAAABMEJwAAAAAwQXACAAAAABMEJwAAAAAwQXACAAAAABMEJwAAAAAwQXACAAAAABMEJwAAAAAwQXACAAAAABMEJwAAAAAwQXACAAAAABMEJwAAAAAwQXACAAAAABMEJwAAAAAwQXACAAAAABMEJwAAAAAwQXACAAAAABMEJwAAAAAwQXACAAAAABMEJwAAAAAwQXACAAAAABMEJwAAAAAwQXACAAAAABMEJwAAAAAwQXACAAAAABMEJwAAAAAwQXACAAAAABMEJwAAAAAwQXACAAAAABMEJwAAAAAwQXACAAAAABMEJwAAAAAwQXACAAAAABMEJwAAAAAwQXACAAAAABMEJwAAAAAwQXACAAAAABMEJwAAAAAwQXACAAAAABMEJwAAAAAwQXACAAAAABMEJwAAAAAwQXACAAAAABMEJwAAAAAwQXACAAAAABMEJwAAAAAwQXACAAAAABMEJwAAAAAwQXACAAAAABMEJwAAAAAwQXACAAAAABMEJwAAAAAwQXACAAAAABMEJwAAAAAwQXACAAAAABMEJwAAAAAwQXACAAAAABMEJwAAAAAwQXACAAAAABMEJwAAAAAwQXACAAAAABMEJwAAAAAwQXACAAAAABMEJwAAAAAwQXACAAAAABMEJwAAAAAwQXACAAAAABMEJwAAAAAwQXACAAAAABMEJwAAAAAw4fDgNGvWLFWqVElubm6qX7++tm7dmmX/q1evatSoUfL19ZWrq6uqVKmiqKiou1QtAAAAgPzI2ZE7j46O1qBBgzRr1iw1bdpUH330kTp27KiDBw+qYsWKGY4JCQnRmTNnFBkZqapVqyohIUEpKSl3uXIAAAAA+YnFMAzDUTtv1KiR6tWrp9mzZ1vb/P39FRwcrIiICLv+a9euVY8ePXTkyBGVKFHilvaZlJQkT09PJSYmysPD45Zrz00Wi6MrAIA7x3GfMgAAZC0n2cBhU/WuXbumPXv2KCgoyKY9KChI27dvz3DMV199pYCAAE2ZMkXly5dXtWrV9Nprr+ny5cuZ7ufq1atKSkqyuQEAAABATjhsqt7Zs2eVmpoqLy8vm3YvLy+dPn06wzFHjhzRtm3b5ObmppUrV+rs2bN66aWXdP78+Uyvc4qIiND48eNzvX4AAAAA+YfDF4ew3DRPzTAMu7Z0aWlpslgsWrx4sRo2bKhOnTpp+vTpWrBgQaZnnUaOHKnExETr7fjx47n+HAAAAADc3xx2xqlUqVJycnKyO7uUkJBgdxYqXbly5VS+fHl5enpa2/z9/WUYhk6cOKEHHnjAboyrq6tcXV1zt3gAAAAA+YrDzji5uLiofv36iomJsWmPiYlRYGBghmOaNm2qU6dO6eLFi9a233//XQUKFFCFChXuaL0AAAAA8i+HTtULDw/XvHnzFBUVpUOHDmnw4MGKi4tT//79Jd2YZtezZ09r/6eeekolS5ZUnz59dPDgQX3//fcaOnSowsLCVKhQIUc9DQAAAAD3OYf+jlNoaKjOnTunCRMmKD4+XrVq1dLq1avl6+srSYqPj1dcXJy1f5EiRRQTE6MBAwYoICBAJUuWVEhIiCZOnOiopwAAAAAgH3Do7zg5Ar/jBAB3V/76lAEA3Etykg0cesYJAABkzDKev6oBuH8ZY++9v6o5fDlyAAAAAMjrCE4AAAAAYILgBAAAAAAmCE4AAAAAYILgBAAAAAAmCE4AAAAAYILgBAAAAAAmCE4AAAAAYILgBAAAAAAmchyc/Pz8NGHCBMXFxd2JegAAAAAgz8lxcBoyZIhWrVqlypUrq127dlq2bJmuXr16J2oDAAAAgDwhx8FpwIAB2rNnj/bs2aOaNWtq4MCBKleunF555RXt3bv3TtQIAAAAAA51y9c41a5dWzNnztTJkyc1duxYzZs3Tw0aNFDt2rUVFRUlwzBys04AAAAAcBjnWx14/fp1rVy5UvPnz1dMTIwaN26svn376tSpUxo1apTWr1+vJUuW5GatAAAAAOAQOQ5Oe/fu1fz587V06VI5OTnp2Wef1bvvvqsaNWpY+wQFBalFixa5WigAAAAAOEqOg1ODBg3Url07zZ49W8HBwSpYsKBdn5o1a6pHjx65UiAAAAAAOFqOg9ORI0fk6+ubZZ/ChQtr/vz5t1wUAAAAAOQlOV4cIiEhQT/99JNd+08//aTdu3fnSlEAAAAAkJfkODi9/PLLOn78uF37yZMn9fLLL+dKUQAAAACQl+Q4OB08eFD16tWza69bt64OHjyYK0UBAAAAQF6S4+Dk6uqqM2fO2LXHx8fL2fmWVzcHAAAAgDwrx8GpXbt2GjlypBITE61tFy5c0Ouvv6527drlanEAAAAAkBfk+BTRtGnT1KJFC/n6+qpu3bqSpH379snLy0uffPJJrhcIAAAAAI6W4+BUvnx5/fzzz1q8eLH279+vQoUKqU+fPnryyScz/E0nAAAAALjX3dJFSYULF9YLL7yQ27UAAAAAQJ50y6s5HDx4UHFxcbp27ZpN+yOPPHLbRQEAAABAXpLj4HTkyBE9+uijOnDggCwWiwzDkCRZLBZJUmpqau5WCAAAAAAOluNV9V599VVVqlRJZ86ckbu7u3799Vd9//33CggI0ObNm+9AiQAAAADgWDk+47Rjxw5t3LhRpUuXVoECBVSgQAE1a9ZMERERGjhwoGJjY+9EnQAAAADgMDk+45SamqoiRYpIkkqVKqVTp05Jknx9fXX48OHcrQ4AAAAA8oAcn3GqVauWfv75Z1WuXFmNGjXSlClT5OLiorlz56py5cp3okYAAAAAcKgcB6fRo0fr0qVLkqSJEyeqS5cuat68uUqWLKno6OhcLxAAAAAAHC3Hwal9+/bW/65cubIOHjyo8+fPq3jx4taV9QAAAADgfpKja5xSUlLk7OysX375xaa9RIkShCYAAAAA960cBSdnZ2f5+vryW00AAAAA8pUcr6o3evRojRw5UufPn78T9QAAAABAnpPja5zee+89/fHHH/L29pavr68KFy5s8/jevXtzrTgAAAAAyAtyHJyCg4PvQBkAAAAAkHflODiNHTv2TtQBAAAAAHlWjq9xAgAAAID8JsdnnAoUKJDl0uOsuAcAAADgfpPj4LRy5Uqb+9evX1dsbKwWLlyo8ePH51phAAAAAJBX5Dg4devWza6te/fuevDBBxUdHa2+ffvmSmEAAAAAkFfk2jVOjRo10vr163NrcwAAAACQZ+RKcLp8+bLef/99VahQITc2BwAAAAB5So6n6hUvXtxmcQjDMJScnCx3d3d9+umnuVocAAAAAOQFOQ5O7777rk1wKlCggEqXLq1GjRqpePHiuVocAAAAAOQFOQ5OvXv3vgNlAAAAAEDeleNrnObPn6/ly5fbtS9fvlwLFy7MlaIAAAAAIC/JcXCaNGmSSpUqZddepkwZvf3227lSFAAAAADkJTkOTseOHVOlSpXs2n19fRUXF5crRQEAAABAXpLj4FSmTBn9/PPPdu379+9XyZIlc6UoAAAAAMhLchycevTooYEDB2rTpk1KTU1VamqqNm7cqFdffVU9evS4EzUCAAAAgEPleFW9iRMn6tixY2rTpo2cnW8MT0tLU8+ePbnGCQAAAMB9KcfBycXFRdHR0Zo4caL27dunQoUK6aGHHpKvr++dqA8AAAAAHC7HwSndAw88oAceeCA3awEAAACAPCnH1zh1795dkyZNsmufOnWqnnjiiVwpCgAAAADykhwHpy1btqhz58527R06dND333+fK0UBAAAAQF6S4+B08eJFubi42LUXLFhQSUlJuVIUAAAAAOQlOQ5OtWrVUnR0tF37smXLVLNmzVwpCgAAAADykhwvDvHGG2/o8ccf159//qnWrVtLkjZs2KAlS5bo888/z/UCAQAAAMDRchycHnnkEX355Zd6++239fnnn6tQoUKqXbu2Nm7cKA8PjztRIwAAAAA41C0tR965c2frAhEXLlzQ4sWLNWjQIO3fv1+pqam5WiAAAAAAOFqOr3FKt3HjRj3zzDPy9vbWBx98oE6dOmn37t25WRsAAAAA5Ak5OuN04sQJLViwQFFRUbp06ZJCQkJ0/fp1ffHFFywMAQAAAOC+le0zTp06dVLNmjV18OBBvf/++zp16pTef//9O1kbAAAAAOQJ2T7jtG7dOg0cOFAvvviiHnjggTtZEwAAAADkKdk+47R161YlJycrICBAjRo10gcffKC///77TtYGAAAAAHlCtoNTkyZN9PHHHys+Pl79+vXTsmXLVL58eaWlpSkmJkbJycl3sk4AAAAAcJgcr6rn7u6usLAwbdu2TQcOHNCQIUM0adIklSlTRo888sidqBEAAAAAHOqWlyOXpOrVq2vKlCk6ceKEli5dmls1AQAAAECeclvBKZ2Tk5OCg4P11Vdf5cbmAAAAACBPyZXgBAAAAAD3M4ITAAAAAJggOAEAAACACYITAAAAAJggOAEAAACACYITAAAAAJggOAEAAACACYITAAAAAJhweHCaNWuWKlWqJDc3N9WvX19bt27N1rgffvhBzs7OqlOnzp0tEAAAAEC+59DgFB0drUGDBmnUqFGKjY1V8+bN1bFjR8XFxWU5LjExUT179lSbNm3uUqUAAAAA8jOHBqfp06erb9++eu655+Tv768ZM2bIx8dHs2fPznJcv3799NRTT6lJkyZ3qVIAAAAA+ZnDgtO1a9e0Z88eBQUF2bQHBQVp+/btmY6bP3++/vzzT40dOzZb+7l69aqSkpJsbgAAAACQEw4LTmfPnlVqaqq8vLxs2r28vHT69OkMx/z3v//ViBEjtHjxYjk7O2drPxEREfL09LTefHx8brt2AAAAAPmLwxeHsFgsNvcNw7Brk6TU1FQ99dRTGj9+vKpVq5bt7Y8cOVKJiYnW2/Hjx2+7ZgAAAAD5S/ZO29wBpUqVkpOTk93ZpYSEBLuzUJKUnJys3bt3KzY2Vq+88ookKS0tTYZhyNnZWevWrVPr1q3txrm6usrV1fXOPAkAAAAA+YLDzji5uLiofv36iomJsWmPiYlRYGCgXX8PDw8dOHBA+/bts9769++v6tWra9++fWrUqNHdKh0AAABAPuOwM06SFB4ermeffVYBAQFq0qSJ5s6dq7i4OPXv31/SjWl2J0+e1KJFi1SgQAHVqlXLZnyZMmXk5uZm1w4AAAAAucmhwSk0NFTnzp3ThAkTFB8fr1q1amn16tXy9fWVJMXHx5v+phMAAAAA3GkWwzAMRxdxNyUlJcnT01OJiYny8PBwdDmSpAzWwgCA+0b++pTJPZbxfDgAuH8ZY/PGh0NOsoHDV9UDAAAAgLyO4AQAAAAAJghOAAAAAGCC4AQAAAAAJghOAAAAAGCC4AQAAAAAJghOAAAAAGCC4AQAAAAAJghOAAAAAGCC4AQAAAAAJghOAAAAAGCC4AQAAAAAJghOAAAAAGCC4AQAAAAAJghOAAAAAGCC4AQAAAAAJghOAAAAAGCC4AQAAAAAJghOAAAAAGCC4AQAAAAAJghOAAAAAGCC4AQAAAAAJghOAAAAAGCC4AQAAAAAJghOAAAAAGCC4AQAAAAAJghOAAAAAGCC4AQAAAAAJghOAAAAAGCC4AQAAAAAJghOAAAAAGCC4AQAAAAAJghOAAAAAGCC4AQAAAAAJghOAAAAAGCC4AQAAAAAJghOAAAAAGCC4AQAAAAAJghOAAAAAGCC4AQAAAAAJghOAAAAAGCC4AQAAAAAJghOAAAAAGCC4AQAAAAAJghOAAAAAGCC4AQAAAAAJghOAAAAAGCC4AQAAAAAJghOAAAAAGCC4AQAAAAAJghOAAAAAGCC4AQAAAAAJghOAAAAAGCC4AQAAAAAJghOAAAAAGCC4AQAAAAAJghOAAAAAGCC4AQAAAAAJghOAAAAAGCC4AQAAAAAJghOAAAAAGCC4AQAAAAAJghOAAAAAGCC4AQAAAAAJghOAAAAAGCC4AQAAAAAJghOAAAAAGCC4AQAAAAAJghOAAAAAGCC4AQAAAAAJghOAAAAAGCC4AQAAAAAJghOAAAAAGCC4AQAAAAAJghOAAAAAGCC4AQAAAAAJghOAAAAAGCC4AQAAAAAJghOAAAAAGCC4AQAAAAAJghOAAAAAGDC4cFp1qxZqlSpktzc3FS/fn1t3bo1074rVqxQu3btVLp0aXl4eKhJkyb67rvv7mK1AAAAAPIjhwan6OhoDRo0SKNGjVJsbKyaN2+ujh07Ki4uLsP+33//vdq1a6fVq1drz549atWqlbp27arY2Ni7XDkAAACA/MRiGIbhqJ03atRI9erV0+zZs61t/v7+Cg4OVkRERLa28eCDDyo0NFRjxozJVv+kpCR5enoqMTFRHh4et1R3brNYHF0BANw5jvuUubdZxvPhAOD+ZYzNGx8OOckGDjvjdO3aNe3Zs0dBQUE27UFBQdq+fXu2tpGWlqbk5GSVKFEi0z5Xr15VUlKSzQ0AAAAAcsJhwens2bNKTU2Vl5eXTbuXl5dOnz6drW1MmzZNly5dUkhISKZ9IiIi5Onpab35+PjcVt0AAAAA8h+HLw5huWmemmEYdm0ZWbp0qcaNG6fo6GiVKVMm034jR45UYmKi9Xb8+PHbrhkAAABA/uLsqB2XKlVKTk5OdmeXEhIS7M5C3Sw6Olp9+/bV8uXL1bZt2yz7urq6ytXV9bbrBQAAAJB/OeyMk4uLi+rXr6+YmBib9piYGAUGBmY6bunSperdu7eWLFmizp073+kyAQAAAMBxZ5wkKTw8XM8++6wCAgLUpEkTzZ07V3Fxcerfv7+kG9PsTp48qUWLFkm6EZp69uypmTNnqnHjxtazVYUKFZKnp6fDngcAAACA+5tDg1NoaKjOnTunCRMmKD4+XrVq1dLq1avl6+srSYqPj7f5TaePPvpIKSkpevnll/Xyyy9b23v16qUFCxbc7fIBAAAA5BMO/R0nR+B3nADg7spfnzK5h99xAnA/43ecAAAAAOA+RHACAAAAABMEJwAAAAAwQXACAAAAABMEJwAAAAAwQXACAAAAABMEJwAAAAAwQXACAAAAABMEJwAAAAAwQXACAAAAABMEJwAAAAAwQXACAAAAABMEJwAAAAAwQXACAAAAABMEJwAAAAAwQXACAAAAABMEJwAAAAAwQXACAAAAABMEJwAAAAAwQXACAAAAABMEJwAAAAAwQXACAAAAABMEJwAAAAAwQXACAAAAABMEJwAAAAAwQXACAAAAABMEJwAAAAAwQXACAAAAABMEJwAAAAAwQXACAAAAABMEJwAAAAAwQXACAAAAABMEJwAAAAAwQXACAAAAABMEJwAAAAAwQXACAAAAABMEJwAAAAAwQXACAAAAABMEJwAAAAAwQXACAAAAABMEJwAAAAAwQXACAAAAABMEJwAAAAAwQXACAAAAABMEJwAAAAAwQXACAAAAABMEJwAAAAAwQXACAAAAABMEJwAAAAAwQXACAAAAABMEJwAAAAAwQXACAAAAABMEJwAAAAAwQXACAAAAABMEJwAAAAAwQXACAAAAABMEJwAAAAAwQXACAAAAABMEJwAAAAAwQXACAAAAABMEJwAAAAAwQXACAAAAABMEJwAAAAAwQXACAAAAABMEJwAAAAAwQXACAAAAABMEJwAAAAAwQXACAAAAABMEJwAAAAAwQXACAAAAABMEJwAAAAAwQXACAAAAABMEJwAAAAAwQXACAAAAABMEJwAAAAAwQXACAAAAABMEJwAAAAAwQXACAAAAABMEJwAAAAAwQXACAAAAABMEJwAAAAAwQXACAAAAABMOD06zZs1SpUqV5Obmpvr162vr1q1Z9t+yZYvq168vNzc3Va5cWXPmzLlLlQIAAADIrxwanKKjozVo0CCNGjVKsbGxat68uTp27Ki4uLgM+//111/q1KmTmjdvrtjYWL3++usaOHCgvvjii7tcOQAAAID8xGIYhuGonTdq1Ej16tXT7NmzrW3+/v4KDg5WRESEXf/hw4frq6++0qFDh6xt/fv31/79+7Vjx45s7TMpKUmenp5KTEyUh4fH7T+JXGCxOLoCALhzHPcpc2+zjOfDAcD9yxibNz4ccpINnO9STXauXbumPXv2aMSIETbtQUFB2r59e4ZjduzYoaCgIJu29u3bKzIyUtevX1fBggXtxly9elVXr1613k9MTJR04yABAO483m5v0RVHFwAAd05e+S6eXkd2ziU5LDidPXtWqamp8vLysmn38vLS6dOnMxxz+vTpDPunpKTo7NmzKleunN2YiIgIjR8/3q7dx8fnNqoHAGSXp6ejKwAA5DWek/LWh0NycrI8TT6wHBac0llumqdmGIZdm1n/jNrTjRw5UuHh4db7aWlpOn/+vEqWLJnlfoD7UVJSknx8fHT8+PE8M1UVAOB4fD4gvzIMQ8nJyfL29jbt67DgVKpUKTk5OdmdXUpISLA7q5SubNmyGfZ3dnZWyZIlMxzj6uoqV1dXm7ZixYrdeuHAfcDDw4MPRgCAHT4fkB+ZnWlK57BV9VxcXFS/fn3FxMTYtMfExCgwMDDDMU2aNLHrv27dOgUEBGR4fRMAAAAA5AaHLkceHh6uefPmKSoqSocOHdLgwYMVFxen/v37S7oxza5nz57W/v3799exY8cUHh6uQ4cOKSoqSpGRkXrttdcc9RQAAAAA5AMOvcYpNDRU586d04QJExQfH69atWpp9erV8vX1lSTFx8fb/KZTpUqVtHr1ag0ePFgffvihvL299d577+nxxx931FMA7imurq4aO3as3fRVAED+xucDYM6hv+MEAAAAAPcCh07VAwAAAIB7AcEJAAAAAEwQnAAAAADABMEJcCCLxaIvv/wyyz69e/dWcHDwXanHTHbq/bdx48apTp06d6weAIC9li1batCgQY4uA7jvEJyAHOjdu7csFot1yfx/e+mll2SxWNS7d+9b2vbRo0dlsVi0b98+m/aZM2dqwYIFt7TN3BYfH6+OHTve8vhx48ZlePz27dsni8Wio0ePSvr/Y5F+c3FxUdWqVTVx4kSxng0A3Lqcvg+XKVNGycnJNn3r1KmjcePG3aWKgbyD4ATkkI+Pj5YtW6bLly9b265cuaKlS5eqYsWKub4/T09PFStWLNe3eyvKli1720vVurm5KTIyUr///rtp3/Xr1ys+Pl7//e9/NX78eL311luKioq6rf0DQH6Xk/fh5ORkvfPOO3ehKiDvIzgBOVSvXj1VrFhRK1assLatWLFCPj4+qlu3rrXNz89PM2bMsBmb1V/pKlWqJEmqW7euLBaLWrZsKcl+ql7Lli01cOBADRs2TCVKlFDZsmXtthkXF6du3bqpSJEi8vDwUEhIiM6cOWN9PH0KXVRUlCpWrKgiRYroxRdfVGpqqqZMmaKyZcuqTJkyeuutt2y2e/NUveHDh6tatWpyd3dX5cqV9cYbb+j69etZHr/q1aurVatWGj16dJb9JKlkyZIqW7asfH199fTTTyswMFB79+41HQcA+H9r166Vp6enFi1aJCln78MDBgzQ9OnTlZCQcKfLBPI8ghNwC/r06aP58+db70dFRSksLOy2trlz505J/3+W5d/B7GYLFy5U4cKF9dNPP2nKlCmaMGGCYmJiJEmGYSg4OFjnz5/Xli1bFBMToz///FOhoaE22/jzzz+1Zs0arV27VkuXLlVUVJQ6d+6sEydOaMuWLZo8ebJGjx6tH3/8MdM6ihYtqgULFujgwYOaOXOmPv74Y7377rumz3XSpEn64osvtGvXruwcGknS7t27tXfvXjVq1CjbYwAgv1u2bJlCQkK0aNEi9ezZ09qe3ffhJ598UlWrVtWECRPudKlAnkdwAm7Bs88+q23btuno0aM6duyYfvjhBz3zzDO3tc3SpUtL+v+zLCVKlMi078MPP6yxY8fqgQceUM+ePRUQEKANGzZIuhG8fv75Zy1ZskT169dXo0aN9Mknn2jLli02H5BpaWmKiopSzZo11bVrV7Vq1UqHDx/WjBkzVL16dfXp00fVq1fX5s2bM61j9OjRCgwMlJ+fn7p27aohQ4bos88+M32u9erVU0hIiEaMGJFlv8DAQBUpUkQuLi5q0KCBQkJCbD74AQCZmzVrlvr3769Vq1apW7duNo9l933YYrFo0qRJmjt3rv788887WS6Q5zk7ugDgXlSqVCl17txZCxculGEY6ty5s0qVKnXX9v/www/b3C9Xrpx1GsWhQ4fk4+MjHx8f6+M1a9ZUsWLFdOjQITVo0EDSjamERYsWtfbx8vKSk5OTChQoYNOW1fSMzz//XDNmzNAff/yhixcvKiUlRR4eHtl6DhMnTpS/v7/WrVunMmXKZNgnOjpa/v7+un79ug4cOKCBAweqePHimjRpUrb2AQD51RdffKEzZ85o27ZtatiwYYZ9svM+LEnt27dXs2bN9MYbb2jJkiV3qmQgz+OME3CLwsLCtGDBAi1cuDDDaXoFChSwWwHO7Pqf7CpYsKDNfYvForS0NEk3pupZLBa7MTe3Z7SNrLZ7sx9//FE9evRQx44d9c033yg2NlajRo3StWvXsvUcqlSpoueff14jRozIdKU8Hx8fVa1aVf7+/goJCdGgQYM0bdo0XblyJVv7AID8qk6dOipdurTmz5+f6Xtsdt6H002aNEnR0dGKjY29E+UC9wTOOAG3qEOHDtaQ0L59e7vHS5curfj4eOv9pKQk/fXXX5luz8XFRZKUmpp6W3XVrFlTcXFxOn78uPWs08GDB5WYmCh/f//b2va//fDDD/L19dWoUaOsbceOHcvRNsaMGaMqVapo2bJl2erv5OSklJQUXbt2TW5ubjnaFwDkJ1WqVNG0adPUsmVLOTk56YMPPsiwX3bfhxs2bKjHHnvMdGofcD8jOAG3yMnJSYcOHbL+981at26tBQsWqGvXripevLjeeOONDPulK1OmjAoVKqS1a9eqQoUKcnNzk6enZ47ratu2rR5++GE9/fTTmjFjhlJSUvTSSy/pP//5jwICAnK8vcxUrVpVcXFxWrZsmRo0aKBvv/1WK1euzNE2vLy8FB4erqlTp2b4+Llz53T69GmlpKTowIEDmjlzplq1apXt6YAAkJ9Vq1ZNmzZtUsuWLeXs7Gy30qtk/j78b2+99ZYefPBBOTvz9RH5E1P1gNvg4eGR6Zf4kSNHqkWLFurSpYs6deqk4OBgValSJdNtOTs767333tNHH30kb29vuwt5syt9yfDixYurRYsWatu2rSpXrqzo6Ohb2l5munXrpsGDB+uVV15RnTp1tH37dr3xxhs53s7QoUNVpEiRDB9r27atypUrJz8/P73wwgvq1KlTrj8PALifVa9eXRs3btTSpUs1ZMiQDPtk9T78b9WqVVNYWBjTpZFvWQyzSa0AAAAAkM9xxgkAAAAATBCcAAAAAMAEwQkAAAAATBCcAAAAAMAEwQkAAAAATBCcAAAAAMAEwQkAAAAATBCcAAAAAMAEwQkAkCdt3rxZFotFFy5cyDP78vPz04wZM+54PQCAvIfgBABwqO3bt8vJyUkdOnRwWA2BgYGKj4+Xp6enJGnBggUqVqyYw+oBAOQ9BCcAgENFRUVpwIAB2rZtm+Li4u76/q9fvy4XFxeVLVtWFovlru8fAHBvIDgBABzm0qVL+uyzz/Tiiy+qS5cuWrBgQZb9P/74Y/n4+Mjd3V2PPvqopk+fbndmaPbs2apSpYpcXFxUvXp1ffLJJzaPWywWzZkzR926dVPhwoU1ceJEm6l6mzdvVp8+fZSYmCiLxSKLxaJx48ZZx//vf/9TWFiYihYtqooVK2ru3LnWx44ePSqLxaLPPvtMzZs3V6FChdSgQQP9/vvv2rVrlwICAlSkSBF16NBBf//99+0ePgDAXURwAgA4THR0tKpXr67q1avrmWee0fz582UYRoZ9f/jhB/Xv31+vvvqq9u3bp3bt2umtt96y6bNy5Uq9+uqrGjJkiH755Rf169dPffr00aZNm2z6jR07Vt26ddOBAwcUFhZm81hgYKBmzJghDw8PxcfHKz4+Xq+99pr18WnTpikgIECxsbF66aWX9OKLL+q3336z2/7o0aO1d+9eOTs768knn9SwYcM0c+ZMbd26VX/++afGjBlzO4cOAHC3GQAAOEhgYKAxY8YMwzAM4/r160apUqWMmJgYwzAMY9OmTYYk459//jEMwzBCQ0ONzp0724x/+umnDU9PT5vtPf/88zZ9nnjiCaNTp07W+5KMQYMG2fS5eV/z58+32W46X19f45lnnrHeT0tLM8qUKWPMnj3bMAzD+OuvvwxJxrx586x9li5dakgyNmzYYG2LiIgwqlevntWhAQDkMZxxAgA4xOHDh7Vz50716NFDkuTs7KzQ0FBFRUVl2r9hw4Y2bTffP3TokJo2bWrT1rRpUx06dMimLSAg4Jbrfvjhh63/bbFYVLZsWSUkJGTax8vLS5L00EMP2bTdPAYAkLc5O7oAAED+FBkZqZSUFJUvX97aZhiGChYsqH/++ceuv2EYdos3GBlM68uoz81thQsXvuW6CxYsaLe/tLS0TPuk7/vmtpvHAADyNs44AQDuupSUFC1atEjTpk3Tvn37rLf9+/fL19dXixcvthtTo0YN7dy506Zt9+7dNvf9/f21bds2m7bt27fL398/R/W5uLgoNTU1R2MAAPc3zjgBAO66b775Rv/884/69u1r/e2kdN27d1dkZKTeffddm/YBAwaoRYsWmj59urp27aqNGzdqzZo1NmeThg4dqpCQENWrV09t2rTR119/rRUrVmj9+vU5qs/Pz08XL17Uhg0bVLt2bbm7u8vd3f3WnzAA4J7HGScAwF0XGRmptm3b2oUmSXr88ce1b98+7d2716a9adOmmjNnjqZPn67atWtr7dq1Gjx4sNzc3Kx9goODNXPmTE2dOlUPPvigPvroI82fP18tW7bMUX2BgYHq37+/QkNDVbp0aU2ZMuWWnicA4P5hMTKaIA4AwD3g+eef12+//aatW7c6uhQAwH2OqXoAgHvGO++8o3bt2qlw4cJas2aNFi5cqFmzZjm6LABAPsAZJwDAPSMkJESbN29WcnKyKleurAEDBqh///6OLgsAkA8QnAAAAADABItDAAAAAIAJghMAAAAAmCA4AQAAAIAJghMAAAAAmCA4AQAAAIAJghMAAAAAmCA4AQAAAIAJghMAAAAAmPg/hxweVv0tc54AAAAASUVORK5CYII=",
      "text/plain": [
       "<Figure size 1000x600 with 1 Axes>"
=======
      "image/png": "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",
      "text/plain": [
       "<Figure size 500x300 with 1 Axes>"
>>>>>>> f2955b6 (added the knn algorithm to the mix. testing out hyperparameter optimization but this seems not feasible)
      ]
     },
     "metadata": {},
     "output_type": "display_data"
    }
   ],
   "source": [
    "import matplotlib.pyplot as plt\n",
    "\n",
    "# Create a bar plot to compare the accuracy of the algorithms\n",
    "algorithms = ['MultinomialNB', 'kNN']\n",
    "accuracies = [accuracy, accuracy_knn]\n",
    "\n",
<<<<<<< HEAD
    "plt.figure(figsize=(10, 6))\n",
    "plt.bar(algorithms, accuracies, color=['blue', 'green'])\n",
=======
    "plt.figure(figsize=(5, 3))\n",
    "plt.bar(algorithms, accuracies, color=['blue', 'red'])\n",
>>>>>>> f2955b6 (added the knn algorithm to the mix. testing out hyperparameter optimization but this seems not feasible)
    "plt.xlabel('Algorithm')\n",
    "plt.ylabel('Accuracy')\n",
    "plt.title('Accuracy Comparison of MultinomialNB and kNN')\n",
    "plt.ylim(0, 1)\n",
    "plt.show()"
   ]
  },
  {
   "cell_type": "markdown",
   "metadata": {},
   "source": [
    "# **TODO**"
   ]
  },
  {
   "cell_type": "markdown",
   "metadata": {},
   "source": [
    "**Dataset exploration and preprocessing**\n",
    "* find relevant columns\n",
    "* check the datatypes of the columns - convert if needed\n",
    "* check for missing values - handle missing values\n",
    "* check for duplicate rows\n",
    "* sjekke tekstlikhet (f.eks. nesten like setninger som kan være semantisk like).\n",
    "* check data distribution (class imbalance, length of text, etc.)\n",
    "  \n",
    "**Clean the Text Data: - text preprocessing**\n",
    "* lowercase text\n",
    "* Remove Noise: special characters, numbers, punctuation, URLs, HTML tags, Emojis, extra whitespace, etc.\n",
    "* Tokenization: Split text into words.\n",
    "* Stopword removal\n",
    "* Lemmatization/Stemming: gjøre begge men vise og skrive litt tekst ish: \"stemming vises her men åpenbart er lemmatization bedre...:\"\n",
    "\n",
    "**Convert Text into Numerical Representation**\n",
    "* Vectorization of the text - TFIDF greiene, bag of words osv\n",
    "* prøv ulike måter\n",
    "* Bag of Words (BoW): Convert text into a numerical representation using word frequency.\n",
    "* TF-IDF (Term Frequency-Inverse Document Frequency): Weigh words based on their importance in the dataset.\n",
    "* Word Embeddings: Use pre-trained models like Word2Vec, GloVe, or FastText for contextual meaning.\n",
    "\n",
    "**Splitting Data for Training and Testing**\n",
    "* Try different data splits (70/30) etc.\n",
    "\n",
    "**Model Selection & Training**\n",
    "* Prøv å justere parametre\n",
    "\n",
    "**Evaluating models**\n",
    "* Use multiple metrics, not just accuracy (e.g., F1-score, precision-recall)\n",
    "* Confusion matrix analysis (to see misclassified examples)"
   ]
  }
 ],
 "metadata": {
  "kernelspec": {
   "display_name": "base",
   "language": "python",
   "name": "python3"
  },
  "language_info": {
   "codemirror_mode": {
    "name": "ipython",
    "version": 3
   },
   "file_extension": ".py",
   "mimetype": "text/x-python",
   "name": "python",
   "nbconvert_exporter": "python",
   "pygments_lexer": "ipython3",
   "version": "3.12.7"
  }
 },
 "nbformat": 4,
 "nbformat_minor": 2
}
